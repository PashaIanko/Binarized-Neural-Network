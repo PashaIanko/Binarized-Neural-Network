{
  "nbformat": 4,
  "nbformat_minor": 0,
  "metadata": {
    "colab": {
      "name": "KDM project.ipynb",
      "provenance": []
    },
    "kernelspec": {
      "name": "python3",
      "display_name": "Python 3"
    },
    "language_info": {
      "name": "python"
    }
  },
  "cells": [
    {
      "cell_type": "markdown",
      "source": [
        "# Packages"
      ],
      "metadata": {
        "id": "T34lv-eU3Qge"
      }
    },
    {
      "cell_type": "code",
      "source": [
        "from sympy.logic.boolalg import to_cnf\n",
        "from sympy.abc import A, B, C, D, E, F, G, H, J\n",
        "import itertools\n",
        "import numpy as np\n",
        "from sklearn.metrics import accuracy_score"
      ],
      "metadata": {
        "id": "8GnD2xG-Yogn"
      },
      "execution_count": 1,
      "outputs": []
    },
    {
      "cell_type": "code",
      "source": [
        "%%capture\n",
        "!pip install python-sat"
      ],
      "metadata": {
        "id": "qmIq0duBhPyO"
      },
      "execution_count": 2,
      "outputs": []
    },
    {
      "cell_type": "code",
      "source": [
        "from pysat.examples.fm import FM\n",
        "from pysat.formula import WCNF\n",
        "from itertools import combinations\n",
        "import math"
      ],
      "metadata": {
        "id": "PsyheJ3iyYwZ"
      },
      "execution_count": 3,
      "outputs": []
    },
    {
      "cell_type": "code",
      "source": [
        "class Model:\n",
        "    def __init__(self, n_neurons):\n",
        "        self.n_neurons = n_neurons\n",
        "        self.wcnf_form = WCNF()\n",
        "        self.FuMalik = None\n",
        "\n",
        "        self.weights_solution = None\n",
        "\n",
        "    def compute_solution(self):\n",
        "        self.FuMalik = FM(self.wcnf_form, verbose = 10)\n",
        "        self.FuMalik.compute()\n",
        "\n",
        "        self.weights_solution = self.FuMalik.model[:self.n_neurons]\n",
        "        self.weights_solution = [val > 0 for val in self.weights_solution]  # Bool vector\n",
        "\n",
        "    def append_positive_clause(self, data, target_index):\n",
        "        # print(f'Encoding for y True')\n",
        "        for positive_clause in data.positive_clauses:\n",
        "            # if (1, -2) clause --> [(w[0] V ~x[i][0]) V (~w[1] V x[i][1])] clause\n",
        "            clause_to_add = []\n",
        "            for index in positive_clause:\n",
        "                abs_index = abs(index)\n",
        "                prop_weight = data.prop_weights[abs_index - 1]  # variable, where weight is encoded\n",
        "                prop_feature = data.prop_features[target_index][abs_index - 1]  # feature, that is encoded\n",
        "\n",
        "                if index < 0:\n",
        "                    clause_to_add.extend([int(-prop_weight), int(prop_feature)])\n",
        "                else:\n",
        "                    clause_to_add.extend([int(prop_weight), int(-prop_feature)])\n",
        "            # print(f'Clause: {clause_to_add}')\n",
        "            self.wcnf_form.append(clause_to_add, weight = 1)\n",
        "\n",
        "    def calc_update(self, letters, x, w):\n",
        "        # ['~', 'x', '2']\n",
        "        x_or_w = ''\n",
        "        to_put_minus = 1\n",
        "\n",
        "        if letters[0] == '~':\n",
        "            x_or_w = letters[1]\n",
        "            to_put_minus = -1\n",
        "        else:\n",
        "            x_or_w = letters[0]\n",
        "            to_put_minus = 1\n",
        "        \n",
        "        index = int(letters[-1])\n",
        "        if x_or_w == 'x':\n",
        "            return int(to_put_minus * x[index - 1])\n",
        "            \n",
        "        if x_or_w == 'w':\n",
        "            return int(to_put_minus * w[index - 1])\n",
        "\n",
        "    def append_negative_clause(self, data, target_index):\n",
        "        # print(f'Encoding for negative y')\n",
        "        for negative_clause in data.negative_clauses:\n",
        "            # ('w 1', 'x 1', '~ w 2', '~ x 2')\n",
        "\n",
        "            clause_to_add = []\n",
        "            for symbol in negative_clause:\n",
        "                # symbol is a string, like \"w 1\" or \"~ x 2\"\n",
        "                letters = symbol.split(' ')\n",
        "                clause_to_add.append(int(self.calc_update(letters, data.prop_features[target_index], data.prop_weights)))\n",
        "            \n",
        "            # print(f'Clause: {clause_to_add}')\n",
        "            self.wcnf_form.append(clause_to_add, weight = 1)\n",
        "\n",
        "\n",
        "    def encode_soft_clauses(self, data):\n",
        "        Y_train = data.Y_train\n",
        "\n",
        "        for i in range(len(Y_train)):\n",
        "    \n",
        "            y_i = Y_train[i]\n",
        "\n",
        "            if y_i == True:\n",
        "                self.append_positive_clause(data, target_index = i)\n",
        "\n",
        "            if y_i == False:\n",
        "                self.append_negative_clause(data, target_index = i)\n",
        "            \n",
        "    def encode_hard_clauses(self, data):\n",
        "        for i in range(len(data.X_train)):\n",
        "            for j in range(len(data.X_train[0])):\n",
        "                \n",
        "                if data.X_train[i][j] == True:\n",
        "                    self.wcnf_form.append([int(data.prop_features[i][j])])\n",
        "                else:\n",
        "                    self.wcnf_form.append([int(-data.prop_features[i][j])])\n",
        "\n",
        "    def calc_accuracy(self, X, Y):\n",
        "        int_weights = np.array(self.weights_solution, dtype = 'int')\n",
        "\n",
        "        pred = np.sign(np.dot(X, int_weights))\n",
        "        return accuracy_score(Y, pred)\n",
        "\n",
        "    def calc_metrics(self, X, Y):\n",
        "\n",
        "        acc = self.calc_accuracy(\n",
        "            np.array(X, dtype = 'int'),\n",
        "            np.array(Y, dtype = 'int')\n",
        "        )\n",
        "        print(f'Accuracy: {acc}')\n",
        "        \n",
        "class DataProperties:\n",
        "    def __init__(self, n_features, n_samples, train_percentage):\n",
        "        self.n_features = n_features\n",
        "        self.n_samples = n_samples\n",
        "        self.train_percentage = train_percentage\n",
        "        self.test_percentage = 1 - train_percentage\n",
        "        \n",
        "        self.n_train = int(self.train_percentage * self.n_samples)\n",
        "        self.n_test = self.n_samples - self.n_train\n",
        "\n",
        "        self.X_train = None\n",
        "        self.Y_train = None\n",
        "        self.X_test = None\n",
        "        self.Y_test = None\n",
        "        \n",
        "        self.prop_features = None\n",
        "        self.prop_weights = np.array([i + 1 for i in range(n_features)])\n",
        "\n",
        "        self.features_combinations = None\n",
        "        self.cartesian_products = None\n",
        "\n",
        "        self.positive_clauses = []\n",
        "        self.negative_clauses = []\n",
        "    \n",
        "    def encode_propositional_features(self):\n",
        "        self.prop_features = np.array(\n",
        "            [[i*self.n_features + j + max(self.prop_weights) + 1 for j in range(self.n_features)] for i in range(self.n_train)]\n",
        "        )\n",
        "\n",
        "    def prepare_dataset(self, func):\n",
        "        np.random.seed(123)\n",
        "\n",
        "        sample_arr = [True, False]\n",
        "        \n",
        "\n",
        "        self.X_train = np.random.choice(sample_arr, size = (self.n_train, self.n_features))\n",
        "        self.X_test = np.random.choice(sample_arr, size = (self.n_test, self.n_features))\n",
        "\n",
        "        self.Y_train = [func(x) for x in self.X_train]\n",
        "        self.Y_test = [func(x) for x in self.X_test]\n",
        "\n",
        "\n",
        "    def encode_features_combinations(self):\n",
        "\n",
        "        majority_size = int(np.ceil(self.n_features / 2))\n",
        "        assert(majority_size == np.floor(self.n_features / 2) + 1)\n",
        "        self.features_combinations = list(combinations(self.prop_weights, majority_size))\n",
        "\n",
        "    def remove_redundant(self, elements):\n",
        "        res = []\n",
        "        for e in elements:\n",
        "            if not (e in res):\n",
        "                res.append(e)\n",
        "        return res\n",
        "\n",
        "    def encode_cartesian_products(self):\n",
        "        prods = list(itertools.product(*self.features_combinations))\n",
        "        prods = [np.unique(combo).tolist() for combo in prods]\n",
        "        self.cartesian_products = self.remove_redundant(prods)\n",
        "\n",
        "    def prepare_predfinal_clauses(self):\n",
        "        predfinal_clauses = []\n",
        "        for product in self.cartesian_products:\n",
        "            bracket = []\n",
        "            for val in product:\n",
        "                bracket.append([val, -val])\n",
        "            predfinal_clauses.append(bracket)\n",
        "        return predfinal_clauses\n",
        "\n",
        "\n",
        "    def encode_positive_clauses(self):\n",
        "        # Each element of optimized_products represents:\n",
        "        # [1, 2] --> (w1 == x_i1) V (w2 == x_i2). But we have not transfered to CNF yet\n",
        "        # To do that: [(~w1 V x_i1) & (w1 V ~x_i1)] V [(~w2 V x_i2) & (w2 V ~x_i2)]\n",
        "        # which is 'encoded' as [[1, -1], [2, -2]]\n",
        "\n",
        "        predfinal_clauses = self.prepare_predfinal_clauses()\n",
        "\n",
        "        # And now we are creating final clauses\n",
        "        for predfinal_clause in predfinal_clauses:\n",
        "            clauses = list(itertools.product(*predfinal_clause))\n",
        "            \n",
        "            for clause in clauses:\n",
        "                self.positive_clauses.append(clause)\n",
        "\n",
        "    def encode_negative_clauses(self):\n",
        "\n",
        "        ws_xs_list = []\n",
        "        for combo in self.features_combinations:\n",
        "            # print(combo)\n",
        "            symbols = []\n",
        "            for i in combo:\n",
        "                symbols.extend([[f'w {i}', f'~ w {i}']])\n",
        "                symbols.extend([[f'x {i}', f'~ x {i}']])\n",
        "            ws_xs_list.append(symbols)\n",
        "        \n",
        "        for combination in ws_xs_list:\n",
        "            for clause in itertools.product(*combination):\n",
        "                # print(clause)\n",
        "                self.negative_clauses.append(clause)\n"
      ],
      "metadata": {
        "id": "myBBKiZMCTl_"
      },
      "execution_count": 7,
      "outputs": []
    },
    {
      "cell_type": "markdown",
      "source": [
        "# Prepare indices"
      ],
      "metadata": {
        "id": "QRGzAw8gfY5P"
      }
    },
    {
      "cell_type": "code",
      "source": [
        "model = Model(n_neurons = 3)\n",
        "\n",
        "data = DataProperties(\n",
        "    n_features = model.n_neurons,\n",
        "    n_samples = 60,\n",
        "    train_percentage = 0.8  # test % = 100 - train %\n",
        ")"
      ],
      "metadata": {
        "id": "wvhysD6xfcQD"
      },
      "execution_count": 22,
      "outputs": []
    },
    {
      "cell_type": "markdown",
      "source": [
        "## Encode propositional features"
      ],
      "metadata": {
        "id": "T9Csoc-05KxK"
      }
    },
    {
      "cell_type": "code",
      "source": [
        "# define propositional variables for X\n",
        "# propositional features cannot have same indices as w --> + 1 + max(w)\n",
        "data.encode_propositional_features()"
      ],
      "metadata": {
        "id": "1nnnBigL5NHG"
      },
      "execution_count": 23,
      "outputs": []
    },
    {
      "cell_type": "code",
      "source": [
        "# Now prepare all cartesian products (for the case whey y == 1)\n",
        "data.encode_features_combinations()\n",
        "data.encode_cartesian_products()"
      ],
      "metadata": {
        "id": "rN2jQEZz6HAj"
      },
      "execution_count": 24,
      "outputs": []
    },
    {
      "cell_type": "markdown",
      "source": [
        "## Encode clauses indices"
      ],
      "metadata": {
        "id": "ONWQlrlw88Y1"
      }
    },
    {
      "cell_type": "code",
      "source": [
        "data.encode_positive_clauses()\n",
        "data.encode_negative_clauses()"
      ],
      "metadata": {
        "id": "LoelTYMa8_JN"
      },
      "execution_count": 25,
      "outputs": []
    },
    {
      "cell_type": "markdown",
      "source": [
        "# Preparing dataset"
      ],
      "metadata": {
        "id": "zun-o_oZN_Ri"
      }
    },
    {
      "cell_type": "code",
      "source": [
        "def check_2nd_feature(x):\n",
        "    return x[1] == True\n",
        "\n",
        "data.prepare_dataset(\n",
        "    func = check_2nd_feature\n",
        ")"
      ],
      "metadata": {
        "id": "GreQ9GEMCka_"
      },
      "execution_count": 26,
      "outputs": []
    },
    {
      "cell_type": "code",
      "source": [
        "import seaborn as sns\n",
        "\n",
        "sns.histplot(np.array(data.Y_train, dtype = 'int'))\n",
        "sns.histplot(np.array(data.Y_test, dtype = 'int'))"
      ],
      "metadata": {
        "id": "sLzlSrV0LbkI",
        "outputId": "8c951b00-02f7-4b51-b5ea-64c8b4a9a688",
        "colab": {
          "base_uri": "https://localhost:8080/",
          "height": 282
        }
      },
      "execution_count": 27,
      "outputs": [
        {
          "output_type": "execute_result",
          "data": {
            "text/plain": [
              "<matplotlib.axes._subplots.AxesSubplot at 0x7f0a24106cd0>"
            ]
          },
          "metadata": {},
          "execution_count": 27
        },
        {
          "output_type": "display_data",
          "data": {
            "text/plain": [
              "<Figure size 432x288 with 1 Axes>"
            ],
            "image/png": "[encoded data removed]"
          },
          "metadata": {
            "needs_background": "light"
          }
        }
      ]
    },
    {
      "cell_type": "markdown",
      "source": [
        "# Encoding into clauses"
      ],
      "metadata": {
        "id": "FSTLEXPcQO50"
      }
    },
    {
      "cell_type": "code",
      "source": [
        "model.encode_soft_clauses(data)\n",
        "model.encode_hard_clauses(data)"
      ],
      "metadata": {
        "id": "D29uiXjIs8WU"
      },
      "execution_count": 28,
      "outputs": []
    },
    {
      "cell_type": "markdown",
      "source": [
        "# Compute solution"
      ],
      "metadata": {
        "id": "JGX2hhRFjiLq"
      }
    },
    {
      "cell_type": "code",
      "source": [
        "model.compute_solution()"
      ],
      "metadata": {
        "id": "4_MqjrxxtFjR",
        "outputId": "89f18359-b8bd-4510-fb65-f48bf81553b8",
        "colab": {
          "base_uri": "https://localhost:8080/"
        }
      },
      "execution_count": 29,
      "outputs": [
        {
          "output_type": "stream",
          "name": "stdout",
          "text": [
            "c cost: 1; core sz: 4\n",
            "c cost: 2; core sz: 4\n",
            "c cost: 3; core sz: 4\n",
            "c cost: 4; core sz: 4\n",
            "c cost: 5; core sz: 4\n",
            "c cost: 6; core sz: 4\n",
            "c cost: 7; core sz: 4\n",
            "c cost: 8; core sz: 4\n",
            "c cost: 9; core sz: 4\n",
            "c cost: 10; core sz: 4\n",
            "c cost: 11; core sz: 4\n",
            "c cost: 12; core sz: 4\n",
            "c cost: 13; core sz: 5\n",
            "c cost: 14; core sz: 6\n",
            "c cost: 15; core sz: 5\n",
            "c cost: 16; core sz: 6\n",
            "c cost: 17; core sz: 5\n",
            "c cost: 18; core sz: 4\n",
            "c cost: 19; core sz: 5\n",
            "c cost: 20; core sz: 4\n",
            "c cost: 21; core sz: 4\n",
            "c cost: 22; core sz: 6\n",
            "c cost: 23; core sz: 7\n",
            "c cost: 24; core sz: 5\n",
            "c cost: 25; core sz: 5\n",
            "c cost: 26; core sz: 4\n",
            "c cost: 27; core sz: 5\n",
            "c cost: 28; core sz: 5\n",
            "c cost: 29; core sz: 4\n",
            "c cost: 30; core sz: 4\n",
            "c cost: 31; core sz: 9\n",
            "c cost: 32; core sz: 6\n",
            "c cost: 33; core sz: 4\n",
            "c cost: 34; core sz: 4\n",
            "c cost: 35; core sz: 4\n",
            "c cost: 36; core sz: 4\n",
            "c cost: 37; core sz: 4\n",
            "c cost: 38; core sz: 4\n",
            "c cost: 39; core sz: 4\n",
            "c cost: 40; core sz: 4\n",
            "c cost: 41; core sz: 4\n",
            "c cost: 42; core sz: 4\n",
            "c cost: 43; core sz: 4\n",
            "c cost: 44; core sz: 4\n",
            "c cost: 45; core sz: 4\n",
            "c cost: 46; core sz: 4\n",
            "c cost: 47; core sz: 4\n",
            "c cost: 48; core sz: 4\n",
            "c cost: 49; core sz: 4\n",
            "c cost: 50; core sz: 4\n",
            "c cost: 51; core sz: 4\n",
            "c cost: 52; core sz: 4\n",
            "c cost: 53; core sz: 5\n",
            "c cost: 54; core sz: 5\n",
            "c cost: 55; core sz: 4\n",
            "c cost: 56; core sz: 5\n",
            "c cost: 57; core sz: 5\n",
            "c cost: 58; core sz: 4\n",
            "c cost: 59; core sz: 5\n",
            "c cost: 60; core sz: 5\n",
            "c cost: 61; core sz: 4\n",
            "c cost: 62; core sz: 5\n",
            "c cost: 63; core sz: 5\n",
            "c cost: 64; core sz: 4\n",
            "c cost: 65; core sz: 5\n",
            "c cost: 66; core sz: 5\n",
            "c cost: 67; core sz: 4\n",
            "c cost: 68; core sz: 4\n",
            "c cost: 69; core sz: 6\n",
            "c cost: 70; core sz: 5\n"
          ]
        }
      ]
    },
    {
      "cell_type": "markdown",
      "source": [
        "# Checking the solution on the training data"
      ],
      "metadata": {
        "id": "R2W1b93flk-i"
      }
    },
    {
      "cell_type": "code",
      "source": [
        "model.calc_metrics(data.X_train, data.Y_train)"
      ],
      "metadata": {
        "id": "v86qay4EuJ1c",
        "outputId": "b2d930aa-9290-448f-b8a6-1799522933c9",
        "colab": {
          "base_uri": "https://localhost:8080/"
        }
      },
      "execution_count": 30,
      "outputs": [
        {
          "output_type": "stream",
          "name": "stdout",
          "text": [
            "Accuracy: 0.8333333333333334\n"
          ]
        }
      ]
    },
    {
      "cell_type": "code",
      "source": [
        "model.calc_metrics(data.X_test, data.Y_test)"
      ],
      "metadata": {
        "id": "oU_xSLvEL1hy",
        "outputId": "4de3abb7-90ba-416c-fd44-1ba24259de1e",
        "colab": {
          "base_uri": "https://localhost:8080/"
        }
      },
      "execution_count": 31,
      "outputs": [
        {
          "output_type": "stream",
          "name": "stdout",
          "text": [
            "Accuracy: 0.75\n"
          ]
        }
      ]
    },
    {
      "cell_type": "code",
      "source": [
        ""
      ],
      "metadata": {
        "id": "W5g1TjhEMGnP"
      },
      "execution_count": null,
      "outputs": []
    }
  ]
}