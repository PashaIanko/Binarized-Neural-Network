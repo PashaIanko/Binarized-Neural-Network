{
  "nbformat": 4,
  "nbformat_minor": 0,
  "metadata": {
    "colab": {
      "name": "KDM project.ipynb",
      "provenance": []
    },
    "kernelspec": {
      "name": "python3",
      "display_name": "Python 3"
    },
    "language_info": {
      "name": "python"
    }
  },
  "cells": [
    {
      "cell_type": "markdown",
      "source": [
        "# Packages"
      ],
      "metadata": {
        "id": "T34lv-eU3Qge"
      }
    },
    {
      "cell_type": "code",
      "source": [
        "from sympy.logic.boolalg import to_cnf\n",
        "from sympy.abc import A, B, C, D, E, F, G, H, J\n",
        "import itertools\n",
        "import numpy as np\n",
        "from sklearn.metrics import accuracy_score\n",
        "\n",
        "import seaborn as sns\n",
        "import matplotlib.pyplot as plt\n",
        "from timeit import default_timer"
      ],
      "metadata": {
        "id": "8GnD2xG-Yogn"
      },
      "execution_count": 1,
      "outputs": []
    },
    {
      "cell_type": "code",
      "source": [
        "%%capture\n",
        "!pip install python-sat"
      ],
      "metadata": {
        "id": "qmIq0duBhPyO"
      },
      "execution_count": 2,
      "outputs": []
    },
    {
      "cell_type": "code",
      "source": [
        "from pysat.examples.fm import FM\n",
        "from pysat.formula import WCNF\n",
        "from itertools import combinations\n",
        "import math"
      ],
      "metadata": {
        "id": "PsyheJ3iyYwZ"
      },
      "execution_count": 3,
      "outputs": []
    },
    {
      "cell_type": "code",
      "source": [
        "class Model:\n",
        "    def __init__(self, n_neurons):\n",
        "        self.n_neurons = n_neurons\n",
        "        self.wcnf_form = WCNF()\n",
        "        self.FuMalik = None\n",
        "\n",
        "        self.weights_solution = None\n",
        "\n",
        "    def compute_solution(self):\n",
        "        self.FuMalik = FM(self.wcnf_form, verbose = 1)\n",
        "        self.FuMalik.compute()\n",
        "\n",
        "        self.weights_solution = self.FuMalik.model[:self.n_neurons]\n",
        "        self.weights_solution = [val > 0 for val in self.weights_solution]  # Bool vector\n",
        "\n",
        "    def append_positive_clause(self, data, target_index):\n",
        "        # print(f'Encoding for y True')\n",
        "        for positive_clause in data.positive_clauses:\n",
        "            # if (1, -2) clause --> [(w[0] V ~x[i][0]) V (~w[1] V x[i][1])] clause\n",
        "            clause_to_add = []\n",
        "            for index in positive_clause:\n",
        "                abs_index = abs(index)\n",
        "                prop_weight = data.prop_weights[abs_index - 1]  # variable, where weight is encoded\n",
        "                prop_feature = data.prop_features[target_index][abs_index - 1]  # feature, that is encoded\n",
        "\n",
        "                if index < 0:\n",
        "                    clause_to_add.extend([int(-prop_weight), int(prop_feature)])\n",
        "                else:\n",
        "                    clause_to_add.extend([int(prop_weight), int(-prop_feature)])\n",
        "            # print(f'Clause: {clause_to_add}')\n",
        "            self.wcnf_form.append(clause_to_add, weight = 1)\n",
        "\n",
        "    def calc_update(self, letters, x, w):\n",
        "        # ['~', 'x', '2']\n",
        "        x_or_w = ''\n",
        "        to_put_minus = 1\n",
        "\n",
        "        if letters[0] == '~':\n",
        "            x_or_w = letters[1]\n",
        "            to_put_minus = -1\n",
        "        else:\n",
        "            x_or_w = letters[0]\n",
        "            to_put_minus = 1\n",
        "        \n",
        "        index = int(letters[-1])\n",
        "        if x_or_w == 'x':\n",
        "            return int(to_put_minus * x[index - 1])\n",
        "            \n",
        "        if x_or_w == 'w':\n",
        "            return int(to_put_minus * w[index - 1])\n",
        "\n",
        "    def append_negative_clause(self, data, target_index):\n",
        "        # print(f'Encoding for negative y')\n",
        "        for negative_clause in data.negative_clauses:\n",
        "            # ('w 1', 'x 1', '~ w 2', '~ x 2')\n",
        "\n",
        "            clause_to_add = []\n",
        "            for symbol in negative_clause:\n",
        "                # symbol is a string, like \"w 1\" or \"~ x 2\"\n",
        "                letters = symbol.split(' ')\n",
        "                clause_to_add.append(int(self.calc_update(letters, data.prop_features[target_index], data.prop_weights)))\n",
        "            \n",
        "            # print(f'Clause: {clause_to_add}')\n",
        "            self.wcnf_form.append(clause_to_add, weight = 1)\n",
        "\n",
        "\n",
        "    def encode_soft_clauses(self, data):\n",
        "        Y_train = data.Y_train\n",
        "\n",
        "        for i in range(len(Y_train)):\n",
        "    \n",
        "            y_i = Y_train[i]\n",
        "\n",
        "            if y_i == True:\n",
        "                self.append_positive_clause(data, target_index = i)\n",
        "\n",
        "            if y_i == False:\n",
        "                self.append_negative_clause(data, target_index = i)\n",
        "            \n",
        "    def encode_hard_clauses(self, data):\n",
        "        for i in range(len(data.X_train)):\n",
        "            for j in range(len(data.X_train[0])):\n",
        "                \n",
        "                if data.X_train[i][j] == True:\n",
        "                    self.wcnf_form.append([int(data.prop_features[i][j])])\n",
        "                else:\n",
        "                    self.wcnf_form.append([int(-data.prop_features[i][j])])\n",
        "\n",
        "    def calc_accuracy(self, X, Y):\n",
        "        int_weights = np.array(self.weights_solution, dtype = 'int')\n",
        "\n",
        "        pred = np.sign(np.dot(X, int_weights))\n",
        "        return accuracy_score(Y, pred)\n",
        "\n",
        "    def calc_metrics(self, X, Y):\n",
        "\n",
        "        acc = self.calc_accuracy(\n",
        "            np.array(X, dtype = 'int'),\n",
        "            np.array(Y, dtype = 'int')\n",
        "        )\n",
        "        # print(f'Accuracy: {acc}')\n",
        "        return acc\n",
        "        \n",
        "class DataProperties:\n",
        "    def __init__(self, n_features, n_samples, train_percentage):\n",
        "        self.n_features = n_features\n",
        "        self.n_samples = n_samples\n",
        "        self.train_percentage = train_percentage\n",
        "        self.test_percentage = 1 - train_percentage\n",
        "        \n",
        "        self.n_train = int(self.train_percentage * self.n_samples)\n",
        "        self.n_test = self.n_samples - self.n_train\n",
        "\n",
        "        self.X_train = None\n",
        "        self.Y_train = None\n",
        "        self.X_test = None\n",
        "        self.Y_test = None\n",
        "        \n",
        "        self.prop_features = None\n",
        "        self.prop_weights = np.array([i + 1 for i in range(n_features)])\n",
        "\n",
        "        self.features_combinations = None\n",
        "        self.cartesian_products = None\n",
        "\n",
        "        self.positive_clauses = []\n",
        "        self.negative_clauses = []\n",
        "    \n",
        "    def encode_propositional_features(self):\n",
        "        self.prop_features = np.array(\n",
        "            [[i*self.n_features + j + max(self.prop_weights) + 1 for j in range(self.n_features)] for i in range(self.n_train)]\n",
        "        )\n",
        "\n",
        "    def prepare_dataset(self, func):\n",
        "        np.random.seed(123)\n",
        "\n",
        "        sample_arr = [True, False]\n",
        "        \n",
        "\n",
        "        self.X_train = np.random.choice(sample_arr, size = (self.n_train, self.n_features))\n",
        "        self.X_test = np.random.choice(sample_arr, size = (self.n_test, self.n_features))\n",
        "\n",
        "        self.Y_train = [func(x) for x in self.X_train]\n",
        "        self.Y_test = [func(x) for x in self.X_test]\n",
        "\n",
        "    def prepare_balanced_dataset(self, func):\n",
        "        # np.random.seed(123) \n",
        "        \n",
        "        X = list(itertools.product([False, True], repeat=self.n_features))\n",
        "        Y = np.array([func(x) for x in X])\n",
        "\n",
        "        idx_true = np.where(Y == True)[0]\n",
        "        idx_false = np.where(Y == False)[0]\n",
        "        assert(len(idx_true) + len(idx_false) == len(Y))\n",
        "\n",
        "        # We need to balance dataset --> we will use the subsets\n",
        "        # of True and False of equal cardinality (minimal of the\n",
        "        # True or False subsets)\n",
        "        min_length = min(len(idx_true), len(idx_false))\n",
        "\n",
        "        y_balanced = []\n",
        "        x_balanced = []\n",
        "\n",
        "        for i in range(min_length):\n",
        "            true_idx = idx_true[i]\n",
        "            false_idx = idx_false[i]\n",
        "            \n",
        "            y_balanced.append(Y[true_idx])\n",
        "            x_balanced.append(X[true_idx])\n",
        "            \n",
        "            y_balanced.append(Y[false_idx])\n",
        "            x_balanced.append(X[false_idx])\n",
        "\n",
        "        self.X_train, self.X_test, self.Y_train, self.Y_test = train_test_split(\n",
        "            x_balanced, \n",
        "            y_balanced, \n",
        "            stratify = y_balanced,\n",
        "            test_size = self.n_test\n",
        "        )\n",
        "\n",
        "    def encode_features_combinations(self):\n",
        "\n",
        "        majority_size = int(np.ceil(self.n_features / 2))\n",
        "        assert(majority_size == np.floor(self.n_features / 2) + 1)\n",
        "        self.features_combinations = list(combinations(self.prop_weights, majority_size))\n",
        "\n",
        "    def remove_redundant(self, elements):\n",
        "        res = []\n",
        "        for e in elements:\n",
        "            if not (e in res):\n",
        "                res.append(e)\n",
        "        return res\n",
        "\n",
        "    def encode_cartesian_products(self):\n",
        "        prods = list(itertools.product(*self.features_combinations))\n",
        "        prods = [np.unique(combo).tolist() for combo in prods]\n",
        "        self.cartesian_products = self.remove_redundant(prods)\n",
        "\n",
        "    def prepare_predfinal_clauses(self):\n",
        "        predfinal_clauses = []\n",
        "        for product in self.cartesian_products:\n",
        "            bracket = []\n",
        "            for val in product:\n",
        "                bracket.append([val, -val])\n",
        "            predfinal_clauses.append(bracket)\n",
        "        return predfinal_clauses\n",
        "\n",
        "\n",
        "    def encode_positive_clauses(self):\n",
        "        # Each element of optimized_products represents:\n",
        "        # [1, 2] --> (w1 == x_i1) V (w2 == x_i2). But we have not transfered to CNF yet\n",
        "        # To do that: [(~w1 V x_i1) & (w1 V ~x_i1)] V [(~w2 V x_i2) & (w2 V ~x_i2)]\n",
        "        # which is 'encoded' as [[1, -1], [2, -2]]\n",
        "\n",
        "        predfinal_clauses = self.prepare_predfinal_clauses()\n",
        "\n",
        "        # And now we are creating final clauses\n",
        "        for predfinal_clause in predfinal_clauses:\n",
        "            clauses = list(itertools.product(*predfinal_clause))\n",
        "            \n",
        "            for clause in clauses:\n",
        "                self.positive_clauses.append(clause)\n",
        "\n",
        "    def encode_negative_clauses(self):\n",
        "\n",
        "        ws_xs_list = []\n",
        "        for combo in self.features_combinations:\n",
        "            # print(combo)\n",
        "            symbols = []\n",
        "            for i in combo:\n",
        "                symbols.extend([[f'w {i}', f'~ w {i}']])\n",
        "                symbols.extend([[f'x {i}', f'~ x {i}']])\n",
        "            ws_xs_list.append(symbols)\n",
        "        \n",
        "        for combination in ws_xs_list:\n",
        "            for clause in itertools.product(*combination):\n",
        "                # print(clause)\n",
        "                self.negative_clauses.append(clause)\n"
      ],
      "metadata": {
        "id": "myBBKiZMCTl_"
      },
      "execution_count": 85,
      "outputs": []
    },
    {
      "cell_type": "markdown",
      "source": [
        "# Basic pipeline"
      ],
      "metadata": {
        "id": "QRGzAw8gfY5P"
      }
    },
    {
      "cell_type": "markdown",
      "source": [
        "## Construct classes"
      ],
      "metadata": {
        "id": "IBIQDSncNdGR"
      }
    },
    {
      "cell_type": "code",
      "source": [
        "model = Model(n_neurons = 5)\n",
        "\n",
        "data = DataProperties(\n",
        "    n_features = model.n_neurons,\n",
        "    n_samples = 32,\n",
        "    train_percentage = 0.8  # test % = 100 - train %\n",
        ")"
      ],
      "metadata": {
        "id": "wvhysD6xfcQD"
      },
      "execution_count": 89,
      "outputs": []
    },
    {
      "cell_type": "markdown",
      "source": [
        "## Prepare data, encode propositional features, compute solution"
      ],
      "metadata": {
        "id": "T9Csoc-05KxK"
      }
    },
    {
      "cell_type": "code",
      "source": [
        "# define propositional variables for X\n",
        "# propositional features cannot have same indices as w --> + 1 + max(w)\n",
        "data.encode_propositional_features()\n",
        "\n",
        "# Now prepare all cartesian products (for the case whey y == 1)\n",
        "data.encode_features_combinations()\n",
        "data.encode_cartesian_products()\n",
        "\n",
        "data.encode_positive_clauses()\n",
        "data.encode_negative_clauses()\n",
        "\n",
        "# Prepare data\n",
        "def check_2nd_feature(x):\n",
        "    return x[2] == True\n",
        "\n",
        "data.prepare_balanced_dataset(func = check_2nd_feature)\n",
        "\n",
        "# Distribution of dataset:\n",
        "print(f'Distribution of Negative and positive classes in data:')\n",
        "fig, ax = plt.subplots(2, 1)\n",
        "sns.histplot(np.array(data.Y_train, dtype = 'int'), ax = ax[0])\n",
        "sns.histplot(np.array(data.Y_test, dtype = 'int'), ax = ax[1])\n",
        "\n",
        "\n",
        "model.encode_soft_clauses(data)\n",
        "model.encode_hard_clauses(data)\n",
        "model.compute_solution()\n",
        "\n",
        "train_acc = model.calc_metrics(data.X_train, data.Y_train)\n",
        "test_acc = model.calc_metrics(data.X_test, data.Y_test)\n",
        "\n",
        "print(f'Train acc: {train_acc}, Test acc: {test_acc}')"
      ],
      "metadata": {
        "id": "1nnnBigL5NHG",
        "colab": {
          "base_uri": "https://localhost:8080/",
          "height": 301
        },
        "outputId": "d8927a38-a319-4f44-a38b-3565b2582432"
      },
      "execution_count": 90,
      "outputs": [
        {
          "output_type": "stream",
          "name": "stdout",
          "text": [
            "Distribution of Negative and positive classes in data:\n",
            "Train acc: 0.76, Test acc: 0.7142857142857143\n"
          ]
        },
        {
          "output_type": "display_data",
          "data": {
            "text/plain": [
              "<Figure size 432x288 with 2 Axes>"
            ],
            "image/png": "[encoded data removed]"
          },
          "metadata": {
            "needs_background": "light"
          }
        }
      ]
    },
    {
      "cell_type": "code",
      "source": [
        "set(data.X_train).intersection(set(data.X_test))"
      ],
      "metadata": {
        "id": "UJIJZrkhTqfg",
        "outputId": "8460f9a1-0359-4329-9717-03dc79543c59",
        "colab": {
          "base_uri": "https://localhost:8080/"
        }
      },
      "execution_count": 95,
      "outputs": [
        {
          "output_type": "execute_result",
          "data": {
            "text/plain": [
              "set()"
            ]
          },
          "metadata": {},
          "execution_count": 95
        }
      ]
    },
    {
      "cell_type": "code",
      "source": [
        "len(model.wcnf_form.soft), len(model.wcnf_form.hard)"
      ],
      "metadata": {
        "colab": {
          "base_uri": "https://localhost:8080/"
        },
        "id": "IxDJL73VJdDa",
        "outputId": "a5bab379-9238-4701-c959-3983cd3cc791"
      },
      "execution_count": 53,
      "outputs": [
        {
          "output_type": "execute_result",
          "data": {
            "text/plain": [
              "(16640, 200)"
            ]
          },
          "metadata": {},
          "execution_count": 53
        }
      ]
    },
    {
      "cell_type": "markdown",
      "source": [
        "# Numerical experiments"
      ],
      "metadata": {
        "id": "TmHsh6MSNov_"
      }
    },
    {
      "cell_type": "code",
      "source": [
        "def prepare_balanced_dataset(n_features, func):\n",
        "        # np.random.seed(123) \n",
        "        \n",
        "        X = list(itertools.product([False, True], repeat=n_features))\n",
        "        Y = np.array([func(x) for x in X])\n",
        "\n",
        "        idx_true = np.where(Y == True)[0]\n",
        "        idx_false = np.where(Y == False)[0]\n",
        "        assert(len(idx_true) + len(idx_false) == len(Y))\n",
        "\n",
        "        # We need to balance dataset --> we will use the subsets\n",
        "        # of True and False of equal cardinality (minimal of the\n",
        "        # True or False subsets)\n",
        "        min_length = min(len(idx_true), len(idx_false))\n",
        "\n",
        "        y_balanced = []\n",
        "        x_balanced = []\n",
        "\n",
        "        for i in range(min_length):\n",
        "            true_idx = idx_true[i]\n",
        "            false_idx = idx_false[i]\n",
        "            \n",
        "            y_balanced.append(Y[true_idx])\n",
        "            x_balanced.append(X[true_idx])\n",
        "            \n",
        "            y_balanced.append(Y[false_idx])\n",
        "            x_balanced.append(X[false_idx])\n",
        "        return x_balanced, y_balanced\n",
        "\n",
        "def test_func(x):\n",
        "    return x[0] == True\n",
        "\n",
        "x_bal, y_bal = prepare_balanced_dataset(4, test_func)"
      ],
      "metadata": {
        "id": "-K1dxoYqRry6"
      },
      "execution_count": 81,
      "outputs": []
    },
    {
      "cell_type": "code",
      "source": [
        "from sklearn.model_selection import train_test_split\n",
        "\n",
        "x_train, x_test, y_train, y_test = train_test_split(x_bal, y_bal, stratify = y_bal)"
      ],
      "metadata": {
        "id": "dR0ijvebR2qd"
      },
      "execution_count": 82,
      "outputs": []
    },
    {
      "cell_type": "code",
      "source": [
        "y_bal = np.expand_dims(y_bal, axis = -1)\n",
        "y_bal"
      ],
      "metadata": {
        "id": "2PSR2qHWSRFS",
        "outputId": "b2ad2ee8-4078-4d61-d2b5-07424c704d4d",
        "colab": {
          "base_uri": "https://localhost:8080/"
        }
      },
      "execution_count": 78,
      "outputs": [
        {
          "output_type": "execute_result",
          "data": {
            "text/plain": [
              "array([[ True],\n",
              "       [False],\n",
              "       [ True],\n",
              "       [False],\n",
              "       [ True],\n",
              "       [False],\n",
              "       [ True],\n",
              "       [False],\n",
              "       [ True],\n",
              "       [False],\n",
              "       [ True],\n",
              "       [False],\n",
              "       [ True],\n",
              "       [False],\n",
              "       [ True],\n",
              "       [False]])"
            ]
          },
          "metadata": {},
          "execution_count": 78
        }
      ]
    },
    {
      "cell_type": "code",
      "source": [
        "x_test, y_test"
      ],
      "metadata": {
        "id": "doRvEGNeSGTp",
        "outputId": "f152d9d3-1c8e-4baa-f4bd-102156aa8948",
        "colab": {
          "base_uri": "https://localhost:8080/"
        }
      },
      "execution_count": 84,
      "outputs": [
        {
          "output_type": "execute_result",
          "data": {
            "text/plain": [
              "([(True, False, True, True),\n",
              "  (True, False, True, False),\n",
              "  (False, True, True, True),\n",
              "  (False, False, False, True)],\n",
              " [True, True, False, False])"
            ]
          },
          "metadata": {},
          "execution_count": 84
        }
      ]
    },
    {
      "cell_type": "code",
      "source": [
        "import itertools\n",
        "\n",
        "\n",
        "X = list(itertools.product([0, 1], repeat=4))\n",
        "Y = np.array([test_func(x) for x in X], dtype = 'int')\n",
        "\n",
        "sns.histplot(Y)"
      ],
      "metadata": {
        "id": "dTMbz9i-L8Fe",
        "outputId": "765c21e5-798c-444f-a3b9-9d48d46f70d8",
        "colab": {
          "base_uri": "https://localhost:8080/",
          "height": 283
        }
      },
      "execution_count": 24,
      "outputs": [
        {
          "output_type": "execute_result",
          "data": {
            "text/plain": [
              "<matplotlib.axes._subplots.AxesSubplot at 0x7f1159261250>"
            ]
          },
          "metadata": {},
          "execution_count": 24
        },
        {
          "output_type": "display_data",
          "data": {
            "text/plain": [
              "<Figure size 432x288 with 1 Axes>"
            ],
            "image/png": "[encoded data removed]"
          },
          "metadata": {
            "needs_background": "light"
          }
        }
      ]
    },
    {
      "cell_type": "code",
      "source": [
        "X = list(itertools.product([True, False], repeat=4))"
      ],
      "metadata": {
        "id": "C5y50ryHQIUA",
        "outputId": "445267e8-3c26-40c3-ce91-8e4ad796977f",
        "colab": {
          "base_uri": "https://localhost:8080/"
        }
      },
      "execution_count": 60,
      "outputs": [
        {
          "output_type": "execute_result",
          "data": {
            "text/plain": [
              "[(True, True, True, True),\n",
              " (True, True, True, False),\n",
              " (True, True, False, True),\n",
              " (True, True, False, False),\n",
              " (True, False, True, True),\n",
              " (True, False, True, False),\n",
              " (True, False, False, True),\n",
              " (True, False, False, False),\n",
              " (False, True, True, True),\n",
              " (False, True, True, False),\n",
              " (False, True, False, True),\n",
              " (False, True, False, False),\n",
              " (False, False, True, True),\n",
              " (False, False, True, False),\n",
              " (False, False, False, True),\n",
              " (False, False, False, False)]"
            ]
          },
          "metadata": {},
          "execution_count": 60
        }
      ]
    },
    {
      "cell_type": "code",
      "source": [
        ""
      ],
      "metadata": {
        "id": "v7IYvmRZL2b0"
      },
      "execution_count": null,
      "outputs": []
    },
    {
      "cell_type": "code",
      "source": [
        "a = np.array(data.Y_train, dtype = 'int')\n",
        "len(a[a == 1])"
      ],
      "metadata": {
        "id": "RpWMxo0hQZyZ",
        "outputId": "c53d893a-137d-4ff5-808c-6702310635ec",
        "colab": {
          "base_uri": "https://localhost:8080/"
        }
      },
      "execution_count": null,
      "outputs": [
        {
          "output_type": "execute_result",
          "data": {
            "text/plain": [
              "26"
            ]
          },
          "metadata": {},
          "execution_count": 64
        }
      ]
    },
    {
      "cell_type": "markdown",
      "source": [
        "## Accuracy versus number of neurons"
      ],
      "metadata": {
        "id": "ECnIdMp8Nuip"
      }
    },
    {
      "cell_type": "code",
      "source": [
        "import time\n",
        "start = default_timer()\n",
        "time.sleep(2)\n",
        "end = default_timer()\n",
        "end - start"
      ],
      "metadata": {
        "id": "Zz2UQNGwRkj2",
        "outputId": "e3e946f6-1403-4d32-fbf6-583bee02d9b5",
        "colab": {
          "base_uri": "https://localhost:8080/"
        }
      },
      "execution_count": 12,
      "outputs": [
        {
          "output_type": "execute_result",
          "data": {
            "text/plain": [
              "2.0022344260000295"
            ]
          },
          "metadata": {},
          "execution_count": 12
        }
      ]
    },
    {
      "cell_type": "code",
      "source": [
        "def run_experiment(\n",
        "    target_func,\n",
        "    data_size,\n",
        "    train_percentage,\n",
        "    n_neurons\n",
        "):\n",
        "    model = Model(n_neurons = n_neurons)\n",
        "\n",
        "    data = DataProperties(\n",
        "        n_features = model.n_neurons,\n",
        "        n_samples = data_size,\n",
        "        train_percentage = train_percentage\n",
        "    )\n",
        "\n",
        "    data.encode_propositional_features()\n",
        "    data.encode_features_combinations()\n",
        "    data.encode_cartesian_products()\n",
        "    data.encode_positive_clauses()\n",
        "    data.encode_negative_clauses()\n",
        "    data.prepare_dataset(func = target_func)\n",
        "\n",
        "    # Distribution of dataset:\n",
        "    train_arr = np.array(data.Y_train, dtype = 'int')\n",
        "    test_arr = np.array(data.Y_test, dtype = 'int')\n",
        "    print(f'{len(train_arr[train_arr == 1])} train 1')\n",
        "    print(f'{len(train_arr[train_arr == 0])} train 0')\n",
        "    print(f'{len(test_arr[test_arr == 1])} test 1')\n",
        "    print(f'{len(test_arr[test_arr == 0])} test 0')\n",
        "\n",
        "    model.encode_soft_clauses(data)\n",
        "    model.encode_hard_clauses(data)\n",
        "\n",
        "    cpu_start = default_timer()\n",
        "    model.compute_solution()\n",
        "    cpu_end = default_timer()\n",
        "\n",
        "    train_acc = model.calc_metrics(data.X_train, data.Y_train)\n",
        "    test_acc = model.calc_metrics(data.X_test, data.Y_test)\n",
        "\n",
        "    # print(f'Train acc: {train_acc}, Test acc: {test_acc}')\n",
        "    return dict(\n",
        "        train_acc = train_acc,\n",
        "        test_acc = test_acc,\n",
        "        cpu_time = cpu_end - cpu_start, # seconds\n",
        "        n_neurons = n_neurons,\n",
        "        n_soft_clauses = len(model.wcnf_form.soft),\n",
        "        n_hard_clauses = len(model.wcnf_form.hard)\n",
        "    )"
      ],
      "metadata": {
        "id": "9ZZAezG7OA7_"
      },
      "execution_count": 11,
      "outputs": []
    },
    {
      "cell_type": "markdown",
      "source": [
        "## CPU time VS number of neurons"
      ],
      "metadata": {
        "id": "KaRNqiwLNyi-"
      }
    },
    {
      "cell_type": "code",
      "source": [
        "def check_1st_feature(x):\n",
        "    return x[0] == True\n",
        "\n",
        "network_sizes = [3, 5, 7]\n",
        "target_func = check_1st_feature\n",
        "data_size = 60\n",
        "train_percentage = 0.8\n",
        "\n",
        "def do_test(network_sizes, target_func, data_size, train_percentage):\n",
        "    res = {}\n",
        "    for n_neurons in network_sizes:\n",
        "        res[n_neurons] = run_experiment(\n",
        "            target_func = target_func, \n",
        "            data_size = data_size, \n",
        "            train_percentage = train_percentage, \n",
        "            n_neurons = n_neurons\n",
        "        )\n",
        "    return res\n",
        "\n",
        "\n",
        "experiment_res = do_test(network_sizes, target_func, data_size, train_percentage)"
      ],
      "metadata": {
        "id": "befLQrepR1qB",
        "outputId": "efcdf6d8-b264-450c-9b07-2128bd4b6ea2",
        "colab": {
          "base_uri": "https://localhost:8080/"
        }
      },
      "execution_count": null,
      "outputs": [
        {
          "output_type": "stream",
          "name": "stdout",
          "text": [
            "24 train 1\n",
            "24 train 0\n",
            "5 test 1\n",
            "7 test 0\n",
            "22 train 1\n",
            "26 train 0\n",
            "6 test 1\n",
            "6 test 0\n"
          ]
        }
      ]
    },
    {
      "cell_type": "code",
      "source": [
        "experiment_res"
      ],
      "metadata": {
        "id": "QZEr8_8aTLzS"
      },
      "execution_count": null,
      "outputs": []
    },
    {
      "cell_type": "markdown",
      "source": [
        "## Comparison with 1-layer FFNN"
      ],
      "metadata": {
        "id": "H92Uj5M2N2LW"
      }
    },
    {
      "cell_type": "code",
      "source": [
        ""
      ],
      "metadata": {
        "id": "8d-hukvFNrBv"
      },
      "execution_count": null,
      "outputs": []
    }
  ]
}