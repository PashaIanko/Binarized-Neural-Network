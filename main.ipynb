{
  "nbformat": 4,
  "nbformat_minor": 0,
  "metadata": {
    "colab": {
      "name": "KDM project.ipynb",
      "provenance": [],
      "toc_visible": true
    },
    "kernelspec": {
      "name": "python3",
      "display_name": "Python 3"
    },
    "language_info": {
      "name": "python"
    }
  },
  "cells": [
    {
      "cell_type": "markdown",
      "source": [
        "# Packages"
      ],
      "metadata": {
        "id": "T34lv-eU3Qge"
      }
    },
    {
      "cell_type": "code",
      "source": [
        "from sympy.logic.boolalg import to_cnf\n",
        "from sympy.abc import A, B, C, D, E, F, G, H, J\n",
        "import itertools\n",
        "import numpy as np\n",
        "from sklearn.metrics import accuracy_score\n",
        "\n",
        "import seaborn as sns\n",
        "import matplotlib.pyplot as plt\n",
        "from timeit import default_timer\n",
        "from sklearn.model_selection import train_test_split"
      ],
      "metadata": {
        "id": "8GnD2xG-Yogn"
      },
      "execution_count": 172,
      "outputs": []
    },
    {
      "cell_type": "code",
      "source": [
        "%%capture\n",
        "!pip install python-sat"
      ],
      "metadata": {
        "id": "qmIq0duBhPyO"
      },
      "execution_count": 173,
      "outputs": []
    },
    {
      "cell_type": "code",
      "source": [
        "from pysat.examples.fm import FM\n",
        "from pysat.formula import WCNF\n",
        "from itertools import combinations\n",
        "import math"
      ],
      "metadata": {
        "id": "PsyheJ3iyYwZ"
      },
      "execution_count": 174,
      "outputs": []
    },
    {
      "cell_type": "code",
      "source": [
        "class Model:\n",
        "    def __init__(self, n_neurons):\n",
        "        self.n_neurons = n_neurons\n",
        "        self.wcnf_form = WCNF()\n",
        "        self.FuMalik = None\n",
        "\n",
        "        self.weights_solution = None\n",
        "\n",
        "    def compute_solution(self):\n",
        "        self.FuMalik = FM(self.wcnf_form, verbose = 1)\n",
        "        self.FuMalik.compute()\n",
        "\n",
        "        self.weights_solution = self.FuMalik.model[:self.n_neurons]\n",
        "        self.weights_solution = [val > 0 for val in self.weights_solution]  # Bool vector\n",
        "\n",
        "    def append_positive_clause(self, data, target_index):\n",
        "        # print(f'Encoding for y True')\n",
        "        for positive_clause in data.positive_clauses:\n",
        "            # if (1, -2) clause --> [(w[0] V ~x[i][0]) V (~w[1] V x[i][1])] clause\n",
        "            clause_to_add = []\n",
        "            for index in positive_clause:\n",
        "                abs_index = abs(index)\n",
        "                prop_weight = data.prop_weights[abs_index - 1]  # variable, where weight is encoded\n",
        "                if target_index < len(data.prop_features):\n",
        "                    if abs_index - 1 < len(data.prop_features[target_index]):\n",
        "                        prop_feature = data.prop_features[target_index][abs_index - 1]  # feature, that is encoded\n",
        "\n",
        "                        if index < 0:\n",
        "                            clause_to_add.extend([int(-prop_weight), int(prop_feature)])\n",
        "                        else:\n",
        "                            clause_to_add.extend([int(prop_weight), int(-prop_feature)])\n",
        "                    else:\n",
        "                        print(f'Abs index: {abs_index}')\n",
        "                else:\n",
        "                    print(f'Target index {target_index}')\n",
        "            # print(f'Clause: {clause_to_add}')\n",
        "            self.wcnf_form.append(clause_to_add, weight = 1)\n",
        "\n",
        "    def calc_update(self, letters, x, w):\n",
        "        # ['~', 'x', '2']\n",
        "        x_or_w = ''\n",
        "        to_put_minus = 1\n",
        "\n",
        "        if letters[0] == '~':\n",
        "            x_or_w = letters[1]\n",
        "            to_put_minus = -1\n",
        "        else:\n",
        "            x_or_w = letters[0]\n",
        "            to_put_minus = 1\n",
        "        \n",
        "        index = int(letters[-1])\n",
        "        if x_or_w == 'x':\n",
        "            return int(to_put_minus * x[index - 1])\n",
        "            \n",
        "        if x_or_w == 'w':\n",
        "            return int(to_put_minus * w[index - 1])\n",
        "\n",
        "    def append_negative_clause(self, data, target_index):\n",
        "        # print(f'Encoding for negative y')\n",
        "        for negative_clause in data.negative_clauses:\n",
        "            # ('w 1', 'x 1', '~ w 2', '~ x 2')\n",
        "\n",
        "            clause_to_add = []\n",
        "            for symbol in negative_clause:\n",
        "                # symbol is a string, like \"w 1\" or \"~ x 2\"\n",
        "                letters = symbol.split(' ')\n",
        "                clause_to_add.append(int(self.calc_update(letters, data.prop_features[target_index], data.prop_weights)))\n",
        "            \n",
        "            # print(f'Clause: {clause_to_add}')\n",
        "            self.wcnf_form.append(clause_to_add, weight = 1)\n",
        "\n",
        "\n",
        "    def encode_soft_clauses(self, data):\n",
        "        Y_train = data.Y_train\n",
        "\n",
        "        for i in range(len(Y_train)):\n",
        "    \n",
        "            y_i = Y_train[i]\n",
        "\n",
        "            if y_i == True:\n",
        "                self.append_positive_clause(data, target_index = i)\n",
        "\n",
        "            if y_i == False:\n",
        "                self.append_negative_clause(data, target_index = i)\n",
        "            \n",
        "    def encode_hard_clauses(self, data):\n",
        "        for i in range(len(data.X_train)):\n",
        "            for j in range(len(data.X_train[0])):\n",
        "                \n",
        "                if data.X_train[i][j] == True:\n",
        "                    self.wcnf_form.append([int(data.prop_features[i][j])])\n",
        "                else:\n",
        "                    self.wcnf_form.append([int(-data.prop_features[i][j])])\n",
        "\n",
        "    def calc_accuracy(self, X, Y):\n",
        "        int_weights = np.array(self.weights_solution, dtype = 'int')\n",
        "\n",
        "        pred = np.sign(np.dot(X, int_weights))\n",
        "        return accuracy_score(Y, pred)\n",
        "\n",
        "    def calc_metrics(self, X, Y):\n",
        "\n",
        "        acc = self.calc_accuracy(\n",
        "            np.array(X, dtype = 'int'),\n",
        "            np.array(Y, dtype = 'int')\n",
        "        )\n",
        "        # print(f'Accuracy: {acc}')\n",
        "        return acc\n",
        "        \n",
        "class DataProperties:\n",
        "    def __init__(self, n_features, n_samples, train_percentage):\n",
        "        self.n_features = n_features\n",
        "        self.n_samples = n_samples\n",
        "        self.train_percentage = train_percentage\n",
        "        self.test_percentage = 1 - train_percentage\n",
        "        \n",
        "        self.n_train = int(self.train_percentage * self.n_samples)\n",
        "        self.n_test = self.n_samples - self.n_train\n",
        "\n",
        "        self.X_train = None\n",
        "        self.Y_train = None\n",
        "        self.X_test = None\n",
        "        self.Y_test = None\n",
        "        \n",
        "        self.prop_features = None\n",
        "        self.prop_weights = np.array([i + 1 for i in range(n_features)])\n",
        "\n",
        "        self.features_combinations = None\n",
        "        self.cartesian_products = None\n",
        "\n",
        "        self.positive_clauses = []\n",
        "        self.negative_clauses = []\n",
        "    \n",
        "    def encode_propositional_features(self):\n",
        "        self.prop_features = np.array(\n",
        "            [[i*self.n_features + j + max(self.prop_weights) + 1 for j in range(self.n_features)] for i in range(self.n_train)]\n",
        "        )\n",
        "\n",
        "    def prepare_dataset(self, func):\n",
        "        np.random.seed(123)\n",
        "\n",
        "        sample_arr = [True, False]\n",
        "        \n",
        "        \n",
        "        self.X_train = np.random.choice(sample_arr, size = (self.n_train, self.n_features))\n",
        "        self.X_test = np.random.choice(sample_arr, size = (self.n_test, self.n_features))\n",
        "\n",
        "        self.Y_train = [func(x) for x in self.X_train]\n",
        "        self.Y_test = [func(x) for x in self.X_test]\n",
        "\n",
        "    def prepare_balanced_dataset(self, func):\n",
        "        # np.random.seed(123) \n",
        "        # print(f'Preparing balanced: n_train = {self.n_train}, n_test = {self.n_test}, n_features = {self.n_features}')\n",
        "        \n",
        "        # X = list(itertools.product([False, True], repeat=self.n_features))\n",
        "        # Y = np.array([func(x) for x in X])\n",
        "        # # print(f'Len X, Y: {len(X), len(Y)}')\n",
        "\n",
        "        # idx_true = np.where(Y == True)[0]\n",
        "        # idx_false = np.where(Y == False)[0]\n",
        "        # assert(len(idx_true) + len(idx_false) == len(Y))\n",
        "\n",
        "        # # We need to balance dataset --> we will use the subsets\n",
        "        # # of True and False of equal cardinality (minimal of the\n",
        "        # # True or False subsets)\n",
        "        # min_length = min(len(idx_true), len(idx_false))\n",
        "\n",
        "        # y_balanced = []\n",
        "        # x_balanced = []\n",
        "\n",
        "        # # print(f'Min length: {min_length}')\n",
        "        # for i in range(min_length):\n",
        "        #     true_idx = idx_true[i]\n",
        "        #     false_idx = idx_false[i]\n",
        "            \n",
        "        #     y_balanced.append(Y[true_idx])\n",
        "        #     x_balanced.append(X[true_idx])\n",
        "            \n",
        "        #     y_balanced.append(Y[false_idx])\n",
        "        #     x_balanced.append(X[false_idx])\n",
        "\n",
        "        # # print(f'Len of balanced: {len(x_balanced), len(y_balanced)}')\n",
        "        # self.X_train, self.X_test, self.Y_train, self.Y_test = train_test_split(\n",
        "        #     x_balanced, \n",
        "        #     y_balanced, \n",
        "        #     stratify = y_balanced,\n",
        "        #     test_size = self.n_test / self.n_train,\n",
        "        #     random_state = 42\n",
        "        # )\n",
        "\n",
        "        # common_data = set(self.X_train).intersection(set(self.X_test))\n",
        "        # assert(len(common_data) == 0)  # No common data\n",
        "\n",
        "        print(f'Preparing balanced dataset')\n",
        "        X = list(itertools.product([False, True], repeat=self.n_features))\n",
        "        Y = np.array([func(x) for x in X])\n",
        "        print(f'X, Y size: {len(X)}')\n",
        "\n",
        "        self.X_train, self.X_test, self.Y_train, self.Y_test = train_test_split(\n",
        "            X, \n",
        "            Y, \n",
        "            stratify = Y,\n",
        "            test_size = self.n_test / self.n_train,\n",
        "            random_state = 42\n",
        "        )\n",
        "\n",
        "        print(f'X_train size: {len(self.X_train)}, X_test size: {len(self.X_test)}')\n",
        "\n",
        "        common_data = set(self.X_train).intersection(set(self.X_test))\n",
        "        print(f'Size of common data between train and test: {len(common_data)}')\n",
        "        print(f'Proportion of \"1\" in train: {sum(self.Y_train) / len(self.Y_train)}')\n",
        "        print(f'Proportion of \"1\" in test: {sum(self.Y_test) / len(self.Y_test)}')\n",
        "        # assert(len(common_data) == 0)  # No common data\n",
        "\n",
        "    def encode_features_combinations(self):\n",
        "\n",
        "        majority_size = int(np.ceil(self.n_features / 2))\n",
        "        # assert(majority_size == np.floor(self.n_features / 2) + 1)\n",
        "        self.features_combinations = list(combinations(self.prop_weights, majority_size))\n",
        "\n",
        "    def remove_redundant(self, elements):\n",
        "        res = []\n",
        "        for e in elements:\n",
        "            if not (e in res):\n",
        "                res.append(e)\n",
        "        return res\n",
        "\n",
        "    def encode_cartesian_products(self):\n",
        "        prods = list(itertools.product(*self.features_combinations))\n",
        "        prods = [np.unique(combo).tolist() for combo in prods]\n",
        "        self.cartesian_products = self.remove_redundant(prods)\n",
        "\n",
        "    def prepare_predfinal_clauses(self):\n",
        "        predfinal_clauses = []\n",
        "        for product in self.cartesian_products:\n",
        "            bracket = []\n",
        "            for val in product:\n",
        "                bracket.append([val, -val])\n",
        "            predfinal_clauses.append(bracket)\n",
        "        return predfinal_clauses\n",
        "\n",
        "\n",
        "    def encode_positive_clauses(self):\n",
        "        # Each element of optimized_products represents:\n",
        "        # [1, 2] --> (w1 == x_i1) V (w2 == x_i2). But we have not transfered to CNF yet\n",
        "        # To do that: [(~w1 V x_i1) & (w1 V ~x_i1)] V [(~w2 V x_i2) & (w2 V ~x_i2)]\n",
        "        # which is 'encoded' as [[1, -1], [2, -2]]\n",
        "\n",
        "        predfinal_clauses = self.prepare_predfinal_clauses()\n",
        "\n",
        "        # And now we are creating final clauses\n",
        "        for predfinal_clause in predfinal_clauses:\n",
        "            clauses = list(itertools.product(*predfinal_clause))\n",
        "            \n",
        "            for clause in clauses:\n",
        "                self.positive_clauses.append(clause)\n",
        "\n",
        "    def encode_negative_clauses(self):\n",
        "\n",
        "        ws_xs_list = []\n",
        "        for combo in self.features_combinations:\n",
        "            # print(combo)\n",
        "            symbols = []\n",
        "            for i in combo:\n",
        "                symbols.extend([[f'w {i}', f'~ w {i}']])\n",
        "                symbols.extend([[f'x {i}', f'~ x {i}']])\n",
        "            ws_xs_list.append(symbols)\n",
        "        \n",
        "        for combination in ws_xs_list:\n",
        "            for clause in itertools.product(*combination):\n",
        "                # print(clause)\n",
        "                self.negative_clauses.append(clause)\n"
      ],
      "metadata": {
        "id": "myBBKiZMCTl_"
      },
      "execution_count": 175,
      "outputs": []
    },
    {
      "cell_type": "markdown",
      "source": [
        "# Basic pipeline"
      ],
      "metadata": {
        "id": "QRGzAw8gfY5P"
      }
    },
    {
      "cell_type": "markdown",
      "source": [
        "## Prepare data, encode propositional features, compute solution"
      ],
      "metadata": {
        "id": "T9Csoc-05KxK"
      }
    },
    {
      "cell_type": "code",
      "source": [
        "model = Model(n_neurons = 5)\n",
        "\n",
        "data = DataProperties(\n",
        "    n_features = model.n_neurons,\n",
        "    n_samples = 2 ** model.n_neurons,\n",
        "    train_percentage = 0.8  # test % = 100 - train %\n",
        ")\n",
        "\n",
        "\n",
        "# define propositional variables for X\n",
        "# propositional features cannot have same indices as w --> + 1 + max(w)\n",
        "data.encode_propositional_features()\n",
        "\n",
        "# Now prepare all cartesian products (for the case whey y == 1)\n",
        "data.encode_features_combinations()\n",
        "data.encode_cartesian_products()\n",
        "\n",
        "data.encode_positive_clauses()\n",
        "data.encode_negative_clauses()\n",
        "\n",
        "# Prepare data\n",
        "def check_2nd_feature(x):\n",
        "    return x[1] == True # and x[0] == False\n",
        "\n",
        "data.prepare_balanced_dataset(func = check_2nd_feature)\n",
        "\n",
        "# Distribution of dataset:\n",
        "print(f'Distribution of Negative and positive classes in data:')\n",
        "fig, ax = plt.subplots(2, 1)\n",
        "sns.histplot(np.array(data.Y_train, dtype = 'int'), ax = ax[0])\n",
        "sns.histplot(np.array(data.Y_test, dtype = 'int'), ax = ax[1])\n",
        "\n",
        "\n",
        "model.encode_soft_clauses(data)\n",
        "model.encode_hard_clauses(data)\n",
        "model.compute_solution()\n",
        "\n",
        "train_acc = model.calc_metrics(data.X_train, data.Y_train)\n",
        "test_acc = model.calc_metrics(data.X_test, data.Y_test)\n",
        "\n",
        "print(f'Train acc: {train_acc}, Test acc: {test_acc}')"
      ],
      "metadata": {
        "id": "1nnnBigL5NHG",
        "colab": {
          "base_uri": "https://localhost:8080/",
          "height": 404
        },
        "outputId": "52245032-3eeb-4e33-c731-bee70b984ae8"
      },
      "execution_count": 176,
      "outputs": [
        {
          "output_type": "stream",
          "name": "stdout",
          "text": [
            "Preparing balanced dataset\n",
            "X, Y size: 32\n",
            "X_train size: 23, X_test size: 9\n",
            "Size of common data between train and test: 0\n",
            "Proportion of \"1\" in train: 0.5217391304347826\n",
            "Proportion of \"1\" in test: 0.4444444444444444\n",
            "Distribution of Negative and positive classes in data:\n",
            "Train acc: 0.782608695652174, Test acc: 0.6666666666666666\n"
          ]
        },
        {
          "output_type": "display_data",
          "data": {
            "text/plain": [
              "<Figure size 432x288 with 2 Axes>"
            ],
            "image/png": "[encoded data removed]"
          },
          "metadata": {
            "needs_background": "light"
          }
        }
      ]
    },
    {
      "cell_type": "markdown",
      "source": [
        "# Numerical experiments"
      ],
      "metadata": {
        "id": "TmHsh6MSNov_"
      }
    },
    {
      "cell_type": "code",
      "source": [
        "def run_experiment(\n",
        "    target_func,\n",
        "    data_size,\n",
        "    train_percentage,\n",
        "    n_neurons,\n",
        "    do_computations,\n",
        "    prepare_balanced\n",
        "):\n",
        "    model = Model(n_neurons = n_neurons)\n",
        "\n",
        "    data = DataProperties(\n",
        "        n_features = model.n_neurons,\n",
        "        n_samples = data_size,\n",
        "        train_percentage = train_percentage\n",
        "    )\n",
        "\n",
        "    data.encode_propositional_features()\n",
        "    data.encode_features_combinations()\n",
        "    data.encode_cartesian_products()\n",
        "    data.encode_positive_clauses()\n",
        "    data.encode_negative_clauses()\n",
        "    \n",
        "    if prepare_balanced:\n",
        "        data.prepare_balanced_dataset(func = target_func)\n",
        "    else:\n",
        "        data.prepare_dataset(func = target_func)\n",
        "    \n",
        "    \n",
        "\n",
        "    # Distribution of dataset:\n",
        "    train_arr = np.array(data.Y_train, dtype = 'int')\n",
        "    test_arr = np.array(data.Y_test, dtype = 'int')\n",
        "\n",
        "    model.encode_soft_clauses(data)\n",
        "    model.encode_hard_clauses(data)\n",
        "\n",
        "    \n",
        "    cpu_start = default_timer()\n",
        "    if do_computations:\n",
        "        model.compute_solution()\n",
        "    cpu_end = default_timer()\n",
        "\n",
        "    if do_computations:\n",
        "        train_acc = model.calc_metrics(data.X_train, data.Y_train)\n",
        "        test_acc = model.calc_metrics(data.X_test, data.Y_test)\n",
        "    else:\n",
        "        train_acc = 0\n",
        "        test_acc = 0\n",
        "\n",
        "    return dict(\n",
        "        train_acc = train_acc,\n",
        "        test_acc = test_acc,\n",
        "        cpu_time = cpu_end - cpu_start, # seconds\n",
        "        n_neurons = n_neurons,\n",
        "        n_soft_clauses = len(model.wcnf_form.soft),\n",
        "        n_hard_clauses = len(model.wcnf_form.hard),\n",
        "        Y_train = data.Y_train,\n",
        "        Y_test = data.Y_test\n",
        "    )"
      ],
      "metadata": {
        "id": "9ZZAezG7OA7_"
      },
      "execution_count": 177,
      "outputs": []
    },
    {
      "cell_type": "markdown",
      "source": [
        "## Number of clauses VS number of neurons"
      ],
      "metadata": {
        "id": "guwaruKHXhjW"
      }
    },
    {
      "cell_type": "markdown",
      "source": [
        "Here, we fix all parameters, except for the number of neurons, to check how number of soft and hard clauses increases with number of neurons"
      ],
      "metadata": {
        "id": "FWvdVPqqYBZi"
      }
    },
    {
      "cell_type": "code",
      "source": [
        "def test_func(x):\n",
        "    return x[0] == True"
      ],
      "metadata": {
        "id": "QkoHBGy2iohV"
      },
      "execution_count": 178,
      "outputs": []
    },
    {
      "cell_type": "code",
      "source": [
        "n_hard_clauses = []\n",
        "n_soft_clauses = []\n",
        "\n",
        "n_neurons = [3, 4, 5]\n",
        "\n",
        "target_func = test_func\n",
        "data_size = 10\n",
        "train_percentage = 0.7\n",
        "do_computations = False\n",
        "\n",
        "for n in n_neurons:\n",
        "    res = run_experiment(\n",
        "        n_neurons = n,\n",
        "        target_func = test_func,\n",
        "        data_size = data_size,\n",
        "        train_percentage = train_percentage,\n",
        "        do_computations = False,\n",
        "        prepare_balanced = False\n",
        "    )\n",
        "    n_hard_clauses.append(\n",
        "        res['n_hard_clauses']\n",
        "    )\n",
        "    n_soft_clauses.append(\n",
        "        res['n_soft_clauses']\n",
        "    )"
      ],
      "metadata": {
        "id": "xVTV7LLbXkjk"
      },
      "execution_count": 179,
      "outputs": []
    },
    {
      "cell_type": "code",
      "source": [
        "plot_dict = dict(\n",
        "    fontsize = 20\n",
        ")\n",
        "labelsize = 15\n",
        "\n",
        "def plot_bar(ax, x, y, xlab, ylab, title):\n",
        "\n",
        "    ax.bar(x, y)\n",
        "    ax.set_xlabel(xlab, **plot_dict)\n",
        "    ax.set_ylabel(ylab, **plot_dict)\n",
        "    ax.tick_params(axis='both', which='major', labelsize = labelsize)\n",
        "    ax.set_title(title, **plot_dict)\n",
        "    ax.grid()"
      ],
      "metadata": {
        "id": "UaLf_l-KjJmP"
      },
      "execution_count": 180,
      "outputs": []
    },
    {
      "cell_type": "code",
      "source": [
        "fig, ax = plt.subplots(1, 2, figsize = (15, 7))\n",
        "\n",
        "plot_bar(\n",
        "    ax[0], \n",
        "    n_neurons, \n",
        "    n_hard_clauses, \n",
        "    xlab = 'Number of neurons', \n",
        "    ylab = 'Number of hard clauses',\n",
        "    title = 'Growth of hard clauses number'\n",
        ")\n",
        "\n",
        "plot_bar(\n",
        "    ax[1], \n",
        "    n_neurons, \n",
        "    n_soft_clauses, \n",
        "    xlab = 'Number of neurons', \n",
        "    ylab = 'Number of soft clauses',\n",
        "    title = 'Growth of soft clauses number'\n",
        ")"
      ],
      "metadata": {
        "colab": {
          "base_uri": "https://localhost:8080/",
          "height": 477
        },
        "id": "yY6TKhe5eo-H",
        "outputId": "f76c10eb-bd68-42f7-d29d-230b0f6dd989"
      },
      "execution_count": 181,
      "outputs": [
        {
          "output_type": "display_data",
          "data": {
            "text/plain": [
              "<Figure size 1080x504 with 2 Axes>"
            ],
            "image/png": "[encoded data removed]"
          },
          "metadata": {
            "needs_background": "light"
          }
        }
      ]
    },
    {
      "cell_type": "markdown",
      "source": [
        "## CPU time VS number of neurons"
      ],
      "metadata": {
        "id": "KaRNqiwLNyi-"
      }
    },
    {
      "cell_type": "markdown",
      "source": [
        "Here, we fix all experimental parameters, to check how much CPU time is required\n",
        "for WCNF Fu Malik computation, depending on the number of neurons.\n",
        "\n",
        "We also fix the size of the dataset."
      ],
      "metadata": {
        "id": "NUPt6I_mhHzV"
      }
    },
    {
      "cell_type": "code",
      "source": [
        "results = []\n",
        "n_neurons = [2, 3, 4, 5]\n",
        "\n",
        "def check_first_feature(x):\n",
        "    return x[0] == True\n",
        "\n",
        "target_func = check_first_feature\n",
        "data_size = 10\n",
        "train_percentage = 0.7\n",
        "do_computations = True\n",
        "prepare_balanced = False\n",
        "\n",
        "for n in n_neurons:\n",
        "    res = run_experiment(\n",
        "        n_neurons = n,\n",
        "        target_func = check_first_feature,\n",
        "        data_size = data_size,\n",
        "        train_percentage = train_percentage,\n",
        "        do_computations = do_computations,\n",
        "        prepare_balanced = prepare_balanced\n",
        "    )\n",
        "    results.append(\n",
        "        res\n",
        "    )"
      ],
      "metadata": {
        "id": "-9eCNjE5hPbN"
      },
      "execution_count": 182,
      "outputs": []
    },
    {
      "cell_type": "code",
      "source": [
        "cpu_times = [r['cpu_time'] for r in results]"
      ],
      "metadata": {
        "id": "fqHy2GXIi-xc"
      },
      "execution_count": 183,
      "outputs": []
    },
    {
      "cell_type": "code",
      "source": [
        "fig, ax = plt.subplots(figsize = (10, 7))\n",
        "\n",
        "\n",
        "plot_bar(\n",
        "    ax, \n",
        "    n_neurons, \n",
        "    cpu_times, \n",
        "    xlab = 'Number of neurons', \n",
        "    ylab = 'CPU time, sec',\n",
        "    title = 'CPU time for Fu Malik algorithm'\n",
        ")"
      ],
      "metadata": {
        "colab": {
          "base_uri": "https://localhost:8080/",
          "height": 477
        },
        "id": "7s2W9veHivDM",
        "outputId": "1b9d80fe-3e85-4cd4-8eea-579ebe86e1bc"
      },
      "execution_count": 184,
      "outputs": [
        {
          "output_type": "display_data",
          "data": {
            "text/plain": [
              "<Figure size 720x504 with 1 Axes>"
            ],
            "image/png": "[encoded data removed]"
          },
          "metadata": {
            "needs_background": "light"
          }
        }
      ]
    },
    {
      "cell_type": "markdown",
      "source": [
        "## Accuracy VS number of neurons"
      ],
      "metadata": {
        "id": "6ZPOUrZ1ij5i"
      }
    },
    {
      "cell_type": "code",
      "source": [
        "results = []\n",
        "n_neurons = [2, 3, 4, 5]\n",
        "train_sizes = [2**n for n in n_neurons]\n",
        "\n",
        "target_func = check_first_feature\n",
        "train_percentage = 0.8\n",
        "do_computations = True\n",
        "prepare_balanced = True\n",
        "\n",
        "for n, size in zip(n_neurons, train_sizes):\n",
        "    res = run_experiment(\n",
        "        n_neurons = n,\n",
        "        target_func = check_first_feature,\n",
        "        data_size = size,\n",
        "        train_percentage = train_percentage,\n",
        "        do_computations = do_computations,\n",
        "        prepare_balanced = prepare_balanced\n",
        "    )\n",
        "    results.append(\n",
        "        res\n",
        "    )"
      ],
      "metadata": {
        "colab": {
          "base_uri": "https://localhost:8080/"
        },
        "id": "v4aJ3AWoiq-j",
        "outputId": "b0188d84-ee66-4d6d-8d3e-83008ba05684"
      },
      "execution_count": 185,
      "outputs": [
        {
          "output_type": "stream",
          "name": "stdout",
          "text": [
            "Preparing balanced dataset\n",
            "X, Y size: 4\n",
            "X_train size: 2, X_test size: 2\n",
            "Size of common data between train and test: 0\n",
            "Proportion of \"1\" in train: 0.5\n",
            "Proportion of \"1\" in test: 0.5\n",
            "Preparing balanced dataset\n",
            "X, Y size: 8\n",
            "X_train size: 5, X_test size: 3\n",
            "Size of common data between train and test: 0\n",
            "Proportion of \"1\" in train: 0.6\n",
            "Proportion of \"1\" in test: 0.3333333333333333\n",
            "Preparing balanced dataset\n",
            "X, Y size: 16\n",
            "X_train size: 10, X_test size: 6\n",
            "Size of common data between train and test: 0\n",
            "Proportion of \"1\" in train: 0.5\n",
            "Proportion of \"1\" in test: 0.5\n",
            "Preparing balanced dataset\n",
            "X, Y size: 32\n",
            "X_train size: 23, X_test size: 9\n",
            "Size of common data between train and test: 0\n",
            "Proportion of \"1\" in train: 0.5217391304347826\n",
            "Proportion of \"1\" in test: 0.4444444444444444\n"
          ]
        }
      ]
    },
    {
      "cell_type": "code",
      "source": [
        "train_accuracies = [r['train_acc'] for r in results]\n",
        "test_accuracies = [r['test_acc'] for r in results]\n",
        "n_neurons_x_axis = [r['n_neurons'] for r in results]\n",
        "\n",
        "\n",
        "fig, ax = plt.subplots()\n",
        "\n",
        "curve_dict = dict(\n",
        "    marker = 'o',\n",
        "    markerfacecolor = 'white'\n",
        ")\n",
        "\n",
        "font_size = 20\n",
        "\n",
        "ax.plot(n_neurons_x_axis, train_accuracies, **curve_dict)\n",
        "ax.plot(n_neurons_x_axis, test_accuracies, **curve_dict)\n",
        "ax.set_xlabel('Number of neurons', fontsize = font_size)\n",
        "ax.set_ylabel('Accuracy', fontsize = font_size)\n",
        "ax.set_title('Accuracy VS number of neurons', fontsize = font_size)\n",
        "ax.tick_params(axis='both', which='major', labelsize = labelsize)\n",
        "ax.legend(['Train metrics', 'Test metrics'], prop = {'size': 15})\n",
        "ax.grid()"
      ],
      "metadata": {
        "colab": {
          "base_uri": "https://localhost:8080/",
          "height": 314
        },
        "id": "v4fHDzDZlPFI",
        "outputId": "c577ac83-d92f-4e98-902f-5a006864efd9"
      },
      "execution_count": 186,
      "outputs": [
        {
          "output_type": "display_data",
          "data": {
            "text/plain": [
              "<Figure size 432x288 with 1 Axes>"
            ],
            "image/png": "[encoded data removed]"
          },
          "metadata": {
            "needs_background": "light"
          }
        }
      ]
    },
    {
      "cell_type": "code",
      "source": [
        "Y_trains = [r['Y_train'] for r in results]\n",
        "Y_tests = [r['Y_test'] for r in results]"
      ],
      "metadata": {
        "id": "PsAn9Utbmzs6"
      },
      "execution_count": 187,
      "outputs": []
    },
    {
      "cell_type": "code",
      "source": [
        "def calc_percentage(arr):\n",
        "    a = np.array(arr)\n",
        "    n_of_trues = len(a[a == True])\n",
        "    return n_of_trues / len(a)\n",
        "\n",
        "true_percentages_train = [calc_percentage(Y_tr) for Y_tr in Y_trains]\n",
        "true_percentages_test = [calc_percentage(Y_t) for Y_t in Y_tests]"
      ],
      "metadata": {
        "id": "2XAiF94Om4_x"
      },
      "execution_count": 188,
      "outputs": []
    },
    {
      "cell_type": "code",
      "source": [
        "fig, ax = plt.subplots(figsize = (10, 7))\n",
        "\n",
        "plot_bar(\n",
        "    ax, \n",
        "    n_neurons, \n",
        "    true_percentages_train, \n",
        "    xlab = 'Number of neurons', \n",
        "    ylab = 'Percentage of train TRUE instance',\n",
        "    title = 'Class balance issue'\n",
        ")\n",
        "\n",
        "plot_bar(\n",
        "    ax,\n",
        "    n_neurons, \n",
        "    true_percentages_test,\n",
        "    xlab = 'Number of neurons', \n",
        "    ylab = 'Percentage of train TRUE instance',\n",
        "    title = 'Class balance issue'\n",
        ")\n",
        "\n",
        "ax.legend(['train', 'test'], prop = {'size': 20}, loc = 3)\n",
        "ax.grid()"
      ],
      "metadata": {
        "colab": {
          "base_uri": "https://localhost:8080/",
          "height": 477
        },
        "id": "JU8bUwFznb58",
        "outputId": "9e13695d-06aa-4989-bccd-3080fcca54e5"
      },
      "execution_count": 189,
      "outputs": [
        {
          "output_type": "display_data",
          "data": {
            "text/plain": [
              "<Figure size 720x504 with 1 Axes>"
            ],
            "image/png": "[encoded data removed]"
          },
          "metadata": {
            "needs_background": "light"
          }
        }
      ]
    },
    {
      "cell_type": "markdown",
      "source": [
        "## Comparison with 1-layer FFNN"
      ],
      "metadata": {
        "id": "H92Uj5M2N2LW"
      }
    },
    {
      "cell_type": "code",
      "source": [
        "from tensorflow.keras.models import Sequential\n",
        "from tensorflow.keras.layers import Dense, Input\n",
        "from sklearn.metrics import accuracy_score\n",
        "from numpy.random import seed\n",
        "\n",
        "\n",
        "def calc_parameters(model):\n",
        "    trainableParams = np.sum([np.prod(v.get_shape()) for v in model.trainable_weights])\n",
        "    nonTrainableParams = np.sum([np.prod(v.get_shape()) for v in model.non_trainable_weights])\n",
        "    return int(trainableParams + nonTrainableParams)\n",
        "\n",
        "\n",
        "def run_experiment_(\n",
        "    target_func,\n",
        "    data_size,\n",
        "    train_percentage,\n",
        "    n_neurons,\n",
        "    do_computations,\n",
        "    prepare_balanced\n",
        "):\n",
        "    model = Model(n_neurons = n_neurons)\n",
        "\n",
        "    data = DataProperties(\n",
        "        n_features = model.n_neurons,\n",
        "        n_samples = data_size,\n",
        "        train_percentage = train_percentage\n",
        "    )\n",
        "\n",
        "    data.encode_propositional_features()\n",
        "    data.encode_features_combinations()\n",
        "    data.encode_cartesian_products()\n",
        "    data.encode_positive_clauses()\n",
        "    data.encode_negative_clauses()\n",
        "    \n",
        "    if prepare_balanced:\n",
        "        data.prepare_balanced_dataset(func = target_func)\n",
        "    else:\n",
        "        data.prepare_dataset(func = target_func)\n",
        "    \n",
        "    \n",
        "\n",
        "    # Distribution of dataset:\n",
        "    train_arr = np.array(data.Y_train, dtype = 'int')\n",
        "    test_arr = np.array(data.Y_test, dtype = 'int')\n",
        "\n",
        "    model.encode_soft_clauses(data)\n",
        "    model.encode_hard_clauses(data)\n",
        "\n",
        "    \n",
        "    cpu_start = default_timer()\n",
        "    if do_computations:\n",
        "        model.compute_solution()\n",
        "    cpu_end = default_timer()\n",
        "\n",
        "    if do_computations:\n",
        "        train_acc = model.calc_metrics(data.X_train, data.Y_train)\n",
        "        test_acc = model.calc_metrics(data.X_test, data.Y_test)\n",
        "    else:\n",
        "        train_acc = 0\n",
        "        test_acc = 0\n",
        "\n",
        "    # Build FFNN\n",
        "    seed(123)\n",
        "    np.random.seed(123)\n",
        "    m = Sequential()\n",
        "    m.add(Input(shape = (n_neurons, )))\n",
        "    m.add(Dense(units = 1, activation = 'sigmoid'))\n",
        "    m.compile(\n",
        "        loss = 'binary_crossentropy',\n",
        "        metrics = 'accuracy',\n",
        "        optimizer = 'sgd'\n",
        "    )\n",
        "    \n",
        "    print(len(data.X_train), len(data.X_train[0]))\n",
        "    print(type(data.X_train))\n",
        "    print(type(data.Y_train))\n",
        "\n",
        "    ffnn_start = default_timer()\n",
        "    m.fit(\n",
        "        np.array(data.X_train, dtype = 'int'),\n",
        "        np.array(np.expand_dims(data.Y_train, axis = 1), dtype = 'int'), # np.array(data.Y_train),\n",
        "        epochs = 1,\n",
        "        batch_size = 1\n",
        "    )\n",
        "    print(m.summary())\n",
        "    \n",
        "    ffnn_end = default_timer()\n",
        "\n",
        "    ffnn_train_acc = m.evaluate(np.array(data.X_train, dtype = 'int'),\n",
        "        np.array(np.expand_dims(data.Y_train, axis = 1), dtype = 'int'))[1]\n",
        "    \n",
        "    ffnn_test_acc = m.evaluate(np.array(data.X_test, dtype = 'int'),\n",
        "        np.array(np.expand_dims(data.Y_test, axis = 1), dtype = 'int'))[1]\n",
        "\n",
        "    return dict(\n",
        "        train_acc = train_acc,\n",
        "        ffnn_train_acc = ffnn_train_acc,\n",
        "\n",
        "        test_acc = test_acc,\n",
        "        ffnn_test_acc = ffnn_test_acc,\n",
        "        \n",
        "        cpu_time = cpu_end - cpu_start, # seconds\n",
        "        ffnn_cpu_timer = ffnn_end - ffnn_start,\n",
        "\n",
        "        ffnn_n_parameters = calc_parameters(m),\n",
        "        binarized_n_parameters = n_neurons,\n",
        "\n",
        "        n_neurons = n_neurons,\n",
        "        n_soft_clauses = len(model.wcnf_form.soft),\n",
        "        n_hard_clauses = len(model.wcnf_form.hard),\n",
        "        Y_train = data.Y_train,\n",
        "        Y_test = data.Y_test\n",
        "    )"
      ],
      "metadata": {
        "id": "8d-hukvFNrBv"
      },
      "execution_count": 190,
      "outputs": []
    },
    {
      "cell_type": "code",
      "source": [
        "n_neurons = 5\n",
        "data_size = 2 ** n_neurons\n",
        "\n",
        "experiment_results = run_experiment_(\n",
        "    target_func = check_first_feature,\n",
        "    data_size = data_size,\n",
        "    train_percentage = 0.8,\n",
        "    n_neurons = n_neurons,\n",
        "    do_computations = True,\n",
        "    prepare_balanced = True\n",
        ")"
      ],
      "metadata": {
        "id": "CUX6GJOSpy18",
        "outputId": "ec87514c-a350-410e-e558-dac69556a6ea",
        "colab": {
          "base_uri": "https://localhost:8080/"
        }
      },
      "execution_count": 191,
      "outputs": [
        {
          "output_type": "stream",
          "name": "stdout",
          "text": [
            "Preparing balanced dataset\n",
            "X, Y size: 32\n",
            "X_train size: 23, X_test size: 9\n",
            "Size of common data between train and test: 0\n",
            "Proportion of \"1\" in train: 0.5217391304347826\n",
            "Proportion of \"1\" in test: 0.4444444444444444\n",
            "23 5\n",
            "<class 'list'>\n",
            "<class 'numpy.ndarray'>\n",
            "23/23 [==============================] - 0s 2ms/step - loss: 0.8473 - accuracy: 0.3043\n",
            "Model: \"sequential_13\"\n",
            "_________________________________________________________________\n",
            " Layer (type)                Output Shape              Param #   \n",
            "=================================================================\n",
            " dense_13 (Dense)            (None, 1)                 6         \n",
            "                                                                 \n",
            "=================================================================\n",
            "Total params: 6\n",
            "Trainable params: 6\n",
            "Non-trainable params: 0\n",
            "_________________________________________________________________\n",
            "None\n",
            "1/1 [==============================] - 0s 114ms/step - loss: 0.8328 - accuracy: 0.3478\n",
            "1/1 [==============================] - 0s 21ms/step - loss: 0.8094 - accuracy: 0.2222\n"
          ]
        }
      ]
    },
    {
      "cell_type": "markdown",
      "source": [
        "## CPU FFNN VS Fu Malik"
      ],
      "metadata": {
        "id": "s8q0pCDRll9L"
      }
    },
    {
      "cell_type": "code",
      "source": [
        "experiment_results['cpu_time'], experiment_results['ffnn_cpu_timer']"
      ],
      "metadata": {
        "colab": {
          "base_uri": "https://localhost:8080/"
        },
        "id": "eTxEN1Rt9WZn",
        "outputId": "2b59614c-ebb2-470c-ebe8-27b3c557b7ce"
      },
      "execution_count": 192,
      "outputs": [
        {
          "output_type": "execute_result",
          "data": {
            "text/plain": [
              "(1.7291143219990772, 0.4343018220006343)"
            ]
          },
          "metadata": {},
          "execution_count": 192
        }
      ]
    },
    {
      "cell_type": "code",
      "source": [
        "fig, ax = plt.subplots()\n",
        "plot_bar(\n",
        "    ax, \n",
        "    x = ['Fu Malik', 'FFNN'],\n",
        "    y = [experiment_results['cpu_time'], experiment_results['ffnn_cpu_timer']],\n",
        "    xlab = 'Algorithm',\n",
        "    ylab = 'CPU time, sec',\n",
        "    title = 'Comparison of CPU time'\n",
        ")"
      ],
      "metadata": {
        "colab": {
          "base_uri": "https://localhost:8080/",
          "height": 314
        },
        "id": "UzRhADtClo9s",
        "outputId": "129118d8-f462-455b-fc52-d88f5eaa5543"
      },
      "execution_count": 193,
      "outputs": [
        {
          "output_type": "display_data",
          "data": {
            "text/plain": [
              "<Figure size 432x288 with 1 Axes>"
            ],
            "image/png": "[encoded data removed]"
          },
          "metadata": {
            "needs_background": "light"
          }
        }
      ]
    },
    {
      "cell_type": "markdown",
      "source": [
        "## Number of parameters FFNN VS Fu Malik"
      ],
      "metadata": {
        "id": "c9RfcUESmugB"
      }
    },
    {
      "cell_type": "code",
      "source": [
        "fig, ax = plt.subplots()\n",
        "plot_bar(\n",
        "    ax, \n",
        "    x = ['Fu Malik', 'FFNN'],\n",
        "    y = [experiment_results['n_neurons'], experiment_results['ffnn_n_parameters']],\n",
        "    xlab = 'Algorithm',\n",
        "    ylab = 'Number of parameters',\n",
        "    title = 'Comparison of parameters number'\n",
        ")"
      ],
      "metadata": {
        "colab": {
          "base_uri": "https://localhost:8080/",
          "height": 314
        },
        "id": "tFpKXc-wms6f",
        "outputId": "79adb6f8-475f-4cc6-ff1e-e8a5ae016f76"
      },
      "execution_count": 194,
      "outputs": [
        {
          "output_type": "display_data",
          "data": {
            "text/plain": [
              "<Figure size 432x288 with 1 Axes>"
            ],
            "image/png": "[encoded data removed]"
          },
          "metadata": {
            "needs_background": "light"
          }
        }
      ]
    },
    {
      "cell_type": "markdown",
      "source": [
        "## Train and test accuracy"
      ],
      "metadata": {
        "id": "sSlUyFeFoLFZ"
      }
    },
    {
      "cell_type": "code",
      "source": [
        "fig, ax = plt.subplots()\n",
        "\n",
        "\n",
        "plot_bar(\n",
        "    ax, \n",
        "    x = ['Fu Malik', 'FFNN'],\n",
        "    y = [experiment_results['train_acc'], experiment_results['ffnn_train_acc']],\n",
        "    xlab = 'Algorithm',\n",
        "    ylab = 'Accuracy',\n",
        "    title = 'Metrics comparison'\n",
        ")\n",
        "\n",
        "plot_bar(\n",
        "    ax, \n",
        "    x = ['Fu Malik', 'FFNN'],\n",
        "    y = [experiment_results['test_acc'], experiment_results['ffnn_test_acc']],\n",
        "    xlab = 'Algorithm',\n",
        "    ylab = 'Accuracy',\n",
        "    title = 'Metrics comparison'\n",
        ")\n",
        "\n",
        "ax.legend(['Train', 'Test'], prop = {'size': 15})\n",
        "ax.grid()"
      ],
      "metadata": {
        "colab": {
          "base_uri": "https://localhost:8080/",
          "height": 314
        },
        "id": "ad_ID9M5oMGu",
        "outputId": "0b1f13e3-ef14-423a-f968-16146ebdf50e"
      },
      "execution_count": 195,
      "outputs": [
        {
          "output_type": "display_data",
          "data": {
            "text/plain": [
              "<Figure size 432x288 with 1 Axes>"
            ],
            "image/png": "[encoded data removed]"
          },
          "metadata": {
            "needs_background": "light"
          }
        }
      ]
    },
    {
      "cell_type": "code",
      "source": [
        "experiment_results['ffnn_train_acc'], experiment_results['ffnn_test_acc']"
      ],
      "metadata": {
        "colab": {
          "base_uri": "https://localhost:8080/"
        },
        "id": "UUKxXA4K5ecG",
        "outputId": "048c43ac-3a71-406f-8f0c-3c29cf18f769"
      },
      "execution_count": 196,
      "outputs": [
        {
          "output_type": "execute_result",
          "data": {
            "text/plain": [
              "(0.3478260934352875, 0.2222222238779068)"
            ]
          },
          "metadata": {},
          "execution_count": 196
        }
      ]
    },
    {
      "cell_type": "code",
      "source": [
        "experiment_results['train_acc'], experiment_results['test_acc']"
      ],
      "metadata": {
        "colab": {
          "base_uri": "https://localhost:8080/"
        },
        "id": "rj65Mv9d6SHu",
        "outputId": "0a2dfcef-8238-417c-8e31-01b1f2a358a0"
      },
      "execution_count": 170,
      "outputs": [
        {
          "output_type": "execute_result",
          "data": {
            "text/plain": [
              "(0.5652173913043478, 0.5555555555555556)"
            ]
          },
          "metadata": {},
          "execution_count": 170
        }
      ]
    }
  ]
}
