{
  "nbformat": 4,
  "nbformat_minor": 0,
  "metadata": {
    "colab": {
      "name": "KDM project.ipynb",
      "provenance": []
    },
    "kernelspec": {
      "name": "python3",
      "display_name": "Python 3"
    },
    "language_info": {
      "name": "python"
    }
  },
  "cells": [
    {
      "cell_type": "code",
      "source": [
        "import itertools\n",
        "import numpy as np\n",
        "\n",
        "somelists = [\n",
        "#    [1, 2],\n",
        "#    [2, 3],\n",
        "#    [1, 3]\n",
        "    ['0', '0~'],\n",
        "    ['1', '1~'],\n",
        "    ['0', '0~']\n",
        "]\n",
        "\n",
        "lists = [\n",
        "         [1, 2],\n",
        "         [1, 3],\n",
        "         [2, 3]\n",
        "]\n",
        "\n",
        "print(*itertools.product(*somelists))\n",
        "print(*itertools.product(*lists))\n",
        "\n",
        "#for element in itertools.product(*somelists):\n",
        "#    print(element)"
      ],
      "metadata": {
        "id": "8GnD2xG-Yogn",
        "outputId": "93381236-336f-4e36-d705-72f1f1f45abe",
        "colab": {
          "base_uri": "https://localhost:8080/"
        }
      },
      "execution_count": 2,
      "outputs": [
        {
          "output_type": "stream",
          "name": "stdout",
          "text": [
            "('0', '1', '0') ('0', '1', '0~') ('0', '1~', '0') ('0', '1~', '0~') ('0~', '1', '0') ('0~', '1', '0~') ('0~', '1~', '0') ('0~', '1~', '0~')\n",
            "(1, 1, 2) (1, 1, 3) (1, 3, 2) (1, 3, 3) (2, 1, 2) (2, 1, 3) (2, 3, 2) (2, 3, 3)\n"
          ]
        }
      ]
    },
    {
      "cell_type": "code",
      "source": [
        "from sympy.logic.boolalg import to_cnf\n",
        "from sympy.abc import A, B, C, D, E, F, G, H, J\n",
        "\n",
        "\n",
        "# to_cnf((A & B) | (C & D) | (E & F) | (G & H))\n",
        "to_cnf((A & B) | (C & D) | (E & F))\n",
        "# to_cnf((~A & ~B) | (~C & ~D) | (~E & ~F))\n",
        "# to_cnf((A & B & C) | (D & E & F))"
      ],
      "metadata": {
        "colab": {
          "base_uri": "https://localhost:8080/",
          "height": 39
        },
        "id": "36kQYuZNpElx",
        "outputId": "7c2074ac-114b-48f3-c828-6586601e43a2"
      },
      "execution_count": 3,
      "outputs": [
        {
          "output_type": "execute_result",
          "data": {
            "text/plain": [
              "(A | C | E) & (A | C | F) & (A | D | E) & (A | D | F) & (B | C | E) & (B | C | F) & (B | D | E) & (B | D | F)"
            ],
            "text/latex": "$\\displaystyle \\left(A \\vee C \\vee E\\right) \\wedge \\left(A \\vee C \\vee F\\right) \\wedge \\left(A \\vee D \\vee E\\right) \\wedge \\left(A \\vee D \\vee F\\right) \\wedge \\left(B \\vee C \\vee E\\right) \\wedge \\left(B \\vee C \\vee F\\right) \\wedge \\left(B \\vee D \\vee E\\right) \\wedge \\left(B \\vee D \\vee F\\right)$"
          },
          "metadata": {},
          "execution_count": 3
        }
      ]
    },
    {
      "cell_type": "code",
      "source": [
        "to_cnf(((~A & B) | (A & ~B)) | ((~C & D) | (C & ~D)) | ((~E & F) | (E & ~F)))"
      ],
      "metadata": {
        "id": "EW5pnh8mj2nQ",
        "outputId": "18137e26-99bb-4783-fd9a-87a619f03efa",
        "colab": {
          "base_uri": "https://localhost:8080/",
          "height": 384
        }
      },
      "execution_count": 70,
      "outputs": [
        {
          "output_type": "execute_result",
          "data": {
            "text/plain": [
              "(A | B | C | D | E | F) & (A | B | C | D | E | ~E) & (A | B | C | D | F | ~F) & (A | B | C | E | F | ~C) & (A | B | D | E | F | ~D) & (A | C | D | E | F | ~A) & (B | C | D | E | F | ~B) & (A | B | C | D | ~E | ~F) & (A | B | C | E | ~C | ~E) & (A | B | C | F | ~C | ~F) & (A | B | D | E | ~D | ~E) & (A | B | D | F | ~D | ~F) & (A | B | E | F | ~C | ~D) & (A | C | D | E | ~A | ~E) & (A | C | D | F | ~A | ~F) & (A | C | E | F | ~A | ~C) & (A | D | E | F | ~A | ~D) & (B | C | D | E | ~B | ~E) & (B | C | D | F | ~B | ~F) & (B | C | E | F | ~B | ~C) & (B | D | E | F | ~B | ~D) & (C | D | E | F | ~A | ~B) & (A | B | C | ~C | ~E | ~F) & (A | B | D | ~D | ~E | ~F) & (A | B | E | ~C | ~D | ~E) & (A | B | F | ~C | ~D | ~F) & (A | C | D | ~A | ~E | ~F) & (A | C | E | ~A | ~C | ~E) & (A | C | F | ~A | ~C | ~F) & (A | D | E | ~A | ~D | ~E) & (A | D | F | ~A | ~D | ~F) & (A | E | F | ~A | ~C | ~D) & (B | C | D | ~B | ~E | ~F) & (B | C | E | ~B | ~C | ~E) & (B | C | F | ~B | ~C | ~F) & (B | D | E | ~B | ~D | ~E) & (B | D | F | ~B | ~D | ~F) & (B | E | F | ~B | ~C | ~D) & (C | D | E | ~A | ~B | ~E) & (C | D | F | ~A | ~B | ~F) & (C | E | F | ~A | ~B | ~C) & (D | E | F | ~A | ~B | ~D) & (A | B | ~C | ~D | ~E | ~F) & (A | C | ~A | ~C | ~E | ~F) & (A | D | ~A | ~D | ~E | ~F) & (A | E | ~A | ~C | ~D | ~E) & (A | F | ~A | ~C | ~D | ~F) & (B | C | ~B | ~C | ~E | ~F) & (B | D | ~B | ~D | ~E | ~F) & (B | E | ~B | ~C | ~D | ~E) & (B | F | ~B | ~C | ~D | ~F) & (C | D | ~A | ~B | ~E | ~F) & (C | E | ~A | ~B | ~C | ~E) & (C | F | ~A | ~B | ~C | ~F) & (D | E | ~A | ~B | ~D | ~E) & (D | F | ~A | ~B | ~D | ~F) & (E | F | ~A | ~B | ~C | ~D) & (A | ~A | ~C | ~D | ~E | ~F) & (B | ~B | ~C | ~D | ~E | ~F) & (C | ~A | ~B | ~C | ~E | ~F) & (D | ~A | ~B | ~D | ~E | ~F) & (E | ~A | ~B | ~C | ~D | ~E) & (F | ~A | ~B | ~C | ~D | ~F) & (~A | ~B | ~C | ~D | ~E | ~F)"
            ],
            "text/latex": "$\\displaystyle \\left(A \\vee B \\vee C \\vee D \\vee E \\vee F\\right) \\wedge \\left(A \\vee B \\vee C \\vee D \\vee E \\vee \\neg E\\right) \\wedge \\left(A \\vee B \\vee C \\vee D \\vee F \\vee \\neg F\\right) \\wedge \\left(A \\vee B \\vee C \\vee D \\vee \\neg E \\vee \\neg F\\right) \\wedge \\left(A \\vee B \\vee C \\vee E \\vee F \\vee \\neg C\\right) \\wedge \\left(A \\vee B \\vee C \\vee E \\vee \\neg C \\vee \\neg E\\right) \\wedge \\left(A \\vee B \\vee C \\vee F \\vee \\neg C \\vee \\neg F\\right) \\wedge \\left(A \\vee B \\vee C \\vee \\neg C \\vee \\neg E \\vee \\neg F\\right) \\wedge \\left(A \\vee B \\vee D \\vee E \\vee F \\vee \\neg D\\right) \\wedge \\left(A \\vee B \\vee D \\vee E \\vee \\neg D \\vee \\neg E\\right) \\wedge \\left(A \\vee B \\vee D \\vee F \\vee \\neg D \\vee \\neg F\\right) \\wedge \\left(A \\vee B \\vee D \\vee \\neg D \\vee \\neg E \\vee \\neg F\\right) \\wedge \\left(A \\vee B \\vee E \\vee F \\vee \\neg C \\vee \\neg D\\right) \\wedge \\left(A \\vee B \\vee E \\vee \\neg C \\vee \\neg D \\vee \\neg E\\right) \\wedge \\left(A \\vee B \\vee F \\vee \\neg C \\vee \\neg D \\vee \\neg F\\right) \\wedge \\left(A \\vee B \\vee \\neg C \\vee \\neg D \\vee \\neg E \\vee \\neg F\\right) \\wedge \\left(A \\vee C \\vee D \\vee E \\vee F \\vee \\neg A\\right) \\wedge \\left(A \\vee C \\vee D \\vee E \\vee \\neg A \\vee \\neg E\\right) \\wedge \\left(A \\vee C \\vee D \\vee F \\vee \\neg A \\vee \\neg F\\right) \\wedge \\left(A \\vee C \\vee D \\vee \\neg A \\vee \\neg E \\vee \\neg F\\right) \\wedge \\left(A \\vee C \\vee E \\vee F \\vee \\neg A \\vee \\neg C\\right) \\wedge \\left(A \\vee C \\vee E \\vee \\neg A \\vee \\neg C \\vee \\neg E\\right) \\wedge \\left(A \\vee C \\vee F \\vee \\neg A \\vee \\neg C \\vee \\neg F\\right) \\wedge \\left(A \\vee C \\vee \\neg A \\vee \\neg C \\vee \\neg E \\vee \\neg F\\right) \\wedge \\left(A \\vee D \\vee E \\vee F \\vee \\neg A \\vee \\neg D\\right) \\wedge \\left(A \\vee D \\vee E \\vee \\neg A \\vee \\neg D \\vee \\neg E\\right) \\wedge \\left(A \\vee D \\vee F \\vee \\neg A \\vee \\neg D \\vee \\neg F\\right) \\wedge \\left(A \\vee D \\vee \\neg A \\vee \\neg D \\vee \\neg E \\vee \\neg F\\right) \\wedge \\left(A \\vee E \\vee F \\vee \\neg A \\vee \\neg C \\vee \\neg D\\right) \\wedge \\left(A \\vee E \\vee \\neg A \\vee \\neg C \\vee \\neg D \\vee \\neg E\\right) \\wedge \\left(A \\vee F \\vee \\neg A \\vee \\neg C \\vee \\neg D \\vee \\neg F\\right) \\wedge \\left(A \\vee \\neg A \\vee \\neg C \\vee \\neg D \\vee \\neg E \\vee \\neg F\\right) \\wedge \\left(B \\vee C \\vee D \\vee E \\vee F \\vee \\neg B\\right) \\wedge \\left(B \\vee C \\vee D \\vee E \\vee \\neg B \\vee \\neg E\\right) \\wedge \\left(B \\vee C \\vee D \\vee F \\vee \\neg B \\vee \\neg F\\right) \\wedge \\left(B \\vee C \\vee D \\vee \\neg B \\vee \\neg E \\vee \\neg F\\right) \\wedge \\left(B \\vee C \\vee E \\vee F \\vee \\neg B \\vee \\neg C\\right) \\wedge \\left(B \\vee C \\vee E \\vee \\neg B \\vee \\neg C \\vee \\neg E\\right) \\wedge \\left(B \\vee C \\vee F \\vee \\neg B \\vee \\neg C \\vee \\neg F\\right) \\wedge \\left(B \\vee C \\vee \\neg B \\vee \\neg C \\vee \\neg E \\vee \\neg F\\right) \\wedge \\left(B \\vee D \\vee E \\vee F \\vee \\neg B \\vee \\neg D\\right) \\wedge \\left(B \\vee D \\vee E \\vee \\neg B \\vee \\neg D \\vee \\neg E\\right) \\wedge \\left(B \\vee D \\vee F \\vee \\neg B \\vee \\neg D \\vee \\neg F\\right) \\wedge \\left(B \\vee D \\vee \\neg B \\vee \\neg D \\vee \\neg E \\vee \\neg F\\right) \\wedge \\left(B \\vee E \\vee F \\vee \\neg B \\vee \\neg C \\vee \\neg D\\right) \\wedge \\left(B \\vee E \\vee \\neg B \\vee \\neg C \\vee \\neg D \\vee \\neg E\\right) \\wedge \\left(B \\vee F \\vee \\neg B \\vee \\neg C \\vee \\neg D \\vee \\neg F\\right) \\wedge \\left(B \\vee \\neg B \\vee \\neg C \\vee \\neg D \\vee \\neg E \\vee \\neg F\\right) \\wedge \\left(C \\vee D \\vee E \\vee F \\vee \\neg A \\vee \\neg B\\right) \\wedge \\left(C \\vee D \\vee E \\vee \\neg A \\vee \\neg B \\vee \\neg E\\right) \\wedge \\left(C \\vee D \\vee F \\vee \\neg A \\vee \\neg B \\vee \\neg F\\right) \\wedge \\left(C \\vee D \\vee \\neg A \\vee \\neg B \\vee \\neg E \\vee \\neg F\\right) \\wedge \\left(C \\vee E \\vee F \\vee \\neg A \\vee \\neg B \\vee \\neg C\\right) \\wedge \\left(C \\vee E \\vee \\neg A \\vee \\neg B \\vee \\neg C \\vee \\neg E\\right) \\wedge \\left(C \\vee F \\vee \\neg A \\vee \\neg B \\vee \\neg C \\vee \\neg F\\right) \\wedge \\left(C \\vee \\neg A \\vee \\neg B \\vee \\neg C \\vee \\neg E \\vee \\neg F\\right) \\wedge \\left(D \\vee E \\vee F \\vee \\neg A \\vee \\neg B \\vee \\neg D\\right) \\wedge \\left(D \\vee E \\vee \\neg A \\vee \\neg B \\vee \\neg D \\vee \\neg E\\right) \\wedge \\left(D \\vee F \\vee \\neg A \\vee \\neg B \\vee \\neg D \\vee \\neg F\\right) \\wedge \\left(D \\vee \\neg A \\vee \\neg B \\vee \\neg D \\vee \\neg E \\vee \\neg F\\right) \\wedge \\left(E \\vee F \\vee \\neg A \\vee \\neg B \\vee \\neg C \\vee \\neg D\\right) \\wedge \\left(E \\vee \\neg A \\vee \\neg B \\vee \\neg C \\vee \\neg D \\vee \\neg E\\right) \\wedge \\left(F \\vee \\neg A \\vee \\neg B \\vee \\neg C \\vee \\neg D \\vee \\neg F\\right) \\wedge \\left(\\neg A \\vee \\neg B \\vee \\neg C \\vee \\neg D \\vee \\neg E \\vee \\neg F\\right)$"
          },
          "metadata": {},
          "execution_count": 70
        }
      ]
    },
    {
      "cell_type": "markdown",
      "source": [
        "# Packages"
      ],
      "metadata": {
        "id": "TBLlFPegyHfJ"
      }
    },
    {
      "cell_type": "code",
      "source": [
        "%%capture\n",
        "!pip install python-sat"
      ],
      "metadata": {
        "id": "qmIq0duBhPyO"
      },
      "execution_count": 4,
      "outputs": []
    },
    {
      "cell_type": "code",
      "source": [
        "from pysat.examples.fm import FM\n",
        "from pysat.formula import WCNF\n",
        "from itertools import combinations\n",
        "import math"
      ],
      "metadata": {
        "id": "PsyheJ3iyYwZ"
      },
      "execution_count": 5,
      "outputs": []
    },
    {
      "cell_type": "markdown",
      "source": [
        "# Task"
      ],
      "metadata": {
        "id": "56UA6gjtyaND"
      }
    },
    {
      "cell_type": "code",
      "source": [
        "from pysat.formula import CNF\n",
        "from pysat.formula import WCNF"
      ],
      "metadata": {
        "id": "l41b0a7WzCNQ"
      },
      "execution_count": 6,
      "outputs": []
    },
    {
      "cell_type": "code",
      "source": [
        "n_neurons = 3\n",
        "n_train = 3\n",
        "n_features = n_neurons\n",
        "\n",
        "assert(n_neurons % 2 == 1)  # odd number of neurons is allowed\n",
        "\n",
        "def check_if_2nd_feature_true(X):\n",
        "    return [x_i[1] is True for x_i in X]\n",
        "\n",
        "def prepare_dataset(n_train_, n_features_, func_):\n",
        "    X = [\n",
        "         [True, False, False],\n",
        "         [False, True, False],\n",
        "         [True, True, False]\n",
        "    ]\n",
        "    Y = func_(X)\n",
        "    return X, Y\n",
        "\n",
        "X, Y = prepare_dataset(\n",
        "    n_train_ = n_train, \n",
        "    n_features_ = n_features,\n",
        "    func_ = check_if_2nd_feature_true\n",
        ")"
      ],
      "metadata": {
        "id": "n8oj3ad5z1kT"
      },
      "execution_count": 7,
      "outputs": []
    },
    {
      "cell_type": "code",
      "source": [
        "print(X)\n",
        "print(Y)"
      ],
      "metadata": {
        "colab": {
          "base_uri": "https://localhost:8080/"
        },
        "id": "s4l0g4_u1HaM",
        "outputId": "53cfe6ca-0fe1-432f-c566-5177b70d6a51"
      },
      "execution_count": 8,
      "outputs": [
        {
          "output_type": "stream",
          "name": "stdout",
          "text": [
            "[[True, False, False], [False, True, False], [True, True, False]]\n",
            "[False, True, True]\n"
          ]
        }
      ]
    },
    {
      "cell_type": "code",
      "source": [
        "# wcnf = WCNF()\n",
        "\n",
        "# wcnf.append([-1, 2]) \n",
        "# wcnf.append([-2, 3])\n",
        "# wcnf.append([-3, True])\n",
        "# wcnf.append([4, True])\n",
        "\n",
        "# print(wcnf.soft)\n",
        "# print(wcnf.hard)\n",
        "# print(wcnf.wght)\n",
        "\n",
        "# fm = FM(wcnf,verbose=10)\n",
        "# fm.compute()"
      ],
      "metadata": {
        "colab": {
          "base_uri": "https://localhost:8080/"
        },
        "id": "JRQogtAqzHCn",
        "outputId": "e7b3e75f-347e-4109-de6e-ac85f6630210"
      },
      "execution_count": 9,
      "outputs": [
        {
          "output_type": "stream",
          "name": "stdout",
          "text": [
            "[]\n",
            "[[-1, 2], [-2, 3], [-3, True], [4, True]]\n",
            "[]\n"
          ]
        },
        {
          "output_type": "execute_result",
          "data": {
            "text/plain": [
              "True"
            ]
          },
          "metadata": {},
          "execution_count": 9
        }
      ]
    },
    {
      "cell_type": "code",
      "source": [
        "# def encode_features(X):\n",
        "#     n = len(X)\n",
        "#     m = len(X[0])\n",
        "#     print(f'Shape of X: n = {n}, m = {m}')\n",
        "#     prop_features = [[i * n + j + 1 for j in range(m)] for i in range(n)]\n",
        "#     return np.array(prop_features)\n",
        "\n",
        "\n",
        "# Encoding weights\n",
        "prop_weights_indices = [i for i in range(n_neurons)]"
      ],
      "metadata": {
        "id": "xta2-dov1PTy"
      },
      "execution_count": 71,
      "outputs": []
    },
    {
      "cell_type": "code",
      "source": [
        "prop_weights_indices"
      ],
      "metadata": {
        "colab": {
          "base_uri": "https://localhost:8080/"
        },
        "id": "YyCqpCYVwReF",
        "outputId": "294c1cab-ee2c-4f92-fc42-f7e143283970"
      },
      "execution_count": 72,
      "outputs": [
        {
          "output_type": "execute_result",
          "data": {
            "text/plain": [
              "[0, 1, 2]"
            ]
          },
          "metadata": {},
          "execution_count": 72
        }
      ]
    },
    {
      "cell_type": "code",
      "source": [
        "group_size = int(math.ceil(n_neurons / 2))\n",
        "assert group_size == math.floor(n_neurons / 2 + 1)"
      ],
      "metadata": {
        "id": "sYBO_qFqvIih"
      },
      "execution_count": 73,
      "outputs": []
    },
    {
      "cell_type": "code",
      "source": [
        "combos = list(combinations(prop_weights_indices, group_size))\n",
        "print(combos[:3])"
      ],
      "metadata": {
        "colab": {
          "base_uri": "https://localhost:8080/"
        },
        "id": "6LMxbIF5ys3a",
        "outputId": "2ff7039e-d6c1-4008-d4ba-3a4e09cf4bc7"
      },
      "execution_count": 74,
      "outputs": [
        {
          "output_type": "stream",
          "name": "stdout",
          "text": [
            "[(0, 1), (0, 2), (1, 2)]\n"
          ]
        }
      ]
    },
    {
      "cell_type": "code",
      "source": [
        "cartesian_prod = list(itertools.product(*combos))\n",
        "print(cartesian_prod)"
      ],
      "metadata": {
        "colab": {
          "base_uri": "https://localhost:8080/"
        },
        "id": "1Sb-Yjx8zPR8",
        "outputId": "51a297fa-e54f-4519-c5aa-4e2727ea1e38"
      },
      "execution_count": 75,
      "outputs": [
        {
          "output_type": "stream",
          "name": "stdout",
          "text": [
            "[(0, 0, 1), (0, 0, 2), (0, 2, 1), (0, 2, 2), (1, 0, 1), (1, 0, 2), (1, 2, 1), (1, 2, 2)]\n"
          ]
        }
      ]
    },
    {
      "cell_type": "code",
      "source": [
        "clauses_cartesian_products = []\n",
        "for c in cartesian_prod:\n",
        "    print(f'Combo: {c}')\n",
        "    l = [[f'{symb}', f'~{symb}'] for symb in c]\n",
        "    l_cart_prod = list(itertools.product(*l))\n",
        "    clauses_cartesian_products += l_cart_prod\n",
        "    print(l)\n",
        "    print(l_cart_prod)"
      ],
      "metadata": {
        "colab": {
          "base_uri": "https://localhost:8080/"
        },
        "id": "VySTsESd4vJ3",
        "outputId": "9e382992-063a-4040-9335-e1c740b0ae41"
      },
      "execution_count": 76,
      "outputs": [
        {
          "output_type": "stream",
          "name": "stdout",
          "text": [
            "Combo: (0, 0, 1)\n",
            "[['0', '~0'], ['0', '~0'], ['1', '~1']]\n",
            "[('0', '0', '1'), ('0', '0', '~1'), ('0', '~0', '1'), ('0', '~0', '~1'), ('~0', '0', '1'), ('~0', '0', '~1'), ('~0', '~0', '1'), ('~0', '~0', '~1')]\n",
            "Combo: (0, 0, 2)\n",
            "[['0', '~0'], ['0', '~0'], ['2', '~2']]\n",
            "[('0', '0', '2'), ('0', '0', '~2'), ('0', '~0', '2'), ('0', '~0', '~2'), ('~0', '0', '2'), ('~0', '0', '~2'), ('~0', '~0', '2'), ('~0', '~0', '~2')]\n",
            "Combo: (0, 2, 1)\n",
            "[['0', '~0'], ['2', '~2'], ['1', '~1']]\n",
            "[('0', '2', '1'), ('0', '2', '~1'), ('0', '~2', '1'), ('0', '~2', '~1'), ('~0', '2', '1'), ('~0', '2', '~1'), ('~0', '~2', '1'), ('~0', '~2', '~1')]\n",
            "Combo: (0, 2, 2)\n",
            "[['0', '~0'], ['2', '~2'], ['2', '~2']]\n",
            "[('0', '2', '2'), ('0', '2', '~2'), ('0', '~2', '2'), ('0', '~2', '~2'), ('~0', '2', '2'), ('~0', '2', '~2'), ('~0', '~2', '2'), ('~0', '~2', '~2')]\n",
            "Combo: (1, 0, 1)\n",
            "[['1', '~1'], ['0', '~0'], ['1', '~1']]\n",
            "[('1', '0', '1'), ('1', '0', '~1'), ('1', '~0', '1'), ('1', '~0', '~1'), ('~1', '0', '1'), ('~1', '0', '~1'), ('~1', '~0', '1'), ('~1', '~0', '~1')]\n",
            "Combo: (1, 0, 2)\n",
            "[['1', '~1'], ['0', '~0'], ['2', '~2']]\n",
            "[('1', '0', '2'), ('1', '0', '~2'), ('1', '~0', '2'), ('1', '~0', '~2'), ('~1', '0', '2'), ('~1', '0', '~2'), ('~1', '~0', '2'), ('~1', '~0', '~2')]\n",
            "Combo: (1, 2, 1)\n",
            "[['1', '~1'], ['2', '~2'], ['1', '~1']]\n",
            "[('1', '2', '1'), ('1', '2', '~1'), ('1', '~2', '1'), ('1', '~2', '~1'), ('~1', '2', '1'), ('~1', '2', '~1'), ('~1', '~2', '1'), ('~1', '~2', '~1')]\n",
            "Combo: (1, 2, 2)\n",
            "[['1', '~1'], ['2', '~2'], ['2', '~2']]\n",
            "[('1', '2', '2'), ('1', '2', '~2'), ('1', '~2', '2'), ('1', '~2', '~2'), ('~1', '2', '2'), ('~1', '2', '~2'), ('~1', '~2', '2'), ('~1', '~2', '~2')]\n"
          ]
        }
      ]
    },
    {
      "cell_type": "code",
      "source": [
        "clauses_cartesian_products"
      ],
      "metadata": {
        "colab": {
          "base_uri": "https://localhost:8080/"
        },
        "id": "evAlDjEjSgpO",
        "outputId": "4996547e-03f2-4c13-aa58-38cc34df8ac0"
      },
      "execution_count": 77,
      "outputs": [
        {
          "output_type": "execute_result",
          "data": {
            "text/plain": [
              "[('0', '0', '1'),\n",
              " ('0', '0', '~1'),\n",
              " ('0', '~0', '1'),\n",
              " ('0', '~0', '~1'),\n",
              " ('~0', '0', '1'),\n",
              " ('~0', '0', '~1'),\n",
              " ('~0', '~0', '1'),\n",
              " ('~0', '~0', '~1'),\n",
              " ('0', '0', '2'),\n",
              " ('0', '0', '~2'),\n",
              " ('0', '~0', '2'),\n",
              " ('0', '~0', '~2'),\n",
              " ('~0', '0', '2'),\n",
              " ('~0', '0', '~2'),\n",
              " ('~0', '~0', '2'),\n",
              " ('~0', '~0', '~2'),\n",
              " ('0', '2', '1'),\n",
              " ('0', '2', '~1'),\n",
              " ('0', '~2', '1'),\n",
              " ('0', '~2', '~1'),\n",
              " ('~0', '2', '1'),\n",
              " ('~0', '2', '~1'),\n",
              " ('~0', '~2', '1'),\n",
              " ('~0', '~2', '~1'),\n",
              " ('0', '2', '2'),\n",
              " ('0', '2', '~2'),\n",
              " ('0', '~2', '2'),\n",
              " ('0', '~2', '~2'),\n",
              " ('~0', '2', '2'),\n",
              " ('~0', '2', '~2'),\n",
              " ('~0', '~2', '2'),\n",
              " ('~0', '~2', '~2'),\n",
              " ('1', '0', '1'),\n",
              " ('1', '0', '~1'),\n",
              " ('1', '~0', '1'),\n",
              " ('1', '~0', '~1'),\n",
              " ('~1', '0', '1'),\n",
              " ('~1', '0', '~1'),\n",
              " ('~1', '~0', '1'),\n",
              " ('~1', '~0', '~1'),\n",
              " ('1', '0', '2'),\n",
              " ('1', '0', '~2'),\n",
              " ('1', '~0', '2'),\n",
              " ('1', '~0', '~2'),\n",
              " ('~1', '0', '2'),\n",
              " ('~1', '0', '~2'),\n",
              " ('~1', '~0', '2'),\n",
              " ('~1', '~0', '~2'),\n",
              " ('1', '2', '1'),\n",
              " ('1', '2', '~1'),\n",
              " ('1', '~2', '1'),\n",
              " ('1', '~2', '~1'),\n",
              " ('~1', '2', '1'),\n",
              " ('~1', '2', '~1'),\n",
              " ('~1', '~2', '1'),\n",
              " ('~1', '~2', '~1'),\n",
              " ('1', '2', '2'),\n",
              " ('1', '2', '~2'),\n",
              " ('1', '~2', '2'),\n",
              " ('1', '~2', '~2'),\n",
              " ('~1', '2', '2'),\n",
              " ('~1', '2', '~2'),\n",
              " ('~1', '~2', '2'),\n",
              " ('~1', '~2', '~2')]"
            ]
          },
          "metadata": {},
          "execution_count": 77
        }
      ]
    },
    {
      "cell_type": "code",
      "source": [
        "import numpy as np\n",
        "\n",
        "print(len(clauses_cartesian_products))\n",
        "len(np.unique(clauses_cartesian_products))\n",
        "len(set(clauses_cartesian_products))"
      ],
      "metadata": {
        "colab": {
          "base_uri": "https://localhost:8080/"
        },
        "id": "KtSX0TgSS59m",
        "outputId": "f26e6c3c-0cc0-4852-9192-9bce5193763f"
      },
      "execution_count": 78,
      "outputs": [
        {
          "output_type": "stream",
          "name": "stdout",
          "text": [
            "64\n"
          ]
        },
        {
          "output_type": "execute_result",
          "data": {
            "text/plain": [
              "64"
            ]
          },
          "metadata": {},
          "execution_count": 78
        }
      ]
    },
    {
      "cell_type": "code",
      "source": [
        "def encode_prop_features(X):\n",
        "    n = len(X)\n",
        "    m = len(X[0])\n",
        "    prop_features = []\n",
        "    for i in range(n):\n",
        "        vals = [i * n + j for j in range(m)]\n",
        "        prop_features.append(vals)\n",
        "    \n",
        "\n",
        "    for i in range(n):\n",
        "        for j in range(m):\n",
        "            print(f'X[{i}][{j}] is encoded as {prop_features[i][j]}')\n",
        "\n",
        "    return prop_features\n",
        "\n",
        "prop_features = encode_prop_features(X)\n",
        "print(prop_features)"
      ],
      "metadata": {
        "colab": {
          "base_uri": "https://localhost:8080/"
        },
        "id": "0abCqDn2YPTk",
        "outputId": "a4d02821-aaec-4c20-a40b-70e1233fa563"
      },
      "execution_count": 79,
      "outputs": [
        {
          "output_type": "stream",
          "name": "stdout",
          "text": [
            "X[0][0] is encoded as 0\n",
            "X[0][1] is encoded as 1\n",
            "X[0][2] is encoded as 2\n",
            "X[1][0] is encoded as 3\n",
            "X[1][1] is encoded as 4\n",
            "X[1][2] is encoded as 5\n",
            "X[2][0] is encoded as 6\n",
            "X[2][1] is encoded as 7\n",
            "X[2][2] is encoded as 8\n",
            "[[0, 1, 2], [3, 4, 5], [6, 7, 8]]\n"
          ]
        }
      ]
    },
    {
      "cell_type": "code",
      "source": [
        "for i in range(len(X)):\n",
        "    for c in clauses_cartesian_products:\n",
        "        # ('0', '0', '1')\n",
        "        # Here we optimize - we dont need to add identical clauses\n",
        "        \n",
        "        # print(set(c), c)\n",
        "        clause = []\n",
        "        unique_clause_symbols = set(c)  # ('0', '0', '1') --> ('0', '1')\n",
        "        # '1' signifies ~w1 V x_i1\n",
        "        # '~1' signifies w1 V ~x_i1\n",
        "        for symbol in unique_clause_symbols:  # ('0', '~2', '1')\n",
        "            if not '~' in symbol:\n",
        "                # then (e.f. for '1') its not(w_1) V (x_i1)\n",
        "                index = int(symbol)\n",
        "                clause.append(-prop_weights_indices[index])\n",
        "                clause.append(prop_features[i][index])\n",
        "            elif '~' in symbol:\n",
        "                # then (e.f. for '1') its (w_1) V not(x_i1)\n",
        "                symbol = symbol.replace('~', '')\n",
        "                index = int(symbol)\n",
        "                clause.append(prop_weights_indices[index])\n",
        "                clause.append(-prop_features[i][index])\n",
        "        optimized_clause = list(set(clause))\n",
        "        print(f'Our clause: {clause} -> {optimized_clause}')\n"
      ],
      "metadata": {
        "colab": {
          "base_uri": "https://localhost:8080/"
        },
        "id": "gtzOzy4eUFhR",
        "outputId": "0f6c3d51-3117-4240-9955-76ae8eb14c70"
      },
      "execution_count": 67,
      "outputs": [
        {
          "output_type": "stream",
          "name": "stdout",
          "text": [
            "Our clause: [-1, 1, 0, 0] -> [0, 1, -1]\n",
            "Our clause: [1, -1, 0, 0] -> [0, 1, -1]\n",
            "Our clause: [0, 0, -1, 1, 0, 0] -> [0, 1, -1]\n",
            "Our clause: [0, 0, 1, -1, 0, 0] -> [0, 1, -1]\n",
            "Our clause: [0, 0, -1, 1, 0, 0] -> [0, 1, -1]\n",
            "Our clause: [0, 0, 1, -1, 0, 0] -> [0, 1, -1]\n",
            "Our clause: [0, 0, -1, 1] -> [0, 1, -1]\n",
            "Our clause: [0, 0, 1, -1] -> [0, 1, -1]\n",
            "Our clause: [-2, 2, 0, 0] -> [0, 2, -2]\n",
            "Our clause: [2, -2, 0, 0] -> [0, 2, -2]\n",
            "Our clause: [0, 0, -2, 2, 0, 0] -> [0, 2, -2]\n",
            "Our clause: [0, 0, 2, -2, 0, 0] -> [0, 2, -2]\n",
            "Our clause: [0, 0, -2, 2, 0, 0] -> [0, 2, -2]\n",
            "Our clause: [0, 0, 2, -2, 0, 0] -> [0, 2, -2]\n",
            "Our clause: [0, 0, -2, 2] -> [0, 2, -2]\n",
            "Our clause: [0, 0, 2, -2] -> [0, 2, -2]\n",
            "Our clause: [-1, 1, -2, 2, 0, 0] -> [0, 1, 2, -2, -1]\n",
            "Our clause: [1, -1, -2, 2, 0, 0] -> [0, 1, 2, -2, -1]\n",
            "Our clause: [2, -2, -1, 1, 0, 0] -> [0, 1, 2, -1, -2]\n",
            "Our clause: [2, -2, 1, -1, 0, 0] -> [0, 1, 2, -1, -2]\n",
            "Our clause: [0, 0, -1, 1, -2, 2] -> [0, 1, 2, -2, -1]\n",
            "Our clause: [0, 0, -2, 2, 1, -1] -> [0, 1, 2, -1, -2]\n",
            "Our clause: [0, 0, -1, 1, 2, -2] -> [0, 1, 2, -2, -1]\n",
            "Our clause: [0, 0, 1, -1, 2, -2] -> [0, 1, 2, -2, -1]\n",
            "Our clause: [-2, 2, 0, 0] -> [0, 2, -2]\n",
            "Our clause: [2, -2, -2, 2, 0, 0] -> [0, 2, -2]\n",
            "Our clause: [2, -2, -2, 2, 0, 0] -> [0, 2, -2]\n",
            "Our clause: [2, -2, 0, 0] -> [0, 2, -2]\n",
            "Our clause: [0, 0, -2, 2] -> [0, 2, -2]\n",
            "Our clause: [0, 0, -2, 2, 2, -2] -> [0, 2, -2]\n",
            "Our clause: [0, 0, -2, 2, 2, -2] -> [0, 2, -2]\n",
            "Our clause: [0, 0, 2, -2] -> [0, 2, -2]\n",
            "Our clause: [-1, 1, 0, 0] -> [0, 1, -1]\n",
            "Our clause: [1, -1, -1, 1, 0, 0] -> [0, 1, -1]\n",
            "Our clause: [0, 0, -1, 1] -> [0, 1, -1]\n",
            "Our clause: [0, 0, -1, 1, 1, -1] -> [0, 1, -1]\n",
            "Our clause: [-1, 1, 1, -1, 0, 0] -> [0, 1, -1]\n",
            "Our clause: [1, -1, 0, 0] -> [0, 1, -1]\n",
            "Our clause: [0, 0, -1, 1, 1, -1] -> [0, 1, -1]\n",
            "Our clause: [0, 0, 1, -1] -> [0, 1, -1]\n",
            "Our clause: [-2, 2, -1, 1, 0, 0] -> [0, 1, 2, -1, -2]\n",
            "Our clause: [2, -2, -1, 1, 0, 0] -> [0, 1, 2, -1, -2]\n",
            "Our clause: [0, 0, -2, 2, -1, 1] -> [0, 1, 2, -1, -2]\n",
            "Our clause: [0, 0, -1, 1, 2, -2] -> [0, 1, 2, -2, -1]\n",
            "Our clause: [-2, 2, 1, -1, 0, 0] -> [0, 1, 2, -1, -2]\n",
            "Our clause: [2, -2, 1, -1, 0, 0] -> [0, 1, 2, -1, -2]\n",
            "Our clause: [0, 0, -2, 2, 1, -1] -> [0, 1, 2, -1, -2]\n",
            "Our clause: [0, 0, 1, -1, 2, -2] -> [0, 1, 2, -2, -1]\n",
            "Our clause: [-2, 2, -1, 1] -> [1, 2, -2, -1]\n",
            "Our clause: [-2, 2, -1, 1, 1, -1] -> [1, 2, -2, -1]\n",
            "Our clause: [-1, 1, 2, -2] -> [1, 2, -1, -2]\n",
            "Our clause: [1, -1, -1, 1, 2, -2] -> [1, 2, -1, -2]\n",
            "Our clause: [-2, 2, -1, 1, 1, -1] -> [1, 2, -2, -1]\n",
            "Our clause: [-2, 2, 1, -1] -> [1, 2, -2, -1]\n",
            "Our clause: [-1, 1, 1, -1, 2, -2] -> [1, 2, -1, -2]\n",
            "Our clause: [1, -1, 2, -2] -> [1, 2, -1, -2]\n",
            "Our clause: [-2, 2, -1, 1] -> [1, 2, -2, -1]\n",
            "Our clause: [-2, 2, -1, 1, 2, -2] -> [1, 2, -2, -1]\n",
            "Our clause: [-2, 2, -1, 1, 2, -2] -> [1, 2, -2, -1]\n",
            "Our clause: [-1, 1, 2, -2] -> [1, 2, -1, -2]\n",
            "Our clause: [-2, 2, 1, -1] -> [1, 2, -2, -1]\n",
            "Our clause: [-2, 2, 1, -1, 2, -2] -> [1, 2, -2, -1]\n",
            "Our clause: [-2, 2, 1, -1, 2, -2] -> [1, 2, -2, -1]\n",
            "Our clause: [1, -1, 2, -2] -> [1, 2, -1, -2]\n",
            "Our clause: [-1, 4, 0, 3] -> [0, 3, 4, -1]\n",
            "Our clause: [1, -4, 0, 3] -> [0, 1, 3, -4]\n",
            "Our clause: [0, -3, -1, 4, 0, 3] -> [0, 3, 4, -3, -1]\n",
            "Our clause: [0, -3, 1, -4, 0, 3] -> [0, 1, 3, -4, -3]\n",
            "Our clause: [0, -3, -1, 4, 0, 3] -> [0, 3, 4, -3, -1]\n",
            "Our clause: [0, -3, 1, -4, 0, 3] -> [0, 1, 3, -4, -3]\n",
            "Our clause: [0, -3, -1, 4] -> [0, 4, -3, -1]\n",
            "Our clause: [0, -3, 1, -4] -> [0, 1, -4, -3]\n",
            "Our clause: [-2, 5, 0, 3] -> [0, 3, 5, -2]\n",
            "Our clause: [2, -5, 0, 3] -> [0, 3, 2, -5]\n",
            "Our clause: [0, -3, -2, 5, 0, 3] -> [0, 3, 5, -3, -2]\n",
            "Our clause: [0, -3, 2, -5, 0, 3] -> [0, 2, 3, -5, -3]\n",
            "Our clause: [0, -3, -2, 5, 0, 3] -> [0, 3, 5, -3, -2]\n",
            "Our clause: [0, -3, 2, -5, 0, 3] -> [0, 2, 3, -5, -3]\n",
            "Our clause: [0, -3, -2, 5] -> [0, 5, -3, -2]\n",
            "Our clause: [0, -3, 2, -5] -> [0, 2, -5, -3]\n",
            "Our clause: [-1, 4, -2, 5, 0, 3] -> [0, 3, 4, 5, -2, -1]\n",
            "Our clause: [1, -4, -2, 5, 0, 3] -> [0, 1, 3, 5, -4, -2]\n",
            "Our clause: [2, -5, -1, 4, 0, 3] -> [0, 2, 3, 4, -5, -1]\n",
            "Our clause: [2, -5, 1, -4, 0, 3] -> [0, 1, 2, 3, -5, -4]\n",
            "Our clause: [0, -3, -1, 4, -2, 5] -> [0, 4, 5, -2, -3, -1]\n",
            "Our clause: [0, -3, -2, 5, 1, -4] -> [0, 1, 5, -4, -3, -2]\n",
            "Our clause: [0, -3, -1, 4, 2, -5] -> [0, 2, 4, -5, -3, -1]\n",
            "Our clause: [0, -3, 1, -4, 2, -5] -> [0, 1, 2, -5, -4, -3]\n",
            "Our clause: [-2, 5, 0, 3] -> [0, 3, 5, -2]\n",
            "Our clause: [2, -5, -2, 5, 0, 3] -> [0, 2, 3, 5, -5, -2]\n",
            "Our clause: [2, -5, -2, 5, 0, 3] -> [0, 2, 3, 5, -5, -2]\n",
            "Our clause: [2, -5, 0, 3] -> [0, 3, 2, -5]\n",
            "Our clause: [0, -3, -2, 5] -> [0, 5, -3, -2]\n",
            "Our clause: [0, -3, -2, 5, 2, -5] -> [0, 2, 5, -5, -3, -2]\n",
            "Our clause: [0, -3, -2, 5, 2, -5] -> [0, 2, 5, -5, -3, -2]\n",
            "Our clause: [0, -3, 2, -5] -> [0, 2, -5, -3]\n",
            "Our clause: [-1, 4, 0, 3] -> [0, 3, 4, -1]\n",
            "Our clause: [1, -4, -1, 4, 0, 3] -> [0, 1, 3, 4, -4, -1]\n",
            "Our clause: [0, -3, -1, 4] -> [0, 4, -3, -1]\n",
            "Our clause: [0, -3, -1, 4, 1, -4] -> [0, 1, 4, -4, -3, -1]\n",
            "Our clause: [-1, 4, 1, -4, 0, 3] -> [0, 1, 3, 4, -4, -1]\n",
            "Our clause: [1, -4, 0, 3] -> [0, 1, 3, -4]\n",
            "Our clause: [0, -3, -1, 4, 1, -4] -> [0, 1, 4, -4, -3, -1]\n",
            "Our clause: [0, -3, 1, -4] -> [0, 1, -4, -3]\n",
            "Our clause: [-2, 5, -1, 4, 0, 3] -> [0, 3, 4, 5, -1, -2]\n",
            "Our clause: [2, -5, -1, 4, 0, 3] -> [0, 2, 3, 4, -5, -1]\n",
            "Our clause: [0, -3, -2, 5, -1, 4] -> [0, 4, 5, -1, -3, -2]\n",
            "Our clause: [0, -3, -1, 4, 2, -5] -> [0, 2, 4, -5, -3, -1]\n",
            "Our clause: [-2, 5, 1, -4, 0, 3] -> [0, 1, 3, 5, -4, -2]\n",
            "Our clause: [2, -5, 1, -4, 0, 3] -> [0, 1, 2, 3, -5, -4]\n",
            "Our clause: [0, -3, -2, 5, 1, -4] -> [0, 1, 5, -4, -3, -2]\n",
            "Our clause: [0, -3, 1, -4, 2, -5] -> [0, 1, 2, -5, -4, -3]\n",
            "Our clause: [-2, 5, -1, 4] -> [4, 5, -2, -1]\n",
            "Our clause: [-2, 5, -1, 4, 1, -4] -> [1, 4, 5, -1, -4, -2]\n",
            "Our clause: [-1, 4, 2, -5] -> [2, -5, 4, -1]\n",
            "Our clause: [1, -4, -1, 4, 2, -5] -> [1, 2, 4, -5, -4, -1]\n",
            "Our clause: [-2, 5, -1, 4, 1, -4] -> [1, 4, 5, -1, -4, -2]\n",
            "Our clause: [-2, 5, 1, -4] -> [1, -4, 5, -2]\n",
            "Our clause: [-1, 4, 1, -4, 2, -5] -> [1, 2, 4, -5, -4, -1]\n",
            "Our clause: [1, -4, 2, -5] -> [1, 2, -5, -4]\n",
            "Our clause: [-2, 5, -1, 4] -> [4, 5, -2, -1]\n",
            "Our clause: [-2, 5, -1, 4, 2, -5] -> [2, 4, 5, -1, -5, -2]\n",
            "Our clause: [-2, 5, -1, 4, 2, -5] -> [2, 4, 5, -1, -5, -2]\n",
            "Our clause: [-1, 4, 2, -5] -> [2, -5, 4, -1]\n",
            "Our clause: [-2, 5, 1, -4] -> [1, -4, 5, -2]\n",
            "Our clause: [-2, 5, 1, -4, 2, -5] -> [1, 2, 5, -5, -4, -2]\n",
            "Our clause: [-2, 5, 1, -4, 2, -5] -> [1, 2, 5, -5, -4, -2]\n",
            "Our clause: [1, -4, 2, -5] -> [1, 2, -5, -4]\n",
            "Our clause: [-1, 7, 0, 6] -> [0, 6, -1, 7]\n",
            "Our clause: [1, -7, 0, 6] -> [0, 1, -7, 6]\n",
            "Our clause: [0, -6, -1, 7, 0, 6] -> [0, 6, 7, -6, -1]\n",
            "Our clause: [0, -6, 1, -7, 0, 6] -> [0, 1, 6, -7, -6]\n",
            "Our clause: [0, -6, -1, 7, 0, 6] -> [0, 6, 7, -6, -1]\n",
            "Our clause: [0, -6, 1, -7, 0, 6] -> [0, 1, 6, -7, -6]\n",
            "Our clause: [0, -6, -1, 7] -> [0, -6, -1, 7]\n",
            "Our clause: [0, -6, 1, -7] -> [0, 1, -6, -7]\n",
            "Our clause: [-2, 8, 0, 6] -> [8, 0, -2, 6]\n",
            "Our clause: [2, -8, 0, 6] -> [-8, 0, 2, 6]\n",
            "Our clause: [0, -6, -2, 8, 0, 6] -> [0, 6, 8, -6, -2]\n",
            "Our clause: [0, -6, 2, -8, 0, 6] -> [0, 2, 6, -8, -6]\n",
            "Our clause: [0, -6, -2, 8, 0, 6] -> [0, 6, 8, -6, -2]\n",
            "Our clause: [0, -6, 2, -8, 0, 6] -> [0, 2, 6, -8, -6]\n",
            "Our clause: [0, -6, -2, 8] -> [0, 8, -6, -2]\n",
            "Our clause: [0, -6, 2, -8] -> [0, -8, -6, 2]\n",
            "Our clause: [-1, 7, -2, 8, 0, 6] -> [0, 6, 7, 8, -1, -2]\n",
            "Our clause: [1, -7, -2, 8, 0, 6] -> [0, 1, 6, 8, -7, -2]\n",
            "Our clause: [2, -8, -1, 7, 0, 6] -> [0, 2, 6, 7, -8, -1]\n",
            "Our clause: [2, -8, 1, -7, 0, 6] -> [0, 1, 2, 6, -8, -7]\n",
            "Our clause: [0, -6, -1, 7, -2, 8] -> [0, 7, 8, -1, -6, -2]\n",
            "Our clause: [0, -6, -2, 8, 1, -7] -> [0, 1, 8, -7, -6, -2]\n",
            "Our clause: [0, -6, -1, 7, 2, -8] -> [0, 2, 7, -8, -6, -1]\n",
            "Our clause: [0, -6, 1, -7, 2, -8] -> [0, 1, 2, -8, -7, -6]\n",
            "Our clause: [-2, 8, 0, 6] -> [8, 0, -2, 6]\n",
            "Our clause: [2, -8, -2, 8, 0, 6] -> [0, 2, 6, 8, -8, -2]\n",
            "Our clause: [2, -8, -2, 8, 0, 6] -> [0, 2, 6, 8, -8, -2]\n",
            "Our clause: [2, -8, 0, 6] -> [-8, 0, 2, 6]\n",
            "Our clause: [0, -6, -2, 8] -> [0, 8, -6, -2]\n",
            "Our clause: [0, -6, -2, 8, 2, -8] -> [0, 2, 8, -8, -6, -2]\n",
            "Our clause: [0, -6, -2, 8, 2, -8] -> [0, 2, 8, -8, -6, -2]\n",
            "Our clause: [0, -6, 2, -8] -> [0, -8, -6, 2]\n",
            "Our clause: [-1, 7, 0, 6] -> [0, 6, -1, 7]\n",
            "Our clause: [1, -7, -1, 7, 0, 6] -> [0, 1, 6, 7, -7, -1]\n",
            "Our clause: [0, -6, -1, 7] -> [0, -6, -1, 7]\n",
            "Our clause: [0, -6, -1, 7, 1, -7] -> [0, 1, 7, -7, -6, -1]\n",
            "Our clause: [-1, 7, 1, -7, 0, 6] -> [0, 1, 6, 7, -7, -1]\n",
            "Our clause: [1, -7, 0, 6] -> [0, 1, -7, 6]\n",
            "Our clause: [0, -6, -1, 7, 1, -7] -> [0, 1, 7, -7, -6, -1]\n",
            "Our clause: [0, -6, 1, -7] -> [0, 1, -6, -7]\n",
            "Our clause: [-2, 8, -1, 7, 0, 6] -> [0, 6, 7, 8, -1, -2]\n",
            "Our clause: [2, -8, -1, 7, 0, 6] -> [0, 2, 6, 7, -8, -1]\n",
            "Our clause: [0, -6, -2, 8, -1, 7] -> [0, 7, 8, -1, -6, -2]\n",
            "Our clause: [0, -6, -1, 7, 2, -8] -> [0, 2, 7, -8, -6, -1]\n",
            "Our clause: [-2, 8, 1, -7, 0, 6] -> [0, 1, 6, 8, -7, -2]\n",
            "Our clause: [2, -8, 1, -7, 0, 6] -> [0, 1, 2, 6, -8, -7]\n",
            "Our clause: [0, -6, -2, 8, 1, -7] -> [0, 1, 8, -7, -6, -2]\n",
            "Our clause: [0, -6, 1, -7, 2, -8] -> [0, 1, 2, -8, -7, -6]\n",
            "Our clause: [-2, 8, -1, 7] -> [8, 7, -2, -1]\n",
            "Our clause: [-2, 8, -1, 7, 1, -7] -> [1, 7, 8, -1, -7, -2]\n",
            "Our clause: [-1, 7, 2, -8] -> [-8, 2, -1, 7]\n",
            "Our clause: [1, -7, -1, 7, 2, -8] -> [1, 2, 7, -8, -7, -1]\n",
            "Our clause: [-2, 8, -1, 7, 1, -7] -> [1, 7, 8, -1, -7, -2]\n",
            "Our clause: [-2, 8, 1, -7] -> [8, 1, -7, -2]\n",
            "Our clause: [-1, 7, 1, -7, 2, -8] -> [1, 2, 7, -8, -7, -1]\n",
            "Our clause: [1, -7, 2, -8] -> [-8, 1, 2, -7]\n",
            "Our clause: [-2, 8, -1, 7] -> [8, 7, -2, -1]\n",
            "Our clause: [-2, 8, -1, 7, 2, -8] -> [2, 7, 8, -1, -8, -2]\n",
            "Our clause: [-2, 8, -1, 7, 2, -8] -> [2, 7, 8, -1, -8, -2]\n",
            "Our clause: [-1, 7, 2, -8] -> [-8, 2, -1, 7]\n",
            "Our clause: [-2, 8, 1, -7] -> [8, 1, -7, -2]\n",
            "Our clause: [-2, 8, 1, -7, 2, -8] -> [1, 2, 8, -8, -7, -2]\n",
            "Our clause: [-2, 8, 1, -7, 2, -8] -> [1, 2, 8, -8, -7, -2]\n",
            "Our clause: [1, -7, 2, -8] -> [-8, 1, 2, -7]\n"
          ]
        }
      ]
    },
    {
      "cell_type": "code",
      "source": [
        "\n",
        "\n",
        "for x, y in zip(X, Y):\n",
        "    if y is True:\n",
        "        print(f'y is True, add clauses')\n",
        "\n"
      ],
      "metadata": {
        "colab": {
          "base_uri": "https://localhost:8080/"
        },
        "id": "lzsaw5bcTKFn",
        "outputId": "b8ef4dc4-2abf-45b6-9c2a-ed359867b073"
      },
      "execution_count": 29,
      "outputs": [
        {
          "output_type": "execute_result",
          "data": {
            "text/plain": [
              "('0', '0', '1')"
            ]
          },
          "metadata": {},
          "execution_count": 29
        }
      ]
    },
    {
      "cell_type": "code",
      "source": [
        "# Weighted CNF form\n",
        "wcnf = WCNF()\n",
        "\n",
        "\n",
        "for x, y in zip(X, Y):\n",
        "    print(f'Encoding x = {x}, y = {y}')\n",
        "    \n",
        "    # At that step, we have combinations of weight indices\n",
        "    # For example, for 3 weights\n",
        "    # [(w0 == x_i0) & (w1 == x_i1)] V [(w0 == x_i0) & (w2 == x_i2)] V [(w1 == x_i1) & (w2 == x_i2)]\n",
        "\n",
        "    # Each combination in cartesian_prod(w_combinations) - is a special clause:\n",
        "    # For example, for n_weights == 3, after cartesian product, all combinations:\n",
        "    # (001) (002) (021) (022) (101) (102) (121) (122)\n",
        "    # Which means (for the first clause (001)):\n",
        "    # (w_0 == x_i0) | (w_0 == x_i0) | (w_1 == x_i1)\n",
        "\n",
        "    # However, we still did not expand the equivalence (==):\n",
        "    # [(~w_0 V x_i0) & (w_0 V ~x_i0)] V [(~w_0 V x_i0) & (w_0 V ~x_i0)] V [(~w_1 V x_i1) & (w_1 V ~x_i1)]\n",
        "\n",
        "    # And this also has to be transformed into CNF:\n",
        "    # Do substitution:\n",
        "    # [(0) & (~0)] V [(0) & (~0)] V [(1) & (~1)]\n",
        "    # Where 0: ~w_0 V x_i0, ~0: w_0 V ~x_i0\n",
        "    # We have to transfer (001) -> [[0, ~0], [0, ~0], [1, ~1]] and make a cartesian product of it\n",
        "\n",
        "    \n",
        "\n",
        "    \n",
        "\n",
        "    # for w_combination in combinations(propositional_weights, group_size):\n",
        "    #     # print(c, c[0], c[1])\n",
        "    #     # print(propositional_weights.index(c[0]), propositional_weights.index(c[1]))\n",
        "    #     print(f'weight combination = {w_combination}')\n",
        "        \n",
        "    #     for weight in w_combination:\n",
        "    #         # index of weight --> the same as index of feature of current object x_i in the X dataset\n",
        "    #         w_index = propositional_weights.index(weight)\n",
        "    #         x_feature = x[w_index]\n",
        "    #         print(f'w_{w_index}, x_j = {x_feature}')\n",
        "\n",
        "    #         # Our clause is - weight == x_feature (equivalence)\n",
        "    #         # which is (not(weight) V x_feature) and (not(x_feature) V weight)\n",
        "            \n",
        "    #         first_clause = [-weight, x_feature]\n",
        "    #         second_clause = [weight, -x_feature]\n",
        "    #         wcnf.append\n",
        "\n"
      ],
      "metadata": {
        "colab": {
          "base_uri": "https://localhost:8080/",
          "height": 235
        },
        "id": "Y4v7HDWxEW2-",
        "outputId": "6138711e-c6c7-4abe-cb13-6e823f19ba8e"
      },
      "execution_count": null,
      "outputs": [
        {
          "output_type": "error",
          "ename": "NameError",
          "evalue": "ignored",
          "traceback": [
            "\u001b[0;31m---------------------------------------------------------------------------\u001b[0m",
            "\u001b[0;31mNameError\u001b[0m                                 Traceback (most recent call last)",
            "\u001b[0;32m<ipython-input-18-8f4372190860>\u001b[0m in \u001b[0;36m<module>\u001b[0;34m()\u001b[0m\n\u001b[1;32m      1\u001b[0m \u001b[0;31m# Weighted CNF form\u001b[0m\u001b[0;34m\u001b[0m\u001b[0;34m\u001b[0m\u001b[0;34m\u001b[0m\u001b[0m\n\u001b[1;32m      2\u001b[0m \u001b[0mwcnf\u001b[0m \u001b[0;34m=\u001b[0m \u001b[0mWCNF\u001b[0m\u001b[0;34m(\u001b[0m\u001b[0;34m)\u001b[0m\u001b[0;34m\u001b[0m\u001b[0;34m\u001b[0m\u001b[0m\n\u001b[0;32m----> 3\u001b[0;31m \u001b[0mcombos\u001b[0m \u001b[0;34m=\u001b[0m \u001b[0mlist\u001b[0m\u001b[0;34m(\u001b[0m\u001b[0mcombinations\u001b[0m\u001b[0;34m(\u001b[0m\u001b[0mpropositional_weights\u001b[0m\u001b[0;34m,\u001b[0m \u001b[0mgroup_size\u001b[0m\u001b[0;34m)\u001b[0m\u001b[0;34m)\u001b[0m\u001b[0;34m\u001b[0m\u001b[0;34m\u001b[0m\u001b[0m\n\u001b[0m\u001b[1;32m      4\u001b[0m \u001b[0;34m\u001b[0m\u001b[0m\n\u001b[1;32m      5\u001b[0m \u001b[0;32mfor\u001b[0m \u001b[0mx\u001b[0m\u001b[0;34m,\u001b[0m \u001b[0my\u001b[0m \u001b[0;32min\u001b[0m \u001b[0mzip\u001b[0m\u001b[0;34m(\u001b[0m\u001b[0mX\u001b[0m\u001b[0;34m,\u001b[0m \u001b[0mY\u001b[0m\u001b[0;34m)\u001b[0m\u001b[0;34m:\u001b[0m\u001b[0;34m\u001b[0m\u001b[0;34m\u001b[0m\u001b[0m\n",
            "\u001b[0;31mNameError\u001b[0m: name 'propositional_weights' is not defined"
          ]
        }
      ]
    },
    {
      "cell_type": "code",
      "source": [
        ""
      ],
      "metadata": {
        "id": "EuA3W7WG1wdW"
      },
      "execution_count": null,
      "outputs": []
    },
    {
      "cell_type": "code",
      "source": [
        "# No hard clauses are introduced.\n",
        "# Soft clauses - have weight 1, if the prediction of the network is correct\n",
        "# for a given instance (x_i, y_i) in a dataset"
      ],
      "metadata": {
        "id": "ib6roIks1ykc"
      },
      "execution_count": null,
      "outputs": []
    },
    {
      "cell_type": "code",
      "source": [
        "# Encode this into clauses\n",
        "for x_i, y_i in zip(X, Y):\n",
        "    print(f'Encoding x_i = {x_i}, y_i = {y_i}')\n",
        "    "
      ],
      "metadata": {
        "colab": {
          "base_uri": "https://localhost:8080/"
        },
        "id": "CTt9iMs_2CQT",
        "outputId": "6de82277-f8c2-488c-9bd6-f1957f3c4dbe"
      },
      "execution_count": null,
      "outputs": [
        {
          "output_type": "stream",
          "name": "stdout",
          "text": [
            "Encoding x_i = [True, False, False], y_i = False\n",
            "Encoding x_i = [False, True, False], y_i = True\n",
            "Encoding x_i = [True, True, False], y_i = True\n"
          ]
        }
      ]
    },
    {
      "cell_type": "code",
      "source": [
        ""
      ],
      "metadata": {
        "id": "HVg9nRUf3ati"
      },
      "execution_count": null,
      "outputs": []
    }
  ]
}