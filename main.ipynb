{
  "nbformat": 4,
  "nbformat_minor": 0,
  "metadata": {
    "colab": {
      "name": "KDM project.ipynb",
      "provenance": []
    },
    "kernelspec": {
      "name": "python3",
      "display_name": "Python 3"
    },
    "language_info": {
      "name": "python"
    }
  },
  "cells": [
    {
      "cell_type": "code",
      "source": [
        "import itertools\n",
        "import numpy as np\n",
        "\n",
        "somelists = [\n",
        "#    [1, 2],\n",
        "#    [2, 3],\n",
        "#    [1, 3]\n",
        "    ['0', '0~'],\n",
        "    ['1', '1~'],\n",
        "    ['0', '0~']\n",
        "]\n",
        "\n",
        "lists = [\n",
        "         [1, 2],\n",
        "         [1, 3],\n",
        "         [2, 3]\n",
        "]\n",
        "\n",
        "print(*itertools.product(*somelists))\n",
        "print(*itertools.product(*lists))\n",
        "\n",
        "#for element in itertools.product(*somelists):\n",
        "#    print(element)"
      ],
      "metadata": {
        "id": "8GnD2xG-Yogn",
        "outputId": "6894c8f4-b2ba-4a4a-ec10-c12701d4306a",
        "colab": {
          "base_uri": "https://localhost:8080/"
        }
      },
      "execution_count": 59,
      "outputs": [
        {
          "output_type": "stream",
          "name": "stdout",
          "text": [
            "('0', '1', '0') ('0', '1', '0~') ('0', '1~', '0') ('0', '1~', '0~') ('0~', '1', '0') ('0~', '1', '0~') ('0~', '1~', '0') ('0~', '1~', '0~')\n",
            "(1, 1, 2) (1, 1, 3) (1, 3, 2) (1, 3, 3) (2, 1, 2) (2, 1, 3) (2, 3, 2) (2, 3, 3)\n"
          ]
        }
      ]
    },
    {
      "cell_type": "code",
      "source": [
        "from sympy.logic.boolalg import to_cnf\n",
        "from sympy.abc import A, B, C, D, E, F, G, H, J\n",
        "\n",
        "\n",
        "# to_cnf((A & B) | (C & D) | (E & F) | (G & H))\n",
        "to_cnf((A & B) | (C & D) | (E & F))\n",
        "# to_cnf((~A & ~B) | (~C & ~D) | (~E & ~F))\n",
        "# to_cnf((A & B & C) | (D & E & F))"
      ],
      "metadata": {
        "colab": {
          "base_uri": "https://localhost:8080/",
          "height": 39
        },
        "id": "36kQYuZNpElx",
        "outputId": "29b47757-fadb-4576-e94e-6bfae549ba9f"
      },
      "execution_count": 60,
      "outputs": [
        {
          "output_type": "execute_result",
          "data": {
            "text/plain": [
              "(A | C | E) & (A | C | F) & (A | D | E) & (A | D | F) & (B | C | E) & (B | C | F) & (B | D | E) & (B | D | F)"
            ],
            "text/latex": "$\\displaystyle \\left(A \\vee C \\vee E\\right) \\wedge \\left(A \\vee C \\vee F\\right) \\wedge \\left(A \\vee D \\vee E\\right) \\wedge \\left(A \\vee D \\vee F\\right) \\wedge \\left(B \\vee C \\vee E\\right) \\wedge \\left(B \\vee C \\vee F\\right) \\wedge \\left(B \\vee D \\vee E\\right) \\wedge \\left(B \\vee D \\vee F\\right)$"
          },
          "metadata": {},
          "execution_count": 60
        }
      ]
    },
    {
      "cell_type": "code",
      "source": [
        "to_cnf(((~A & B) | (A & ~B)) | ((~C & D) | (C & ~D))) #  | ((~E & F) | (E & ~F)))"
      ],
      "metadata": {
        "id": "EW5pnh8mj2nQ",
        "outputId": "50c08ce8-b559-41c8-bb9d-71cc5363563e",
        "colab": {
          "base_uri": "https://localhost:8080/",
          "height": 82
        }
      },
      "execution_count": 61,
      "outputs": [
        {
          "output_type": "execute_result",
          "data": {
            "text/plain": [
              "(A | B | C | D) & (A | B | C | ~C) & (A | B | D | ~D) & (A | C | D | ~A) & (B | C | D | ~B) & (A | B | ~C | ~D) & (A | C | ~A | ~C) & (A | D | ~A | ~D) & (B | C | ~B | ~C) & (B | D | ~B | ~D) & (C | D | ~A | ~B) & (A | ~A | ~C | ~D) & (B | ~B | ~C | ~D) & (C | ~A | ~B | ~C) & (D | ~A | ~B | ~D) & (~A | ~B | ~C | ~D)"
            ],
            "text/latex": "$\\displaystyle \\left(A \\vee B \\vee C \\vee D\\right) \\wedge \\left(A \\vee B \\vee C \\vee \\neg C\\right) \\wedge \\left(A \\vee B \\vee D \\vee \\neg D\\right) \\wedge \\left(A \\vee B \\vee \\neg C \\vee \\neg D\\right) \\wedge \\left(A \\vee C \\vee D \\vee \\neg A\\right) \\wedge \\left(A \\vee C \\vee \\neg A \\vee \\neg C\\right) \\wedge \\left(A \\vee D \\vee \\neg A \\vee \\neg D\\right) \\wedge \\left(A \\vee \\neg A \\vee \\neg C \\vee \\neg D\\right) \\wedge \\left(B \\vee C \\vee D \\vee \\neg B\\right) \\wedge \\left(B \\vee C \\vee \\neg B \\vee \\neg C\\right) \\wedge \\left(B \\vee D \\vee \\neg B \\vee \\neg D\\right) \\wedge \\left(B \\vee \\neg B \\vee \\neg C \\vee \\neg D\\right) \\wedge \\left(C \\vee D \\vee \\neg A \\vee \\neg B\\right) \\wedge \\left(C \\vee \\neg A \\vee \\neg B \\vee \\neg C\\right) \\wedge \\left(D \\vee \\neg A \\vee \\neg B \\vee \\neg D\\right) \\wedge \\left(\\neg A \\vee \\neg B \\vee \\neg C \\vee \\neg D\\right)$"
          },
          "metadata": {},
          "execution_count": 61
        }
      ]
    },
    {
      "cell_type": "code",
      "source": [
        "# to_cnf(((A & ~B) | (~A & B)) | ((C & ~D) | (~C & D)) | ((E & ~F) | (~E & F)))\n",
        "to_cnf(((A & ~B) | (~A & B)) | ((C & ~D) | (~C & D)))"
      ],
      "metadata": {
        "colab": {
          "base_uri": "https://localhost:8080/",
          "height": 82
        },
        "id": "eexlR8cItUhl",
        "outputId": "6c4fd3bd-0273-4d86-880c-1561c91fcc4d"
      },
      "execution_count": 62,
      "outputs": [
        {
          "output_type": "execute_result",
          "data": {
            "text/plain": [
              "(A | B | C | D) & (A | B | C | ~C) & (A | B | D | ~D) & (A | C | D | ~A) & (B | C | D | ~B) & (A | B | ~C | ~D) & (A | C | ~A | ~C) & (A | D | ~A | ~D) & (B | C | ~B | ~C) & (B | D | ~B | ~D) & (C | D | ~A | ~B) & (A | ~A | ~C | ~D) & (B | ~B | ~C | ~D) & (C | ~A | ~B | ~C) & (D | ~A | ~B | ~D) & (~A | ~B | ~C | ~D)"
            ],
            "text/latex": "$\\displaystyle \\left(A \\vee B \\vee C \\vee D\\right) \\wedge \\left(A \\vee B \\vee C \\vee \\neg C\\right) \\wedge \\left(A \\vee B \\vee D \\vee \\neg D\\right) \\wedge \\left(A \\vee B \\vee \\neg C \\vee \\neg D\\right) \\wedge \\left(A \\vee C \\vee D \\vee \\neg A\\right) \\wedge \\left(A \\vee C \\vee \\neg A \\vee \\neg C\\right) \\wedge \\left(A \\vee D \\vee \\neg A \\vee \\neg D\\right) \\wedge \\left(A \\vee \\neg A \\vee \\neg C \\vee \\neg D\\right) \\wedge \\left(B \\vee C \\vee D \\vee \\neg B\\right) \\wedge \\left(B \\vee C \\vee \\neg B \\vee \\neg C\\right) \\wedge \\left(B \\vee D \\vee \\neg B \\vee \\neg D\\right) \\wedge \\left(B \\vee \\neg B \\vee \\neg C \\vee \\neg D\\right) \\wedge \\left(C \\vee D \\vee \\neg A \\vee \\neg B\\right) \\wedge \\left(C \\vee \\neg A \\vee \\neg B \\vee \\neg C\\right) \\wedge \\left(D \\vee \\neg A \\vee \\neg B \\vee \\neg D\\right) \\wedge \\left(\\neg A \\vee \\neg B \\vee \\neg C \\vee \\neg D\\right)$"
          },
          "metadata": {},
          "execution_count": 62
        }
      ]
    },
    {
      "cell_type": "code",
      "source": [
        "to_cnf(((A | ~B) & (~A | B)) & ((C | ~D) & (~C | D)))"
      ],
      "metadata": {
        "colab": {
          "base_uri": "https://localhost:8080/",
          "height": 39
        },
        "id": "8rT-sk0ntpYy",
        "outputId": "1e5e3c26-b900-4bf8-ccd5-3e5412cb6053"
      },
      "execution_count": 63,
      "outputs": [
        {
          "output_type": "execute_result",
          "data": {
            "text/plain": [
              "(A | ~B) & (B | ~A) & (C | ~D) & (D | ~C)"
            ],
            "text/latex": "$\\displaystyle \\left(A \\vee \\neg B\\right) \\wedge \\left(B \\vee \\neg A\\right) \\wedge \\left(C \\vee \\neg D\\right) \\wedge \\left(D \\vee \\neg C\\right)$"
          },
          "metadata": {},
          "execution_count": 63
        }
      ]
    },
    {
      "cell_type": "code",
      "source": [
        "# iter = itertools.product(*[[0, 1], [0, 1], [0, 1], [0, 1]])\n",
        "\n",
        "# iter = itertools.product(*[[1, 2], [3, 4]])\n",
        "\n",
        "iter = itertools.product(*[['w1', '~w1'], ['x1', '~x1'], ['w2', '~w2'], ['x2', '~x2']])\n",
        "\n",
        "for i in iter:\n",
        "    print(i)"
      ],
      "metadata": {
        "colab": {
          "base_uri": "https://localhost:8080/"
        },
        "id": "Z3bkdiEAvYVD",
        "outputId": "76924dc5-89f6-436d-9afc-87b4c216f586"
      },
      "execution_count": 64,
      "outputs": [
        {
          "output_type": "stream",
          "name": "stdout",
          "text": [
            "('w1', 'x1', 'w2', 'x2')\n",
            "('w1', 'x1', 'w2', '~x2')\n",
            "('w1', 'x1', '~w2', 'x2')\n",
            "('w1', 'x1', '~w2', '~x2')\n",
            "('w1', '~x1', 'w2', 'x2')\n",
            "('w1', '~x1', 'w2', '~x2')\n",
            "('w1', '~x1', '~w2', 'x2')\n",
            "('w1', '~x1', '~w2', '~x2')\n",
            "('~w1', 'x1', 'w2', 'x2')\n",
            "('~w1', 'x1', 'w2', '~x2')\n",
            "('~w1', 'x1', '~w2', 'x2')\n",
            "('~w1', 'x1', '~w2', '~x2')\n",
            "('~w1', '~x1', 'w2', 'x2')\n",
            "('~w1', '~x1', 'w2', '~x2')\n",
            "('~w1', '~x1', '~w2', 'x2')\n",
            "('~w1', '~x1', '~w2', '~x2')\n"
          ]
        }
      ]
    },
    {
      "cell_type": "markdown",
      "source": [
        "# Packages"
      ],
      "metadata": {
        "id": "TBLlFPegyHfJ"
      }
    },
    {
      "cell_type": "code",
      "source": [
        "%%capture\n",
        "!pip install python-sat"
      ],
      "metadata": {
        "id": "qmIq0duBhPyO"
      },
      "execution_count": 65,
      "outputs": []
    },
    {
      "cell_type": "code",
      "source": [
        "from pysat.examples.fm import FM\n",
        "from pysat.formula import WCNF\n",
        "from itertools import combinations\n",
        "import math\n",
        "\n",
        "import numpy as np"
      ],
      "metadata": {
        "id": "PsyheJ3iyYwZ"
      },
      "execution_count": 66,
      "outputs": []
    },
    {
      "cell_type": "markdown",
      "source": [
        "# Prepare indices"
      ],
      "metadata": {
        "id": "QRGzAw8gfY5P"
      }
    },
    {
      "cell_type": "code",
      "source": [
        "n_neurons = 3\n",
        "n_features = n_neurons\n",
        "n_train = 35"
      ],
      "metadata": {
        "id": "wvhysD6xfcQD"
      },
      "execution_count": 158,
      "outputs": []
    },
    {
      "cell_type": "code",
      "source": [
        "# define propositional variables for weights\n",
        "w = np.array([i + 1 for i in range(n_neurons)])\n",
        "print(f'Propositional weights: {w}')"
      ],
      "metadata": {
        "colab": {
          "base_uri": "https://localhost:8080/"
        },
        "id": "p9PYwitDfg-N",
        "outputId": "9168a4d4-db72-424f-9698-07dcb49372ff"
      },
      "execution_count": 159,
      "outputs": [
        {
          "output_type": "stream",
          "name": "stdout",
          "text": [
            "Propositional weights: [1 2 3]\n"
          ]
        }
      ]
    },
    {
      "cell_type": "code",
      "source": [
        "# define propositional variables for X\n",
        "# propositional features cannot have same indices as w --> + 1 + max(w)\n",
        "propositional_features = np.array(\n",
        "    [[i*n_features + j + max(w) + 1 for j in range(n_features)] for i in range(n_train)]\n",
        ")\n",
        "print(propositional_features)\n",
        "\n",
        "for i in range(propositional_features.shape[0]):\n",
        "    for j in range(propositional_features.shape[1]):\n",
        "        print(f'X[{i}][{j}] will be encoded as {propositional_features[i][j]}')"
      ],
      "metadata": {
        "colab": {
          "base_uri": "https://localhost:8080/"
        },
        "id": "7u6yX_Zhf2Ov",
        "outputId": "915b3877-577d-4f8f-fca3-84e53a133994"
      },
      "execution_count": 160,
      "outputs": [
        {
          "output_type": "stream",
          "name": "stdout",
          "text": [
            "[[  4   5   6]\n",
            " [  7   8   9]\n",
            " [ 10  11  12]\n",
            " [ 13  14  15]\n",
            " [ 16  17  18]\n",
            " [ 19  20  21]\n",
            " [ 22  23  24]\n",
            " [ 25  26  27]\n",
            " [ 28  29  30]\n",
            " [ 31  32  33]\n",
            " [ 34  35  36]\n",
            " [ 37  38  39]\n",
            " [ 40  41  42]\n",
            " [ 43  44  45]\n",
            " [ 46  47  48]\n",
            " [ 49  50  51]\n",
            " [ 52  53  54]\n",
            " [ 55  56  57]\n",
            " [ 58  59  60]\n",
            " [ 61  62  63]\n",
            " [ 64  65  66]\n",
            " [ 67  68  69]\n",
            " [ 70  71  72]\n",
            " [ 73  74  75]\n",
            " [ 76  77  78]\n",
            " [ 79  80  81]\n",
            " [ 82  83  84]\n",
            " [ 85  86  87]\n",
            " [ 88  89  90]\n",
            " [ 91  92  93]\n",
            " [ 94  95  96]\n",
            " [ 97  98  99]\n",
            " [100 101 102]\n",
            " [103 104 105]\n",
            " [106 107 108]]\n",
            "X[0][0] will be encoded as 4\n",
            "X[0][1] will be encoded as 5\n",
            "X[0][2] will be encoded as 6\n",
            "X[1][0] will be encoded as 7\n",
            "X[1][1] will be encoded as 8\n",
            "X[1][2] will be encoded as 9\n",
            "X[2][0] will be encoded as 10\n",
            "X[2][1] will be encoded as 11\n",
            "X[2][2] will be encoded as 12\n",
            "X[3][0] will be encoded as 13\n",
            "X[3][1] will be encoded as 14\n",
            "X[3][2] will be encoded as 15\n",
            "X[4][0] will be encoded as 16\n",
            "X[4][1] will be encoded as 17\n",
            "X[4][2] will be encoded as 18\n",
            "X[5][0] will be encoded as 19\n",
            "X[5][1] will be encoded as 20\n",
            "X[5][2] will be encoded as 21\n",
            "X[6][0] will be encoded as 22\n",
            "X[6][1] will be encoded as 23\n",
            "X[6][2] will be encoded as 24\n",
            "X[7][0] will be encoded as 25\n",
            "X[7][1] will be encoded as 26\n",
            "X[7][2] will be encoded as 27\n",
            "X[8][0] will be encoded as 28\n",
            "X[8][1] will be encoded as 29\n",
            "X[8][2] will be encoded as 30\n",
            "X[9][0] will be encoded as 31\n",
            "X[9][1] will be encoded as 32\n",
            "X[9][2] will be encoded as 33\n",
            "X[10][0] will be encoded as 34\n",
            "X[10][1] will be encoded as 35\n",
            "X[10][2] will be encoded as 36\n",
            "X[11][0] will be encoded as 37\n",
            "X[11][1] will be encoded as 38\n",
            "X[11][2] will be encoded as 39\n",
            "X[12][0] will be encoded as 40\n",
            "X[12][1] will be encoded as 41\n",
            "X[12][2] will be encoded as 42\n",
            "X[13][0] will be encoded as 43\n",
            "X[13][1] will be encoded as 44\n",
            "X[13][2] will be encoded as 45\n",
            "X[14][0] will be encoded as 46\n",
            "X[14][1] will be encoded as 47\n",
            "X[14][2] will be encoded as 48\n",
            "X[15][0] will be encoded as 49\n",
            "X[15][1] will be encoded as 50\n",
            "X[15][2] will be encoded as 51\n",
            "X[16][0] will be encoded as 52\n",
            "X[16][1] will be encoded as 53\n",
            "X[16][2] will be encoded as 54\n",
            "X[17][0] will be encoded as 55\n",
            "X[17][1] will be encoded as 56\n",
            "X[17][2] will be encoded as 57\n",
            "X[18][0] will be encoded as 58\n",
            "X[18][1] will be encoded as 59\n",
            "X[18][2] will be encoded as 60\n",
            "X[19][0] will be encoded as 61\n",
            "X[19][1] will be encoded as 62\n",
            "X[19][2] will be encoded as 63\n",
            "X[20][0] will be encoded as 64\n",
            "X[20][1] will be encoded as 65\n",
            "X[20][2] will be encoded as 66\n",
            "X[21][0] will be encoded as 67\n",
            "X[21][1] will be encoded as 68\n",
            "X[21][2] will be encoded as 69\n",
            "X[22][0] will be encoded as 70\n",
            "X[22][1] will be encoded as 71\n",
            "X[22][2] will be encoded as 72\n",
            "X[23][0] will be encoded as 73\n",
            "X[23][1] will be encoded as 74\n",
            "X[23][2] will be encoded as 75\n",
            "X[24][0] will be encoded as 76\n",
            "X[24][1] will be encoded as 77\n",
            "X[24][2] will be encoded as 78\n",
            "X[25][0] will be encoded as 79\n",
            "X[25][1] will be encoded as 80\n",
            "X[25][2] will be encoded as 81\n",
            "X[26][0] will be encoded as 82\n",
            "X[26][1] will be encoded as 83\n",
            "X[26][2] will be encoded as 84\n",
            "X[27][0] will be encoded as 85\n",
            "X[27][1] will be encoded as 86\n",
            "X[27][2] will be encoded as 87\n",
            "X[28][0] will be encoded as 88\n",
            "X[28][1] will be encoded as 89\n",
            "X[28][2] will be encoded as 90\n",
            "X[29][0] will be encoded as 91\n",
            "X[29][1] will be encoded as 92\n",
            "X[29][2] will be encoded as 93\n",
            "X[30][0] will be encoded as 94\n",
            "X[30][1] will be encoded as 95\n",
            "X[30][2] will be encoded as 96\n",
            "X[31][0] will be encoded as 97\n",
            "X[31][1] will be encoded as 98\n",
            "X[31][2] will be encoded as 99\n",
            "X[32][0] will be encoded as 100\n",
            "X[32][1] will be encoded as 101\n",
            "X[32][2] will be encoded as 102\n",
            "X[33][0] will be encoded as 103\n",
            "X[33][1] will be encoded as 104\n",
            "X[33][2] will be encoded as 105\n",
            "X[34][0] will be encoded as 106\n",
            "X[34][1] will be encoded as 107\n",
            "X[34][2] will be encoded as 108\n"
          ]
        }
      ]
    },
    {
      "cell_type": "code",
      "source": [
        "# Now we prepare all indices for the case when y == 1\n",
        "\n",
        "majority_size = int(np.ceil(n_features / 2))\n",
        "assert(majority_size == np.floor(n_features / 2) + 1)\n",
        "\n",
        "features_combinations = list(combinations(w, majority_size))\n",
        "print(features_combinations)  # [(w1 == x_i1) and (w2 == x_i2)] V [(..1) and (..3)] V [(..2) and (..3)]"
      ],
      "metadata": {
        "colab": {
          "base_uri": "https://localhost:8080/"
        },
        "id": "Y_Z9RFguhFpW",
        "outputId": "43023e5a-883c-4fa0-cc72-18eab9fa355b"
      },
      "execution_count": 161,
      "outputs": [
        {
          "output_type": "stream",
          "name": "stdout",
          "text": [
            "[(1, 2), (1, 3), (2, 3)]\n"
          ]
        }
      ]
    },
    {
      "cell_type": "code",
      "source": [
        "# Now prepare all products\n",
        "cartesian_prod = list(itertools.product(*features_combinations))\n",
        "print(cartesian_prod[:10])"
      ],
      "metadata": {
        "colab": {
          "base_uri": "https://localhost:8080/"
        },
        "id": "GZfENxw7huom",
        "outputId": "1f594d12-6b6a-41c9-c02a-bf77f37bfafa"
      },
      "execution_count": 162,
      "outputs": [
        {
          "output_type": "stream",
          "name": "stdout",
          "text": [
            "[(1, 1, 2), (1, 1, 3), (1, 3, 2), (1, 3, 3), (2, 1, 2), (2, 1, 3), (2, 3, 2), (2, 3, 3)]\n"
          ]
        }
      ]
    },
    {
      "cell_type": "code",
      "source": [
        "optimized_products = [np.unique(combo).tolist() for combo in cartesian_prod]\n",
        "\n",
        "def remove_redundant(elements):\n",
        "    res = []\n",
        "    for e in elements:\n",
        "        if not (e in res):\n",
        "            res.append(e)\n",
        "    return res\n",
        "\n",
        "print(optimized_products)\n",
        "optimized_products = remove_redundant(optimized_products)\n",
        "print(optimized_products)"
      ],
      "metadata": {
        "colab": {
          "base_uri": "https://localhost:8080/"
        },
        "id": "qgsHY6J1i_Q_",
        "outputId": "3057ab0f-2d3e-4e4f-bb40-0379a24de936"
      },
      "execution_count": 163,
      "outputs": [
        {
          "output_type": "stream",
          "name": "stdout",
          "text": [
            "[[1, 2], [1, 3], [1, 2, 3], [1, 3], [1, 2], [1, 2, 3], [2, 3], [2, 3]]\n",
            "[[1, 2], [1, 3], [1, 2, 3], [2, 3]]\n"
          ]
        }
      ]
    },
    {
      "cell_type": "markdown",
      "source": [
        "# Encode clauses (indices) for case y == 1"
      ],
      "metadata": {
        "id": "sbUeugE20OBO"
      }
    },
    {
      "cell_type": "code",
      "source": [
        "# Each element of optimized_products represents:\n",
        "# [1, 2] --> (w1 == x_i1) V (w2 == x_i2). But we have not transfered to CNF yet\n",
        "# To do that: [(~w1 V x_i1) & (w1 V ~x_i1)] V [(~w2 V x_i2) & (w2 V ~x_i2)]\n",
        "# which is 'encoded' as [[1, -1], [2, -2]]\n",
        "\n",
        "predfinal_clauses = []\n",
        "for product in optimized_products:\n",
        "    bracket = []\n",
        "    for val in product:\n",
        "        bracket.append([val, -val])\n",
        "    predfinal_clauses.append(bracket)\n",
        "predfinal_clauses"
      ],
      "metadata": {
        "colab": {
          "base_uri": "https://localhost:8080/"
        },
        "id": "5qSLgwdAjo0C",
        "outputId": "00bb9628-915a-471c-b611-c8a1ecb4ad66"
      },
      "execution_count": 164,
      "outputs": [
        {
          "output_type": "execute_result",
          "data": {
            "text/plain": [
              "[[[1, -1], [2, -2]],\n",
              " [[1, -1], [3, -3]],\n",
              " [[1, -1], [2, -2], [3, -3]],\n",
              " [[2, -2], [3, -3]]]"
            ]
          },
          "metadata": {},
          "execution_count": 164
        }
      ]
    },
    {
      "cell_type": "code",
      "source": [
        "# And now we are creating final clauses\n",
        "positive_clauses = []\n",
        "for predfinal_clause in predfinal_clauses:\n",
        "    print(f'predfinal_clause = {predfinal_clause}')\n",
        "    clauses = list(itertools.product(*predfinal_clause))\n",
        "    print(f'Clauses from it: {clauses}')\n",
        "\n",
        "    for clause in clauses:\n",
        "        positive_clauses.append(clause)\n",
        "\n",
        "# (1, 2) means clause (~w1 V x_i1) V (~w2 V x_i2)\n",
        "# (-1, 2) means clause (w1 V ~x_i1) V (~w2 V x_i2)\n",
        "positive_clauses"
      ],
      "metadata": {
        "colab": {
          "base_uri": "https://localhost:8080/"
        },
        "id": "cujAn1XmleSf",
        "outputId": "5c35d9ca-834f-4207-aca4-286abfb08bdb"
      },
      "execution_count": 165,
      "outputs": [
        {
          "output_type": "stream",
          "name": "stdout",
          "text": [
            "predfinal_clause = [[1, -1], [2, -2]]\n",
            "Clauses from it: [(1, 2), (1, -2), (-1, 2), (-1, -2)]\n",
            "predfinal_clause = [[1, -1], [3, -3]]\n",
            "Clauses from it: [(1, 3), (1, -3), (-1, 3), (-1, -3)]\n",
            "predfinal_clause = [[1, -1], [2, -2], [3, -3]]\n",
            "Clauses from it: [(1, 2, 3), (1, 2, -3), (1, -2, 3), (1, -2, -3), (-1, 2, 3), (-1, 2, -3), (-1, -2, 3), (-1, -2, -3)]\n",
            "predfinal_clause = [[2, -2], [3, -3]]\n",
            "Clauses from it: [(2, 3), (2, -3), (-2, 3), (-2, -3)]\n"
          ]
        },
        {
          "output_type": "execute_result",
          "data": {
            "text/plain": [
              "[(1, 2),\n",
              " (1, -2),\n",
              " (-1, 2),\n",
              " (-1, -2),\n",
              " (1, 3),\n",
              " (1, -3),\n",
              " (-1, 3),\n",
              " (-1, -3),\n",
              " (1, 2, 3),\n",
              " (1, 2, -3),\n",
              " (1, -2, 3),\n",
              " (1, -2, -3),\n",
              " (-1, 2, 3),\n",
              " (-1, 2, -3),\n",
              " (-1, -2, 3),\n",
              " (-1, -2, -3),\n",
              " (2, 3),\n",
              " (2, -3),\n",
              " (-2, 3),\n",
              " (-2, -3)]"
            ]
          },
          "metadata": {},
          "execution_count": 165
        }
      ]
    },
    {
      "cell_type": "markdown",
      "source": [
        "# Encode clauses for y == -1"
      ],
      "metadata": {
        "id": "BVm2Le9y025f"
      }
    },
    {
      "cell_type": "code",
      "source": [
        "features_combinations"
      ],
      "metadata": {
        "id": "qzKPAg0x041h",
        "outputId": "948af9a5-7165-4455-d61e-c4d98295650e",
        "colab": {
          "base_uri": "https://localhost:8080/"
        }
      },
      "execution_count": 166,
      "outputs": [
        {
          "output_type": "execute_result",
          "data": {
            "text/plain": [
              "[(1, 2), (1, 3), (2, 3)]"
            ]
          },
          "metadata": {},
          "execution_count": 166
        }
      ]
    },
    {
      "cell_type": "code",
      "source": [
        "ws_xs_list = []\n",
        "for combo in features_combinations:\n",
        "    # print(combo)\n",
        "    symbols = []\n",
        "    for i in combo:\n",
        "        symbols.extend([[f'w {i}', f'~ w {i}']])\n",
        "        symbols.extend([[f'x {i}', f'~ x {i}']])\n",
        "    ws_xs_list.append(symbols)\n",
        "\n",
        "ws_xs_list"
      ],
      "metadata": {
        "id": "J7xEWGNd1KKx",
        "outputId": "75d68c29-f55c-4653-c8ee-a9b80e687134",
        "colab": {
          "base_uri": "https://localhost:8080/"
        }
      },
      "execution_count": 167,
      "outputs": [
        {
          "output_type": "execute_result",
          "data": {
            "text/plain": [
              "[[['w 1', '~ w 1'], ['x 1', '~ x 1'], ['w 2', '~ w 2'], ['x 2', '~ x 2']],\n",
              " [['w 1', '~ w 1'], ['x 1', '~ x 1'], ['w 3', '~ w 3'], ['x 3', '~ x 3']],\n",
              " [['w 2', '~ w 2'], ['x 2', '~ x 2'], ['w 3', '~ w 3'], ['x 3', '~ x 3']]]"
            ]
          },
          "metadata": {},
          "execution_count": 167
        }
      ]
    },
    {
      "cell_type": "code",
      "source": [
        "print(*itertools.product(*ws_xs_list[0]))"
      ],
      "metadata": {
        "id": "e9ULVvvy2GHt",
        "outputId": "67cb2c2d-9cef-4b09-c855-c3c5828acfdf",
        "colab": {
          "base_uri": "https://localhost:8080/"
        }
      },
      "execution_count": 168,
      "outputs": [
        {
          "output_type": "stream",
          "name": "stdout",
          "text": [
            "('w 1', 'x 1', 'w 2', 'x 2') ('w 1', 'x 1', 'w 2', '~ x 2') ('w 1', 'x 1', '~ w 2', 'x 2') ('w 1', 'x 1', '~ w 2', '~ x 2') ('w 1', '~ x 1', 'w 2', 'x 2') ('w 1', '~ x 1', 'w 2', '~ x 2') ('w 1', '~ x 1', '~ w 2', 'x 2') ('w 1', '~ x 1', '~ w 2', '~ x 2') ('~ w 1', 'x 1', 'w 2', 'x 2') ('~ w 1', 'x 1', 'w 2', '~ x 2') ('~ w 1', 'x 1', '~ w 2', 'x 2') ('~ w 1', 'x 1', '~ w 2', '~ x 2') ('~ w 1', '~ x 1', 'w 2', 'x 2') ('~ w 1', '~ x 1', 'w 2', '~ x 2') ('~ w 1', '~ x 1', '~ w 2', 'x 2') ('~ w 1', '~ x 1', '~ w 2', '~ x 2')\n"
          ]
        }
      ]
    },
    {
      "cell_type": "code",
      "source": [
        "negative_clauses = []\n",
        "\n",
        "for combination in ws_xs_list:\n",
        "    for clause in itertools.product(*combination):\n",
        "        # print(clause)\n",
        "        negative_clauses.append(clause)"
      ],
      "metadata": {
        "id": "rP-egjKB2bed"
      },
      "execution_count": 169,
      "outputs": []
    },
    {
      "cell_type": "code",
      "source": [
        "# Here, w1 means 1st weight, x1 - first feature of the object\n",
        "len(set(negative_clauses)), len(negative_clauses)"
      ],
      "metadata": {
        "id": "DONlMFXK225x",
        "outputId": "a9e53a18-a67c-42c2-a62e-de3426d77ef6",
        "colab": {
          "base_uri": "https://localhost:8080/"
        }
      },
      "execution_count": 170,
      "outputs": [
        {
          "output_type": "execute_result",
          "data": {
            "text/plain": [
              "(48, 48)"
            ]
          },
          "metadata": {},
          "execution_count": 170
        }
      ]
    },
    {
      "cell_type": "markdown",
      "source": [
        "# Preparing dataset"
      ],
      "metadata": {
        "id": "zun-o_oZN_Ri"
      }
    },
    {
      "cell_type": "code",
      "source": [
        "def check_if_2nd_feature_true(x):\n",
        "    return x[1] == True\n",
        "\n",
        "def prepare_dataset(n_train_, n_features_, func_):\n",
        "    sample_arr = [True, False]\n",
        "\n",
        "    X = np.random.choice(sample_arr, size = (n_train_, n_features_))\n",
        "    Y = [func_(x) for x in X]\n",
        "    return X, Y\n",
        "\n",
        "# Randomly prepare dataset\n",
        "data_function = check_if_2nd_feature_true\n",
        "\n",
        "X, Y = prepare_dataset(\n",
        "    n_train_ = n_train,\n",
        "    n_features_ = n_features,\n",
        "    func_ = data_function\n",
        ")"
      ],
      "metadata": {
        "id": "H1lFqCS3OAyO"
      },
      "execution_count": 171,
      "outputs": []
    },
    {
      "cell_type": "code",
      "source": [
        "print(X)\n",
        "print(Y)"
      ],
      "metadata": {
        "colab": {
          "base_uri": "https://localhost:8080/"
        },
        "id": "o1BSCZEiPVmP",
        "outputId": "4a199c3a-3a99-4ef4-f210-60ecc22fd41a"
      },
      "execution_count": 172,
      "outputs": [
        {
          "output_type": "stream",
          "name": "stdout",
          "text": [
            "[[False  True  True]\n",
            " [False False  True]\n",
            " [False  True False]\n",
            " [False False  True]\n",
            " [ True  True  True]\n",
            " [ True  True  True]\n",
            " [False False  True]\n",
            " [False  True False]\n",
            " [ True False  True]\n",
            " [ True False False]\n",
            " [ True  True False]\n",
            " [ True False  True]\n",
            " [False False  True]\n",
            " [ True  True False]\n",
            " [ True  True  True]\n",
            " [ True False  True]\n",
            " [False  True False]\n",
            " [ True  True  True]\n",
            " [ True False  True]\n",
            " [ True False  True]\n",
            " [ True  True False]\n",
            " [ True  True False]\n",
            " [ True False  True]\n",
            " [ True  True  True]\n",
            " [False False  True]\n",
            " [ True False False]\n",
            " [False False  True]\n",
            " [False  True False]\n",
            " [False  True False]\n",
            " [ True  True False]\n",
            " [False  True False]\n",
            " [ True False False]\n",
            " [ True False False]\n",
            " [False False  True]\n",
            " [ True  True  True]]\n",
            "[True, False, True, False, True, True, False, True, False, False, True, False, False, True, True, False, True, True, False, False, True, True, False, True, False, False, False, True, True, True, True, False, False, False, True]\n"
          ]
        }
      ]
    },
    {
      "cell_type": "code",
      "source": [
        "for x, y in zip(X, Y):\n",
        "    print(x, data_function(x), y)\n",
        "    assert(data_function(x) == y)"
      ],
      "metadata": {
        "colab": {
          "base_uri": "https://localhost:8080/"
        },
        "id": "sXUnGEupO1Yh",
        "outputId": "32a46dff-48e3-462d-a781-99f31cada142"
      },
      "execution_count": 173,
      "outputs": [
        {
          "output_type": "stream",
          "name": "stdout",
          "text": [
            "[False  True  True] True True\n",
            "[False False  True] False False\n",
            "[False  True False] True True\n",
            "[False False  True] False False\n",
            "[ True  True  True] True True\n",
            "[ True  True  True] True True\n",
            "[False False  True] False False\n",
            "[False  True False] True True\n",
            "[ True False  True] False False\n",
            "[ True False False] False False\n",
            "[ True  True False] True True\n",
            "[ True False  True] False False\n",
            "[False False  True] False False\n",
            "[ True  True False] True True\n",
            "[ True  True  True] True True\n",
            "[ True False  True] False False\n",
            "[False  True False] True True\n",
            "[ True  True  True] True True\n",
            "[ True False  True] False False\n",
            "[ True False  True] False False\n",
            "[ True  True False] True True\n",
            "[ True  True False] True True\n",
            "[ True False  True] False False\n",
            "[ True  True  True] True True\n",
            "[False False  True] False False\n",
            "[ True False False] False False\n",
            "[False False  True] False False\n",
            "[False  True False] True True\n",
            "[False  True False] True True\n",
            "[ True  True False] True True\n",
            "[False  True False] True True\n",
            "[ True False False] False False\n",
            "[ True False False] False False\n",
            "[False False  True] False False\n",
            "[ True  True  True] True True\n"
          ]
        }
      ]
    },
    {
      "cell_type": "markdown",
      "source": [
        "# Encoding into clauses"
      ],
      "metadata": {
        "id": "FSTLEXPcQO50"
      }
    },
    {
      "cell_type": "code",
      "source": [
        "positive_clauses"
      ],
      "metadata": {
        "colab": {
          "base_uri": "https://localhost:8080/"
        },
        "id": "rD-b1m8nQlMb",
        "outputId": "2d54fb02-bd9b-4eb2-8cae-10c7ca62d3fb"
      },
      "execution_count": 174,
      "outputs": [
        {
          "output_type": "execute_result",
          "data": {
            "text/plain": [
              "[(1, 2),\n",
              " (1, -2),\n",
              " (-1, 2),\n",
              " (-1, -2),\n",
              " (1, 3),\n",
              " (1, -3),\n",
              " (-1, 3),\n",
              " (-1, -3),\n",
              " (1, 2, 3),\n",
              " (1, 2, -3),\n",
              " (1, -2, 3),\n",
              " (1, -2, -3),\n",
              " (-1, 2, 3),\n",
              " (-1, 2, -3),\n",
              " (-1, -2, 3),\n",
              " (-1, -2, -3),\n",
              " (2, 3),\n",
              " (2, -3),\n",
              " (-2, 3),\n",
              " (-2, -3)]"
            ]
          },
          "metadata": {},
          "execution_count": 174
        }
      ]
    },
    {
      "cell_type": "code",
      "source": [
        "propositional_features[0]"
      ],
      "metadata": {
        "colab": {
          "base_uri": "https://localhost:8080/"
        },
        "id": "d_B65MxuY_kY",
        "outputId": "d75cf17c-9e4c-49de-9bdd-15b5fc3b84b5"
      },
      "execution_count": 175,
      "outputs": [
        {
          "output_type": "execute_result",
          "data": {
            "text/plain": [
              "array([4, 5, 6])"
            ]
          },
          "metadata": {},
          "execution_count": 175
        }
      ]
    },
    {
      "cell_type": "code",
      "source": [
        "len(positive_clauses), positive_clauses"
      ],
      "metadata": {
        "colab": {
          "base_uri": "https://localhost:8080/"
        },
        "id": "qBvBhPo_RVc5",
        "outputId": "44e3ce99-458b-4274-9194-9dd1d0197d52"
      },
      "execution_count": 176,
      "outputs": [
        {
          "output_type": "execute_result",
          "data": {
            "text/plain": [
              "(20,\n",
              " [(1, 2),\n",
              "  (1, -2),\n",
              "  (-1, 2),\n",
              "  (-1, -2),\n",
              "  (1, 3),\n",
              "  (1, -3),\n",
              "  (-1, 3),\n",
              "  (-1, -3),\n",
              "  (1, 2, 3),\n",
              "  (1, 2, -3),\n",
              "  (1, -2, 3),\n",
              "  (1, -2, -3),\n",
              "  (-1, 2, 3),\n",
              "  (-1, 2, -3),\n",
              "  (-1, -2, 3),\n",
              "  (-1, -2, -3),\n",
              "  (2, 3),\n",
              "  (2, -3),\n",
              "  (-2, 3),\n",
              "  (-2, -3)])"
            ]
          },
          "metadata": {},
          "execution_count": 176
        }
      ]
    },
    {
      "cell_type": "markdown",
      "source": [
        "# Encoding soft clauses"
      ],
      "metadata": {
        "id": "Z8lMx199epNo"
      }
    },
    {
      "cell_type": "code",
      "source": [
        "def calc_update(letters, x, w):\n",
        "    # ['~', 'x', '2']\n",
        "    x_or_w = ''\n",
        "    to_put_minus = 1\n",
        "\n",
        "    if letters[0] == '~':\n",
        "        x_or_w = letters[1]\n",
        "        to_put_minus = -1\n",
        "    else:\n",
        "        x_or_w = letters[0]\n",
        "        to_put_minus = 1\n",
        "    \n",
        "    index = int(letters[-1])\n",
        "    if x_or_w == 'x':\n",
        "        return int(to_put_minus * x[index - 1])\n",
        "        \n",
        "    if x_or_w == 'w':\n",
        "        return int(to_put_minus * w[index - 1])\n",
        "\n",
        "# w[i] is a (i+1)th weight (i.e. w = (1, 2, 3), 1 = w[0], 2 = w[1], 3 = w[2])\n",
        "wcnf_form = WCNF()\n",
        "\n",
        "for i in range(len(Y)):\n",
        "    \n",
        "    y_i = Y[i]\n",
        "\n",
        "    if y_i == True:\n",
        "        print(f'Encoding for y True')\n",
        "        for positive_clause in positive_clauses:\n",
        "            # if (1, -2) clause --> [(w[0] V ~x[i][0]) V (~w[1] V x[i][1])] clause\n",
        "            clause_to_add = []\n",
        "            for index in positive_clause:\n",
        "                abs_index = abs(index)\n",
        "                prop_weight = w[abs_index - 1]  # variable, where weight is encoded\n",
        "                prop_feature = propositional_features[i][abs_index - 1]  # feature, that is encoded\n",
        "\n",
        "                if index < 0:\n",
        "                    clause_to_add.extend([int(-prop_weight), int(prop_feature)])\n",
        "                else:\n",
        "                    clause_to_add.extend([int(prop_weight), int(-prop_feature)])\n",
        "            # print(f'Clause: {clause_to_add}')\n",
        "            wcnf_form.append(clause_to_add, weight = 1)\n",
        "\n",
        "    elif y_i == False:\n",
        "        print(f'Encoding for negative y')\n",
        "        for negative_clause in negative_clauses:\n",
        "            # ('w 1', 'x 1', '~ w 2', '~ x 2')\n",
        "\n",
        "            clause_to_add = []\n",
        "            for symbol in negative_clause:\n",
        "                # symbol is a string, like \"w 1\" or \"~ x 2\"\n",
        "                letters = symbol.split(' ')\n",
        "                clause_to_add.append(int(calc_update(letters, propositional_features[i], w)))\n",
        "            # print(f'Clause: {clause_to_add}')\n",
        "            wcnf_form.append(clause_to_add, weight = 1)"
      ],
      "metadata": {
        "colab": {
          "base_uri": "https://localhost:8080/"
        },
        "id": "JAL9LlkQQQzk",
        "outputId": "3a46cf26-94f1-45aa-babd-2a10a87d2db3"
      },
      "execution_count": 177,
      "outputs": [
        {
          "output_type": "stream",
          "name": "stdout",
          "text": [
            "Encoding for y True\n",
            "Encoding for negative y\n",
            "Encoding for y True\n",
            "Encoding for negative y\n",
            "Encoding for y True\n",
            "Encoding for y True\n",
            "Encoding for negative y\n",
            "Encoding for y True\n",
            "Encoding for negative y\n",
            "Encoding for negative y\n",
            "Encoding for y True\n",
            "Encoding for negative y\n",
            "Encoding for negative y\n",
            "Encoding for y True\n",
            "Encoding for y True\n",
            "Encoding for negative y\n",
            "Encoding for y True\n",
            "Encoding for y True\n",
            "Encoding for negative y\n",
            "Encoding for negative y\n",
            "Encoding for y True\n",
            "Encoding for y True\n",
            "Encoding for negative y\n",
            "Encoding for y True\n",
            "Encoding for negative y\n",
            "Encoding for negative y\n",
            "Encoding for negative y\n",
            "Encoding for y True\n",
            "Encoding for y True\n",
            "Encoding for y True\n",
            "Encoding for y True\n",
            "Encoding for negative y\n",
            "Encoding for negative y\n",
            "Encoding for negative y\n",
            "Encoding for y True\n"
          ]
        }
      ]
    },
    {
      "cell_type": "markdown",
      "source": [
        "# Encoding hard clauses"
      ],
      "metadata": {
        "id": "55FAA32EfQJH"
      }
    },
    {
      "cell_type": "code",
      "source": [
        "print(X)\n",
        "print(propositional_features)"
      ],
      "metadata": {
        "colab": {
          "base_uri": "https://localhost:8080/"
        },
        "id": "6lSfe_kuhhdZ",
        "outputId": "41ff3109-d8ce-4462-b63c-5581af223af9"
      },
      "execution_count": 178,
      "outputs": [
        {
          "output_type": "stream",
          "name": "stdout",
          "text": [
            "[[False  True  True]\n",
            " [False False  True]\n",
            " [False  True False]\n",
            " [False False  True]\n",
            " [ True  True  True]\n",
            " [ True  True  True]\n",
            " [False False  True]\n",
            " [False  True False]\n",
            " [ True False  True]\n",
            " [ True False False]\n",
            " [ True  True False]\n",
            " [ True False  True]\n",
            " [False False  True]\n",
            " [ True  True False]\n",
            " [ True  True  True]\n",
            " [ True False  True]\n",
            " [False  True False]\n",
            " [ True  True  True]\n",
            " [ True False  True]\n",
            " [ True False  True]\n",
            " [ True  True False]\n",
            " [ True  True False]\n",
            " [ True False  True]\n",
            " [ True  True  True]\n",
            " [False False  True]\n",
            " [ True False False]\n",
            " [False False  True]\n",
            " [False  True False]\n",
            " [False  True False]\n",
            " [ True  True False]\n",
            " [False  True False]\n",
            " [ True False False]\n",
            " [ True False False]\n",
            " [False False  True]\n",
            " [ True  True  True]]\n",
            "[[  4   5   6]\n",
            " [  7   8   9]\n",
            " [ 10  11  12]\n",
            " [ 13  14  15]\n",
            " [ 16  17  18]\n",
            " [ 19  20  21]\n",
            " [ 22  23  24]\n",
            " [ 25  26  27]\n",
            " [ 28  29  30]\n",
            " [ 31  32  33]\n",
            " [ 34  35  36]\n",
            " [ 37  38  39]\n",
            " [ 40  41  42]\n",
            " [ 43  44  45]\n",
            " [ 46  47  48]\n",
            " [ 49  50  51]\n",
            " [ 52  53  54]\n",
            " [ 55  56  57]\n",
            " [ 58  59  60]\n",
            " [ 61  62  63]\n",
            " [ 64  65  66]\n",
            " [ 67  68  69]\n",
            " [ 70  71  72]\n",
            " [ 73  74  75]\n",
            " [ 76  77  78]\n",
            " [ 79  80  81]\n",
            " [ 82  83  84]\n",
            " [ 85  86  87]\n",
            " [ 88  89  90]\n",
            " [ 91  92  93]\n",
            " [ 94  95  96]\n",
            " [ 97  98  99]\n",
            " [100 101 102]\n",
            " [103 104 105]\n",
            " [106 107 108]]\n"
          ]
        }
      ]
    },
    {
      "cell_type": "code",
      "source": [
        "for i in range(len(X)):\n",
        "    for j in range(len(X[0])):\n",
        "        if X[i][j] == True:\n",
        "            wcnf_form.append([int(propositional_features[i][j])])\n",
        "        else:\n",
        "            wcnf_form.append([int(-propositional_features[i][j])])"
      ],
      "metadata": {
        "id": "wnuNw9NlfqpP"
      },
      "execution_count": 179,
      "outputs": []
    },
    {
      "cell_type": "markdown",
      "source": [
        "# Compute solution"
      ],
      "metadata": {
        "id": "JGX2hhRFjiLq"
      }
    },
    {
      "cell_type": "code",
      "source": [
        "wcnf_form.hard"
      ],
      "metadata": {
        "colab": {
          "base_uri": "https://localhost:8080/"
        },
        "id": "sa7aGmi_jow9",
        "outputId": "fc8ac2dd-d6bc-4273-9db2-d57e6eae2548"
      },
      "execution_count": 180,
      "outputs": [
        {
          "output_type": "execute_result",
          "data": {
            "text/plain": [
              "[[-4],\n",
              " [5],\n",
              " [6],\n",
              " [-7],\n",
              " [-8],\n",
              " [9],\n",
              " [-10],\n",
              " [11],\n",
              " [-12],\n",
              " [-13],\n",
              " [-14],\n",
              " [15],\n",
              " [16],\n",
              " [17],\n",
              " [18],\n",
              " [19],\n",
              " [20],\n",
              " [21],\n",
              " [-22],\n",
              " [-23],\n",
              " [24],\n",
              " [-25],\n",
              " [26],\n",
              " [-27],\n",
              " [28],\n",
              " [-29],\n",
              " [30],\n",
              " [31],\n",
              " [-32],\n",
              " [-33],\n",
              " [34],\n",
              " [35],\n",
              " [-36],\n",
              " [37],\n",
              " [-38],\n",
              " [39],\n",
              " [-40],\n",
              " [-41],\n",
              " [42],\n",
              " [43],\n",
              " [44],\n",
              " [-45],\n",
              " [46],\n",
              " [47],\n",
              " [48],\n",
              " [49],\n",
              " [-50],\n",
              " [51],\n",
              " [-52],\n",
              " [53],\n",
              " [-54],\n",
              " [55],\n",
              " [56],\n",
              " [57],\n",
              " [58],\n",
              " [-59],\n",
              " [60],\n",
              " [61],\n",
              " [-62],\n",
              " [63],\n",
              " [64],\n",
              " [65],\n",
              " [-66],\n",
              " [67],\n",
              " [68],\n",
              " [-69],\n",
              " [70],\n",
              " [-71],\n",
              " [72],\n",
              " [73],\n",
              " [74],\n",
              " [75],\n",
              " [-76],\n",
              " [-77],\n",
              " [78],\n",
              " [79],\n",
              " [-80],\n",
              " [-81],\n",
              " [-82],\n",
              " [-83],\n",
              " [84],\n",
              " [-85],\n",
              " [86],\n",
              " [-87],\n",
              " [-88],\n",
              " [89],\n",
              " [-90],\n",
              " [91],\n",
              " [92],\n",
              " [-93],\n",
              " [-94],\n",
              " [95],\n",
              " [-96],\n",
              " [97],\n",
              " [-98],\n",
              " [-99],\n",
              " [100],\n",
              " [-101],\n",
              " [-102],\n",
              " [-103],\n",
              " [-104],\n",
              " [105],\n",
              " [106],\n",
              " [107],\n",
              " [108]]"
            ]
          },
          "metadata": {},
          "execution_count": 180
        }
      ]
    },
    {
      "cell_type": "code",
      "source": [
        "fm = FM(wcnf_form,verbose=10)\n",
        "fm.compute()"
      ],
      "metadata": {
        "colab": {
          "base_uri": "https://localhost:8080/"
        },
        "id": "iKLM-XzVjjeE",
        "outputId": "681e1aa3-44e2-4dcd-f5cb-11a948fe146c"
      },
      "execution_count": 181,
      "outputs": [
        {
          "output_type": "stream",
          "name": "stdout",
          "text": [
            "c cost: 1; core sz: 4\n",
            "c cost: 2; core sz: 4\n",
            "c cost: 3; core sz: 4\n",
            "c cost: 4; core sz: 5\n",
            "c cost: 5; core sz: 4\n",
            "c cost: 6; core sz: 4\n",
            "c cost: 7; core sz: 5\n",
            "c cost: 8; core sz: 4\n",
            "c cost: 9; core sz: 5\n",
            "c cost: 10; core sz: 6\n",
            "c cost: 11; core sz: 5\n",
            "c cost: 12; core sz: 4\n",
            "c cost: 13; core sz: 5\n",
            "c cost: 14; core sz: 5\n",
            "c cost: 15; core sz: 4\n",
            "c cost: 16; core sz: 6\n",
            "c cost: 17; core sz: 4\n",
            "c cost: 18; core sz: 6\n",
            "c cost: 19; core sz: 4\n",
            "c cost: 20; core sz: 4\n",
            "c cost: 21; core sz: 4\n",
            "c cost: 22; core sz: 4\n",
            "c cost: 23; core sz: 5\n",
            "c cost: 24; core sz: 6\n",
            "c cost: 25; core sz: 5\n",
            "c cost: 26; core sz: 6\n",
            "c cost: 27; core sz: 4\n",
            "c cost: 28; core sz: 5\n",
            "c cost: 29; core sz: 6\n",
            "c cost: 30; core sz: 6\n",
            "c cost: 31; core sz: 5\n",
            "c cost: 32; core sz: 6\n",
            "c cost: 33; core sz: 6\n",
            "c cost: 34; core sz: 4\n",
            "c cost: 35; core sz: 5\n",
            "c cost: 36; core sz: 8\n",
            "c cost: 37; core sz: 5\n",
            "c cost: 38; core sz: 5\n",
            "c cost: 39; core sz: 6\n",
            "c cost: 40; core sz: 5\n",
            "c cost: 41; core sz: 4\n",
            "c cost: 42; core sz: 5\n",
            "c cost: 43; core sz: 6\n",
            "c cost: 44; core sz: 4\n",
            "c cost: 45; core sz: 4\n",
            "c cost: 46; core sz: 4\n",
            "c cost: 47; core sz: 4\n",
            "c cost: 48; core sz: 4\n",
            "c cost: 49; core sz: 4\n",
            "c cost: 50; core sz: 4\n",
            "c cost: 51; core sz: 4\n",
            "c cost: 52; core sz: 4\n"
          ]
        },
        {
          "output_type": "execute_result",
          "data": {
            "text/plain": [
              "True"
            ]
          },
          "metadata": {},
          "execution_count": 181
        }
      ]
    },
    {
      "cell_type": "code",
      "source": [
        "fm.model"
      ],
      "metadata": {
        "colab": {
          "base_uri": "https://localhost:8080/"
        },
        "id": "6gyyryQolFL0",
        "outputId": "9a6ea3f7-1725-417c-96bb-96df1390f38f"
      },
      "execution_count": 182,
      "outputs": [
        {
          "output_type": "execute_result",
          "data": {
            "text/plain": [
              "[1,\n",
              " 2,\n",
              " -3,\n",
              " -4,\n",
              " 5,\n",
              " 6,\n",
              " -7,\n",
              " -8,\n",
              " 9,\n",
              " -10,\n",
              " 11,\n",
              " -12,\n",
              " -13,\n",
              " -14,\n",
              " 15,\n",
              " 16,\n",
              " 17,\n",
              " 18,\n",
              " 19,\n",
              " 20,\n",
              " 21,\n",
              " -22,\n",
              " -23,\n",
              " 24,\n",
              " -25,\n",
              " 26,\n",
              " -27,\n",
              " 28,\n",
              " -29,\n",
              " 30,\n",
              " 31,\n",
              " -32,\n",
              " -33,\n",
              " 34,\n",
              " 35,\n",
              " -36,\n",
              " 37,\n",
              " -38,\n",
              " 39,\n",
              " -40,\n",
              " -41,\n",
              " 42,\n",
              " 43,\n",
              " 44,\n",
              " -45,\n",
              " 46,\n",
              " 47,\n",
              " 48,\n",
              " 49,\n",
              " -50,\n",
              " 51,\n",
              " -52,\n",
              " 53,\n",
              " -54,\n",
              " 55,\n",
              " 56,\n",
              " 57,\n",
              " 58,\n",
              " -59,\n",
              " 60,\n",
              " 61,\n",
              " -62,\n",
              " 63,\n",
              " 64,\n",
              " 65,\n",
              " -66,\n",
              " 67,\n",
              " 68,\n",
              " -69,\n",
              " 70,\n",
              " -71,\n",
              " 72,\n",
              " 73,\n",
              " 74,\n",
              " 75,\n",
              " -76,\n",
              " -77,\n",
              " 78,\n",
              " 79,\n",
              " -80,\n",
              " -81,\n",
              " -82,\n",
              " -83,\n",
              " 84,\n",
              " -85,\n",
              " 86,\n",
              " -87,\n",
              " -88,\n",
              " 89,\n",
              " -90,\n",
              " 91,\n",
              " 92,\n",
              " -93,\n",
              " -94,\n",
              " 95,\n",
              " -96,\n",
              " 97,\n",
              " -98,\n",
              " -99,\n",
              " 100,\n",
              " -101,\n",
              " -102,\n",
              " -103,\n",
              " -104,\n",
              " 105,\n",
              " 106,\n",
              " 107,\n",
              " 108]"
            ]
          },
          "metadata": {},
          "execution_count": 182
        }
      ]
    },
    {
      "cell_type": "code",
      "source": [
        "for l in fm.model:\n",
        "    print(l)"
      ],
      "metadata": {
        "colab": {
          "base_uri": "https://localhost:8080/"
        },
        "id": "j3FRa-eJkw-6",
        "outputId": "2c1497f0-d7e3-4012-8c11-5fa0aaaf1aa9"
      },
      "execution_count": 183,
      "outputs": [
        {
          "output_type": "stream",
          "name": "stdout",
          "text": [
            "1\n",
            "2\n",
            "-3\n",
            "-4\n",
            "5\n",
            "6\n",
            "-7\n",
            "-8\n",
            "9\n",
            "-10\n",
            "11\n",
            "-12\n",
            "-13\n",
            "-14\n",
            "15\n",
            "16\n",
            "17\n",
            "18\n",
            "19\n",
            "20\n",
            "21\n",
            "-22\n",
            "-23\n",
            "24\n",
            "-25\n",
            "26\n",
            "-27\n",
            "28\n",
            "-29\n",
            "30\n",
            "31\n",
            "-32\n",
            "-33\n",
            "34\n",
            "35\n",
            "-36\n",
            "37\n",
            "-38\n",
            "39\n",
            "-40\n",
            "-41\n",
            "42\n",
            "43\n",
            "44\n",
            "-45\n",
            "46\n",
            "47\n",
            "48\n",
            "49\n",
            "-50\n",
            "51\n",
            "-52\n",
            "53\n",
            "-54\n",
            "55\n",
            "56\n",
            "57\n",
            "58\n",
            "-59\n",
            "60\n",
            "61\n",
            "-62\n",
            "63\n",
            "64\n",
            "65\n",
            "-66\n",
            "67\n",
            "68\n",
            "-69\n",
            "70\n",
            "-71\n",
            "72\n",
            "73\n",
            "74\n",
            "75\n",
            "-76\n",
            "-77\n",
            "78\n",
            "79\n",
            "-80\n",
            "-81\n",
            "-82\n",
            "-83\n",
            "84\n",
            "-85\n",
            "86\n",
            "-87\n",
            "-88\n",
            "89\n",
            "-90\n",
            "91\n",
            "92\n",
            "-93\n",
            "-94\n",
            "95\n",
            "-96\n",
            "97\n",
            "-98\n",
            "-99\n",
            "100\n",
            "-101\n",
            "-102\n",
            "-103\n",
            "-104\n",
            "105\n",
            "106\n",
            "107\n",
            "108\n"
          ]
        }
      ]
    },
    {
      "cell_type": "markdown",
      "source": [
        "# Checking the solution on the training data"
      ],
      "metadata": {
        "id": "R2W1b93flk-i"
      }
    },
    {
      "cell_type": "code",
      "source": [
        "len(w)\n",
        "weights_solution = fm.model[:len(w)]\n",
        "weights_solution = [val > 0 for val in weights_solution]\n",
        "print(weights_solution)"
      ],
      "metadata": {
        "colab": {
          "base_uri": "https://localhost:8080/"
        },
        "id": "q1NOXEchlonX",
        "outputId": "364472df-83e1-4dd0-dbbf-11f852d2d815"
      },
      "execution_count": 184,
      "outputs": [
        {
          "output_type": "stream",
          "name": "stdout",
          "text": [
            "[True, True, False]\n"
          ]
        }
      ]
    },
    {
      "cell_type": "markdown",
      "source": [
        "# Now, we encode weights into {0, 1} and X features into {0, 1}"
      ],
      "metadata": {
        "id": "D-q00_rAmBqI"
      }
    },
    {
      "cell_type": "code",
      "source": [
        "a = np.array(X)\n",
        "a[a == True]"
      ],
      "metadata": {
        "colab": {
          "base_uri": "https://localhost:8080/"
        },
        "id": "Wtg_1inxnO4s",
        "outputId": "c2fca8ef-43d0-4c3f-df26-de97a388eb50"
      },
      "execution_count": 185,
      "outputs": [
        {
          "output_type": "execute_result",
          "data": {
            "text/plain": [
              "array([ True,  True,  True,  True,  True,  True,  True,  True,  True,\n",
              "        True,  True,  True,  True,  True,  True,  True,  True,  True,\n",
              "        True,  True,  True,  True,  True,  True,  True,  True,  True,\n",
              "        True,  True,  True,  True,  True,  True,  True,  True,  True,\n",
              "        True,  True,  True,  True,  True,  True,  True,  True,  True,\n",
              "        True,  True,  True,  True,  True,  True,  True,  True,  True,\n",
              "        True,  True,  True,  True,  True])"
            ]
          },
          "metadata": {},
          "execution_count": 185
        }
      ]
    },
    {
      "cell_type": "code",
      "source": [
        "X_decoded = np.array(X, dtype = 'int')\n",
        "Y_decoded = np.array(Y, dtype = 'int')\n",
        "w_decoded = np.array(weights_solution, dtype = 'int')"
      ],
      "metadata": {
        "id": "sAgaDfDRl7tT"
      },
      "execution_count": 186,
      "outputs": []
    },
    {
      "cell_type": "code",
      "source": [
        "# X [4 x 3] * W [3 x 1] = Y^ [4 x 1]\n",
        "np.sign(np.dot(X_decoded, w_decoded)), Y_decoded"
      ],
      "metadata": {
        "colab": {
          "base_uri": "https://localhost:8080/"
        },
        "id": "wnuloOWhoBtT",
        "outputId": "fccdeef2-906d-4673-aaea-4f48e2828fe9"
      },
      "execution_count": 187,
      "outputs": [
        {
          "output_type": "execute_result",
          "data": {
            "text/plain": [
              "(array([1, 0, 1, 0, 1, 1, 0, 1, 1, 1, 1, 1, 0, 1, 1, 1, 1, 1, 1, 1, 1, 1,\n",
              "        1, 1, 0, 1, 0, 1, 1, 1, 1, 1, 1, 0, 1]),\n",
              " array([1, 0, 1, 0, 1, 1, 0, 1, 0, 0, 1, 0, 0, 1, 1, 0, 1, 1, 0, 0, 1, 1,\n",
              "        0, 1, 0, 0, 0, 1, 1, 1, 1, 0, 0, 0, 1]))"
            ]
          },
          "metadata": {},
          "execution_count": 187
        }
      ]
    },
    {
      "cell_type": "code",
      "source": [
        "from sklearn.metrics import accuracy_score\n",
        "\n",
        "accuracy_score(Y_decoded, np.sign(np.dot(X_decoded, w_decoded)))"
      ],
      "metadata": {
        "id": "r7quSsNEprGi",
        "outputId": "5bc9a908-4e82-4b1e-fea2-a0fcebbc25dc",
        "colab": {
          "base_uri": "https://localhost:8080/"
        }
      },
      "execution_count": 188,
      "outputs": [
        {
          "output_type": "execute_result",
          "data": {
            "text/plain": [
              "0.7142857142857143"
            ]
          },
          "metadata": {},
          "execution_count": 188
        }
      ]
    },
    {
      "cell_type": "code",
      "source": [
        "X_decoded"
      ],
      "metadata": {
        "colab": {
          "base_uri": "https://localhost:8080/"
        },
        "id": "idbTEcYzmyDu",
        "outputId": "1326df34-5004-462f-aaea-8fb0ef02ed63"
      },
      "execution_count": 105,
      "outputs": [
        {
          "output_type": "execute_result",
          "data": {
            "text/plain": [
              "array([[False, False,  True],\n",
              "       [False,  True, False],\n",
              "       [ True,  True, False],\n",
              "       [False, False,  True]])"
            ]
          },
          "metadata": {},
          "execution_count": 105
        }
      ]
    },
    {
      "cell_type": "markdown",
      "source": [
        "# Task"
      ],
      "metadata": {
        "id": "56UA6gjtyaND"
      }
    },
    {
      "cell_type": "code",
      "source": [
        "from pysat.formula import CNF\n",
        "from pysat.formula import WCNF"
      ],
      "metadata": {
        "id": "l41b0a7WzCNQ"
      },
      "execution_count": null,
      "outputs": []
    },
    {
      "cell_type": "code",
      "source": [
        "n_neurons = 3\n",
        "n_train = 3\n",
        "n_features = n_neurons\n",
        "\n",
        "assert(n_neurons % 2 == 1)  # odd number of neurons is allowed\n",
        "\n"
      ],
      "metadata": {
        "id": "n8oj3ad5z1kT"
      },
      "execution_count": null,
      "outputs": []
    },
    {
      "cell_type": "code",
      "source": [
        "print(X)\n",
        "print(Y)"
      ],
      "metadata": {
        "colab": {
          "base_uri": "https://localhost:8080/"
        },
        "id": "s4l0g4_u1HaM",
        "outputId": "322d1c24-d7a5-4c4c-c2e0-78dd409980bd"
      },
      "execution_count": null,
      "outputs": [
        {
          "output_type": "stream",
          "name": "stdout",
          "text": [
            "[[True, False, False], [False, True, False], [True, True, False]]\n",
            "[False, True, True]\n"
          ]
        }
      ]
    },
    {
      "cell_type": "code",
      "source": [
        "# wcnf = WCNF()\n",
        "\n",
        "# wcnf.append([-1, 2]) \n",
        "# wcnf.append([-2, 3])\n",
        "# wcnf.append([-3, True])\n",
        "# wcnf.append([4, True])\n",
        "\n",
        "# print(wcnf.soft)\n",
        "# print(wcnf.hard)\n",
        "# print(wcnf.wght)\n",
        "\n",
        "# fm = FM(wcnf,verbose=10)\n",
        "# fm.compute()"
      ],
      "metadata": {
        "id": "JRQogtAqzHCn"
      },
      "execution_count": null,
      "outputs": []
    },
    {
      "cell_type": "code",
      "source": [
        "# def encode_features(X):\n",
        "#     n = len(X)\n",
        "#     m = len(X[0])\n",
        "#     print(f'Shape of X: n = {n}, m = {m}')\n",
        "#     prop_features = [[i * n + j + 1 for j in range(m)] for i in range(n)]\n",
        "#     return np.array(prop_features)\n",
        "\n",
        "\n",
        "# Encoding weights\n",
        "prop_weights_indices = [i for i in range(n_neurons)]"
      ],
      "metadata": {
        "id": "xta2-dov1PTy"
      },
      "execution_count": null,
      "outputs": []
    },
    {
      "cell_type": "code",
      "source": [
        "prop_weights_indices"
      ],
      "metadata": {
        "colab": {
          "base_uri": "https://localhost:8080/"
        },
        "id": "YyCqpCYVwReF",
        "outputId": "4ed7b81c-feca-4f7f-e618-de258d734d8c"
      },
      "execution_count": null,
      "outputs": [
        {
          "output_type": "execute_result",
          "data": {
            "text/plain": [
              "[0, 1, 2]"
            ]
          },
          "metadata": {},
          "execution_count": 162
        }
      ]
    },
    {
      "cell_type": "code",
      "source": [
        "group_size = int(math.ceil(n_neurons / 2))\n",
        "assert group_size == math.floor(n_neurons / 2 + 1)"
      ],
      "metadata": {
        "id": "sYBO_qFqvIih"
      },
      "execution_count": null,
      "outputs": []
    },
    {
      "cell_type": "code",
      "source": [
        "combos = list(combinations(prop_weights_indices, group_size))\n",
        "print(combos[:3])"
      ],
      "metadata": {
        "colab": {
          "base_uri": "https://localhost:8080/"
        },
        "id": "6LMxbIF5ys3a",
        "outputId": "6fb5ef83-4a68-444c-f07e-266815b3cf7c"
      },
      "execution_count": null,
      "outputs": [
        {
          "output_type": "stream",
          "name": "stdout",
          "text": [
            "[(0, 1), (0, 2), (1, 2)]\n"
          ]
        }
      ]
    },
    {
      "cell_type": "code",
      "source": [
        "cartesian_prod = list(itertools.product(*combos))\n",
        "print(cartesian_prod)"
      ],
      "metadata": {
        "colab": {
          "base_uri": "https://localhost:8080/"
        },
        "id": "1Sb-Yjx8zPR8",
        "outputId": "0affdd94-f0e0-4e5e-ec94-7b6a26eb1cbc"
      },
      "execution_count": null,
      "outputs": [
        {
          "output_type": "stream",
          "name": "stdout",
          "text": [
            "[(0, 0, 1), (0, 0, 2), (0, 2, 1), (0, 2, 2), (1, 0, 1), (1, 0, 2), (1, 2, 1), (1, 2, 2)]\n"
          ]
        }
      ]
    },
    {
      "cell_type": "code",
      "source": [
        "clauses_cartesian_products = []\n",
        "for c in cartesian_prod:\n",
        "    print(f'Combo: {c}')\n",
        "    l = [[f'{symb}', f'~{symb}'] for symb in c]\n",
        "    l_cart_prod = list(itertools.product(*l))\n",
        "    clauses_cartesian_products += l_cart_prod\n",
        "    print(l)\n",
        "    print(l_cart_prod)"
      ],
      "metadata": {
        "colab": {
          "base_uri": "https://localhost:8080/"
        },
        "id": "VySTsESd4vJ3",
        "outputId": "10077b00-b477-48d4-d811-df062764c5b0"
      },
      "execution_count": null,
      "outputs": [
        {
          "output_type": "stream",
          "name": "stdout",
          "text": [
            "Combo: (0, 0, 1)\n",
            "[['0', '~0'], ['0', '~0'], ['1', '~1']]\n",
            "[('0', '0', '1'), ('0', '0', '~1'), ('0', '~0', '1'), ('0', '~0', '~1'), ('~0', '0', '1'), ('~0', '0', '~1'), ('~0', '~0', '1'), ('~0', '~0', '~1')]\n",
            "Combo: (0, 0, 2)\n",
            "[['0', '~0'], ['0', '~0'], ['2', '~2']]\n",
            "[('0', '0', '2'), ('0', '0', '~2'), ('0', '~0', '2'), ('0', '~0', '~2'), ('~0', '0', '2'), ('~0', '0', '~2'), ('~0', '~0', '2'), ('~0', '~0', '~2')]\n",
            "Combo: (0, 2, 1)\n",
            "[['0', '~0'], ['2', '~2'], ['1', '~1']]\n",
            "[('0', '2', '1'), ('0', '2', '~1'), ('0', '~2', '1'), ('0', '~2', '~1'), ('~0', '2', '1'), ('~0', '2', '~1'), ('~0', '~2', '1'), ('~0', '~2', '~1')]\n",
            "Combo: (0, 2, 2)\n",
            "[['0', '~0'], ['2', '~2'], ['2', '~2']]\n",
            "[('0', '2', '2'), ('0', '2', '~2'), ('0', '~2', '2'), ('0', '~2', '~2'), ('~0', '2', '2'), ('~0', '2', '~2'), ('~0', '~2', '2'), ('~0', '~2', '~2')]\n",
            "Combo: (1, 0, 1)\n",
            "[['1', '~1'], ['0', '~0'], ['1', '~1']]\n",
            "[('1', '0', '1'), ('1', '0', '~1'), ('1', '~0', '1'), ('1', '~0', '~1'), ('~1', '0', '1'), ('~1', '0', '~1'), ('~1', '~0', '1'), ('~1', '~0', '~1')]\n",
            "Combo: (1, 0, 2)\n",
            "[['1', '~1'], ['0', '~0'], ['2', '~2']]\n",
            "[('1', '0', '2'), ('1', '0', '~2'), ('1', '~0', '2'), ('1', '~0', '~2'), ('~1', '0', '2'), ('~1', '0', '~2'), ('~1', '~0', '2'), ('~1', '~0', '~2')]\n",
            "Combo: (1, 2, 1)\n",
            "[['1', '~1'], ['2', '~2'], ['1', '~1']]\n",
            "[('1', '2', '1'), ('1', '2', '~1'), ('1', '~2', '1'), ('1', '~2', '~1'), ('~1', '2', '1'), ('~1', '2', '~1'), ('~1', '~2', '1'), ('~1', '~2', '~1')]\n",
            "Combo: (1, 2, 2)\n",
            "[['1', '~1'], ['2', '~2'], ['2', '~2']]\n",
            "[('1', '2', '2'), ('1', '2', '~2'), ('1', '~2', '2'), ('1', '~2', '~2'), ('~1', '2', '2'), ('~1', '2', '~2'), ('~1', '~2', '2'), ('~1', '~2', '~2')]\n"
          ]
        }
      ]
    },
    {
      "cell_type": "code",
      "source": [
        "clauses_cartesian_products"
      ],
      "metadata": {
        "colab": {
          "base_uri": "https://localhost:8080/"
        },
        "id": "evAlDjEjSgpO",
        "outputId": "c98316c2-62ec-4f05-fbc3-bb4ee935ddd7"
      },
      "execution_count": null,
      "outputs": [
        {
          "output_type": "execute_result",
          "data": {
            "text/plain": [
              "[('0', '0', '1'),\n",
              " ('0', '0', '~1'),\n",
              " ('0', '~0', '1'),\n",
              " ('0', '~0', '~1'),\n",
              " ('~0', '0', '1'),\n",
              " ('~0', '0', '~1'),\n",
              " ('~0', '~0', '1'),\n",
              " ('~0', '~0', '~1'),\n",
              " ('0', '0', '2'),\n",
              " ('0', '0', '~2'),\n",
              " ('0', '~0', '2'),\n",
              " ('0', '~0', '~2'),\n",
              " ('~0', '0', '2'),\n",
              " ('~0', '0', '~2'),\n",
              " ('~0', '~0', '2'),\n",
              " ('~0', '~0', '~2'),\n",
              " ('0', '2', '1'),\n",
              " ('0', '2', '~1'),\n",
              " ('0', '~2', '1'),\n",
              " ('0', '~2', '~1'),\n",
              " ('~0', '2', '1'),\n",
              " ('~0', '2', '~1'),\n",
              " ('~0', '~2', '1'),\n",
              " ('~0', '~2', '~1'),\n",
              " ('0', '2', '2'),\n",
              " ('0', '2', '~2'),\n",
              " ('0', '~2', '2'),\n",
              " ('0', '~2', '~2'),\n",
              " ('~0', '2', '2'),\n",
              " ('~0', '2', '~2'),\n",
              " ('~0', '~2', '2'),\n",
              " ('~0', '~2', '~2'),\n",
              " ('1', '0', '1'),\n",
              " ('1', '0', '~1'),\n",
              " ('1', '~0', '1'),\n",
              " ('1', '~0', '~1'),\n",
              " ('~1', '0', '1'),\n",
              " ('~1', '0', '~1'),\n",
              " ('~1', '~0', '1'),\n",
              " ('~1', '~0', '~1'),\n",
              " ('1', '0', '2'),\n",
              " ('1', '0', '~2'),\n",
              " ('1', '~0', '2'),\n",
              " ('1', '~0', '~2'),\n",
              " ('~1', '0', '2'),\n",
              " ('~1', '0', '~2'),\n",
              " ('~1', '~0', '2'),\n",
              " ('~1', '~0', '~2'),\n",
              " ('1', '2', '1'),\n",
              " ('1', '2', '~1'),\n",
              " ('1', '~2', '1'),\n",
              " ('1', '~2', '~1'),\n",
              " ('~1', '2', '1'),\n",
              " ('~1', '2', '~1'),\n",
              " ('~1', '~2', '1'),\n",
              " ('~1', '~2', '~1'),\n",
              " ('1', '2', '2'),\n",
              " ('1', '2', '~2'),\n",
              " ('1', '~2', '2'),\n",
              " ('1', '~2', '~2'),\n",
              " ('~1', '2', '2'),\n",
              " ('~1', '2', '~2'),\n",
              " ('~1', '~2', '2'),\n",
              " ('~1', '~2', '~2')]"
            ]
          },
          "metadata": {},
          "execution_count": 167
        }
      ]
    },
    {
      "cell_type": "code",
      "source": [
        "import numpy as np\n",
        "\n",
        "print(len(clauses_cartesian_products))\n",
        "len(np.unique(clauses_cartesian_products))\n",
        "len(set(clauses_cartesian_products))"
      ],
      "metadata": {
        "colab": {
          "base_uri": "https://localhost:8080/"
        },
        "id": "KtSX0TgSS59m",
        "outputId": "861ea71f-d537-4bbe-abc8-a5e5e45b1020"
      },
      "execution_count": null,
      "outputs": [
        {
          "output_type": "stream",
          "name": "stdout",
          "text": [
            "64\n"
          ]
        },
        {
          "output_type": "execute_result",
          "data": {
            "text/plain": [
              "64"
            ]
          },
          "metadata": {},
          "execution_count": 168
        }
      ]
    },
    {
      "cell_type": "code",
      "source": [
        "def encode_prop_features(X):\n",
        "    n = len(X)\n",
        "    m = len(X[0])\n",
        "    prop_features = []\n",
        "    for i in range(n):\n",
        "        vals = [i * n + j + len(prop_weights_indices) for j in range(m)]\n",
        "        prop_features.append(vals)\n",
        "    \n",
        "\n",
        "    for i in range(n):\n",
        "        for j in range(m):\n",
        "            print(f'X[{i}][{j}] is encoded as {prop_features[i][j]}')\n",
        "\n",
        "    return prop_features\n",
        "\n",
        "prop_features = encode_prop_features(X)\n",
        "print(prop_features)"
      ],
      "metadata": {
        "colab": {
          "base_uri": "https://localhost:8080/"
        },
        "id": "0abCqDn2YPTk",
        "outputId": "b7747714-b4b3-475e-e282-fc0a42ffb5f7"
      },
      "execution_count": null,
      "outputs": [
        {
          "output_type": "stream",
          "name": "stdout",
          "text": [
            "X[0][0] is encoded as 3\n",
            "X[0][1] is encoded as 4\n",
            "X[0][2] is encoded as 5\n",
            "X[1][0] is encoded as 6\n",
            "X[1][1] is encoded as 7\n",
            "X[1][2] is encoded as 8\n",
            "X[2][0] is encoded as 9\n",
            "X[2][1] is encoded as 10\n",
            "X[2][2] is encoded as 11\n",
            "[[3, 4, 5], [6, 7, 8], [9, 10, 11]]\n"
          ]
        }
      ]
    },
    {
      "cell_type": "code",
      "source": [
        "unique = [1, 2]\n",
        "print(get_combinations(unique))"
      ],
      "metadata": {
        "colab": {
          "base_uri": "https://localhost:8080/"
        },
        "id": "ut4YDio3wXvC",
        "outputId": "76abbd0c-723b-41e2-ad1d-4be718efd6e4"
      },
      "execution_count": null,
      "outputs": [
        {
          "output_type": "stream",
          "name": "stdout",
          "text": [
            "[('w 1', 'x 1', 'w 2', 'x 2'), ('w 1', 'x 1', 'w 2', '~x 2'), ('w 1', 'x 1', '~w 2', 'x 2'), ('w 1', 'x 1', '~w 2', '~x 2'), ('w 1', '~x 1', 'w 2', 'x 2'), ('w 1', '~x 1', 'w 2', '~x 2'), ('w 1', '~x 1', '~w 2', 'x 2'), ('w 1', '~x 1', '~w 2', '~x 2'), ('~w 1', 'x 1', 'w 2', 'x 2'), ('~w 1', 'x 1', 'w 2', '~x 2'), ('~w 1', 'x 1', '~w 2', 'x 2'), ('~w 1', 'x 1', '~w 2', '~x 2'), ('~w 1', '~x 1', 'w 2', 'x 2'), ('~w 1', '~x 1', 'w 2', '~x 2'), ('~w 1', '~x 1', '~w 2', 'x 2'), ('~w 1', '~x 1', '~w 2', '~x 2')]\n"
          ]
        }
      ]
    },
    {
      "cell_type": "code",
      "source": [
        "clauses_cartesian_products"
      ],
      "metadata": {
        "id": "VC6jXofpLj-g",
        "outputId": "b1f00bd7-30e6-42cc-8f29-3dadfd2d23d3",
        "colab": {
          "base_uri": "https://localhost:8080/"
        }
      },
      "execution_count": null,
      "outputs": [
        {
          "output_type": "execute_result",
          "data": {
            "text/plain": [
              "[('0', '0', '1'),\n",
              " ('0', '0', '~1'),\n",
              " ('0', '~0', '1'),\n",
              " ('0', '~0', '~1'),\n",
              " ('~0', '0', '1'),\n",
              " ('~0', '0', '~1'),\n",
              " ('~0', '~0', '1'),\n",
              " ('~0', '~0', '~1'),\n",
              " ('0', '0', '2'),\n",
              " ('0', '0', '~2'),\n",
              " ('0', '~0', '2'),\n",
              " ('0', '~0', '~2'),\n",
              " ('~0', '0', '2'),\n",
              " ('~0', '0', '~2'),\n",
              " ('~0', '~0', '2'),\n",
              " ('~0', '~0', '~2'),\n",
              " ('0', '2', '1'),\n",
              " ('0', '2', '~1'),\n",
              " ('0', '~2', '1'),\n",
              " ('0', '~2', '~1'),\n",
              " ('~0', '2', '1'),\n",
              " ('~0', '2', '~1'),\n",
              " ('~0', '~2', '1'),\n",
              " ('~0', '~2', '~1'),\n",
              " ('0', '2', '2'),\n",
              " ('0', '2', '~2'),\n",
              " ('0', '~2', '2'),\n",
              " ('0', '~2', '~2'),\n",
              " ('~0', '2', '2'),\n",
              " ('~0', '2', '~2'),\n",
              " ('~0', '~2', '2'),\n",
              " ('~0', '~2', '~2'),\n",
              " ('1', '0', '1'),\n",
              " ('1', '0', '~1'),\n",
              " ('1', '~0', '1'),\n",
              " ('1', '~0', '~1'),\n",
              " ('~1', '0', '1'),\n",
              " ('~1', '0', '~1'),\n",
              " ('~1', '~0', '1'),\n",
              " ('~1', '~0', '~1'),\n",
              " ('1', '0', '2'),\n",
              " ('1', '0', '~2'),\n",
              " ('1', '~0', '2'),\n",
              " ('1', '~0', '~2'),\n",
              " ('~1', '0', '2'),\n",
              " ('~1', '0', '~2'),\n",
              " ('~1', '~0', '2'),\n",
              " ('~1', '~0', '~2'),\n",
              " ('1', '2', '1'),\n",
              " ('1', '2', '~1'),\n",
              " ('1', '~2', '1'),\n",
              " ('1', '~2', '~1'),\n",
              " ('~1', '2', '1'),\n",
              " ('~1', '2', '~1'),\n",
              " ('~1', '~2', '1'),\n",
              " ('~1', '~2', '~1'),\n",
              " ('1', '2', '2'),\n",
              " ('1', '2', '~2'),\n",
              " ('1', '~2', '2'),\n",
              " ('1', '~2', '~2'),\n",
              " ('~1', '2', '2'),\n",
              " ('~1', '2', '~2'),\n",
              " ('~1', '~2', '2'),\n",
              " ('~1', '~2', '~2')]"
            ]
          },
          "metadata": {},
          "execution_count": 176
        }
      ]
    },
    {
      "cell_type": "code",
      "source": [
        "def get_combinations(unique_combo):\n",
        "    ws_and_xs = []\n",
        "    for numb in unique_combo:\n",
        "        ws_and_xs.append(f'w {numb}')\n",
        "        ws_and_xs.append(f'x {numb}')\n",
        "    \n",
        "    ws_and_xs = [[f'{symb}', f'~{symb}'] for symb in ws_and_xs]\n",
        "    return list(itertools.product(*ws_and_xs))\n",
        "\n",
        "def construct_clause_positive(unique_clause_symbols, ):\n",
        "    clause = []\n",
        "    # '1' signifies ~w1 V x_i1\n",
        "    # '~1' signifies w1 V ~x_i1\n",
        "    for symbol in unique_clause_symbols:  # ('0', '~2', '1')\n",
        "        if not '~' in symbol:\n",
        "            # then (e.f. for '1') its not(w_1) V (x_i1)\n",
        "            index = int(symbol)\n",
        "            clause.append(-prop_weights_indices[index])\n",
        "            clause.append(prop_features[i][index])\n",
        "        elif '~' in symbol:\n",
        "            # then (e.f. for '1') its (w_1) V not(x_i1)\n",
        "            symbol = symbol.replace('~', '')\n",
        "            index = int(symbol)\n",
        "            clause.append(prop_weights_indices[index])\n",
        "            clause.append(-prop_features[i][index])\n",
        "    optimized_clause = list(set(clause))\n",
        "    return optimized_clause\n",
        "    \n",
        "def construct_clause_negative(unique_combo):\n",
        "    all_combinations = get_combinations(unique_combo)\n",
        "\n",
        "    clauses = []\n",
        "    for combination in all_combinations:\n",
        "        clause = []\n",
        "        for symbol in combination:\n",
        "            x_or_w, number = symbol.split(' ')[0], int(symbol.split(' ')[1])\n",
        "            if x_or_w == 'w':\n",
        "                clause.append(prop_weights_indices[number])\n",
        "            if x_or_w == '~w':\n",
        "                clause.append(-prop_weights_indices[number])\n",
        "            if x_or_w == 'x':\n",
        "                clause.append(prop_features[i][number])\n",
        "            if x_or_w == '~x':\n",
        "                clause.append(-prop_features[i][number])\n",
        "        clauses.append(clause)\n",
        "    return clauses\n",
        "\n",
        "\n",
        "wcnf = WCNF()\n",
        "for i in range(len(X)):\n",
        "    if Y[i] is True:\n",
        "        for c in clauses_cartesian_products:\n",
        "            # ('0', '0', '~1')\n",
        "            # Here we optimize - we dont need to add identical clauses\n",
        "            unique_clause_symbols = set(c)  # ('0', '0', '1') --> ('0', '1')\n",
        "            \n",
        "            # print(set(c), c)\n",
        "            clause = construct_clause_positive(unique_clause_symbols)\n",
        "            wcnf.append(clause, weight = 1)\n",
        "            # print(f'Our clause: {clause}')\n",
        "    \n",
        "    elif Y[i] is False:\n",
        "        # print(f'Y is false')\n",
        "        for c in cartesian_prod: # (1, 2) (2, 3) (1, 3) --> (1, 2, 1), (1, 2, 3), (1, 3, 1), ...\n",
        "            # print(f'combo: {c}')\n",
        "            unique_combo = set(c)  # (1, 2) --> [(~w1 & x_i1) V (w1 & ~x_i1)] V [(~w2 & x_i2) V (w2 & ~x_i2)]\n",
        "            # print(f'unique combo: {set(unique_combo)}')\n",
        "\n",
        "            clauses = construct_clause_negative(unique_combo)\n",
        "            for c in clauses:\n",
        "                wcnf.append(c, weight = 1)\n",
        "    # print(clause)\n",
        "    "
      ],
      "metadata": {
        "id": "gtzOzy4eUFhR"
      },
      "execution_count": null,
      "outputs": []
    },
    {
      "cell_type": "code",
      "source": [
        "get_combinations([0, 1])"
      ],
      "metadata": {
        "id": "JVbJkaf-ORyY",
        "outputId": "94427096-d3e9-4fb5-98a9-f157448cd11b",
        "colab": {
          "base_uri": "https://localhost:8080/"
        }
      },
      "execution_count": null,
      "outputs": [
        {
          "output_type": "execute_result",
          "data": {
            "text/plain": [
              "[('w 0', 'x 0', 'w 1', 'x 1'),\n",
              " ('w 0', 'x 0', 'w 1', '~x 1'),\n",
              " ('w 0', 'x 0', '~w 1', 'x 1'),\n",
              " ('w 0', 'x 0', '~w 1', '~x 1'),\n",
              " ('w 0', '~x 0', 'w 1', 'x 1'),\n",
              " ('w 0', '~x 0', 'w 1', '~x 1'),\n",
              " ('w 0', '~x 0', '~w 1', 'x 1'),\n",
              " ('w 0', '~x 0', '~w 1', '~x 1'),\n",
              " ('~w 0', 'x 0', 'w 1', 'x 1'),\n",
              " ('~w 0', 'x 0', 'w 1', '~x 1'),\n",
              " ('~w 0', 'x 0', '~w 1', 'x 1'),\n",
              " ('~w 0', 'x 0', '~w 1', '~x 1'),\n",
              " ('~w 0', '~x 0', 'w 1', 'x 1'),\n",
              " ('~w 0', '~x 0', 'w 1', '~x 1'),\n",
              " ('~w 0', '~x 0', '~w 1', 'x 1'),\n",
              " ('~w 0', '~x 0', '~w 1', '~x 1')]"
            ]
          },
          "metadata": {},
          "execution_count": 186
        }
      ]
    },
    {
      "cell_type": "code",
      "source": [
        "construct_clause_negative([0, 1])"
      ],
      "metadata": {
        "id": "iIEsGiT_OLgB",
        "outputId": "1385ca24-fc52-4edb-ae4a-89dd4dbfeb84",
        "colab": {
          "base_uri": "https://localhost:8080/"
        }
      },
      "execution_count": null,
      "outputs": [
        {
          "output_type": "execute_result",
          "data": {
            "text/plain": [
              "[[0, 3, 1, 4],\n",
              " [0, 3, 1, -4],\n",
              " [0, 3, -1, 4],\n",
              " [0, 3, -1, -4],\n",
              " [0, -3, 1, 4],\n",
              " [0, -3, 1, -4],\n",
              " [0, -3, -1, 4],\n",
              " [0, -3, -1, -4],\n",
              " [0, 3, 1, 4],\n",
              " [0, 3, 1, -4],\n",
              " [0, 3, -1, 4],\n",
              " [0, 3, -1, -4],\n",
              " [0, -3, 1, 4],\n",
              " [0, -3, 1, -4],\n",
              " [0, -3, -1, 4],\n",
              " [0, -3, -1, -4]]"
            ]
          },
          "metadata": {},
          "execution_count": 185
        }
      ]
    },
    {
      "cell_type": "code",
      "source": [
        "cartesian_prod"
      ],
      "metadata": {
        "id": "4wsS8autMiaV",
        "outputId": "79ef2b4e-a184-4615-a746-30bf16068bf8",
        "colab": {
          "base_uri": "https://localhost:8080/"
        }
      },
      "execution_count": null,
      "outputs": [
        {
          "output_type": "execute_result",
          "data": {
            "text/plain": [
              "[(0, 0, 1),\n",
              " (0, 0, 2),\n",
              " (0, 2, 1),\n",
              " (0, 2, 2),\n",
              " (1, 0, 1),\n",
              " (1, 0, 2),\n",
              " (1, 2, 1),\n",
              " (1, 2, 2)]"
            ]
          },
          "metadata": {},
          "execution_count": 179
        }
      ]
    },
    {
      "cell_type": "code",
      "source": [
        "len(wcnf.soft)"
      ],
      "metadata": {
        "id": "m2Z6wIjq9bFa",
        "outputId": "6edab176-1da2-4871-a857-ab8c7834fe85",
        "colab": {
          "base_uri": "https://localhost:8080/"
        }
      },
      "execution_count": null,
      "outputs": [
        {
          "output_type": "execute_result",
          "data": {
            "text/plain": [
              "352"
            ]
          },
          "metadata": {},
          "execution_count": 189
        }
      ]
    },
    {
      "cell_type": "code",
      "source": [
        "# Weighted CNF form\n",
        "wcnf = WCNF()\n",
        "\n",
        "\n",
        "for x, y in zip(X, Y):\n",
        "    print(f'Encoding x = {x}, y = {y}')\n",
        "    \n",
        "    # At that step, we have combinations of weight indices\n",
        "    # For example, for 3 weights\n",
        "    # [(w0 == x_i0) & (w1 == x_i1)] V [(w0 == x_i0) & (w2 == x_i2)] V [(w1 == x_i1) & (w2 == x_i2)]\n",
        "\n",
        "    # Each combination in cartesian_prod(w_combinations) - is a special clause:\n",
        "    # For example, for n_weights == 3, after cartesian product, all combinations:\n",
        "    # (001) (002) (021) (022) (101) (102) (121) (122)\n",
        "    # Which means (for the first clause (001)):\n",
        "    # (w_0 == x_i0) | (w_0 == x_i0) | (w_1 == x_i1)\n",
        "\n",
        "    # However, we still did not expand the equivalence (==):\n",
        "    # [(~w_0 V x_i0) & (w_0 V ~x_i0)] V [(~w_0 V x_i0) & (w_0 V ~x_i0)] V [(~w_1 V x_i1) & (w_1 V ~x_i1)]\n",
        "\n",
        "    # And this also has to be transformed into CNF:\n",
        "    # Do substitution:\n",
        "    # [(0) & (~0)] V [(0) & (~0)] V [(1) & (~1)]\n",
        "    # Where 0: ~w_0 V x_i0, ~0: w_0 V ~x_i0\n",
        "    # We have to transfer (001) -> [[0, ~0], [0, ~0], [1, ~1]] and make a cartesian product of it\n",
        "\n",
        "    \n",
        "\n",
        "    \n",
        "\n",
        "    # for w_combination in combinations(propositional_weights, group_size):\n",
        "    #     # print(c, c[0], c[1])\n",
        "    #     # print(propositional_weights.index(c[0]), propositional_weights.index(c[1]))\n",
        "    #     print(f'weight combination = {w_combination}')\n",
        "        \n",
        "    #     for weight in w_combination:\n",
        "    #         # index of weight --> the same as index of feature of current object x_i in the X dataset\n",
        "    #         w_index = propositional_weights.index(weight)\n",
        "    #         x_feature = x[w_index]\n",
        "    #         print(f'w_{w_index}, x_j = {x_feature}')\n",
        "\n",
        "    #         # Our clause is - weight == x_feature (equivalence)\n",
        "    #         # which is (not(weight) V x_feature) and (not(x_feature) V weight)\n",
        "            \n",
        "    #         first_clause = [-weight, x_feature]\n",
        "    #         second_clause = [weight, -x_feature]\n",
        "    #         wcnf.append\n",
        "\n"
      ],
      "metadata": {
        "colab": {
          "base_uri": "https://localhost:8080/",
          "height": 235
        },
        "id": "Y4v7HDWxEW2-",
        "outputId": "6138711e-c6c7-4abe-cb13-6e823f19ba8e"
      },
      "execution_count": null,
      "outputs": [
        {
          "output_type": "error",
          "ename": "NameError",
          "evalue": "ignored",
          "traceback": [
            "\u001b[0;31m---------------------------------------------------------------------------\u001b[0m",
            "\u001b[0;31mNameError\u001b[0m                                 Traceback (most recent call last)",
            "\u001b[0;32m<ipython-input-18-8f4372190860>\u001b[0m in \u001b[0;36m<module>\u001b[0;34m()\u001b[0m\n\u001b[1;32m      1\u001b[0m \u001b[0;31m# Weighted CNF form\u001b[0m\u001b[0;34m\u001b[0m\u001b[0;34m\u001b[0m\u001b[0;34m\u001b[0m\u001b[0m\n\u001b[1;32m      2\u001b[0m \u001b[0mwcnf\u001b[0m \u001b[0;34m=\u001b[0m \u001b[0mWCNF\u001b[0m\u001b[0;34m(\u001b[0m\u001b[0;34m)\u001b[0m\u001b[0;34m\u001b[0m\u001b[0;34m\u001b[0m\u001b[0m\n\u001b[0;32m----> 3\u001b[0;31m \u001b[0mcombos\u001b[0m \u001b[0;34m=\u001b[0m \u001b[0mlist\u001b[0m\u001b[0;34m(\u001b[0m\u001b[0mcombinations\u001b[0m\u001b[0;34m(\u001b[0m\u001b[0mpropositional_weights\u001b[0m\u001b[0;34m,\u001b[0m \u001b[0mgroup_size\u001b[0m\u001b[0;34m)\u001b[0m\u001b[0;34m)\u001b[0m\u001b[0;34m\u001b[0m\u001b[0;34m\u001b[0m\u001b[0m\n\u001b[0m\u001b[1;32m      4\u001b[0m \u001b[0;34m\u001b[0m\u001b[0m\n\u001b[1;32m      5\u001b[0m \u001b[0;32mfor\u001b[0m \u001b[0mx\u001b[0m\u001b[0;34m,\u001b[0m \u001b[0my\u001b[0m \u001b[0;32min\u001b[0m \u001b[0mzip\u001b[0m\u001b[0;34m(\u001b[0m\u001b[0mX\u001b[0m\u001b[0;34m,\u001b[0m \u001b[0mY\u001b[0m\u001b[0;34m)\u001b[0m\u001b[0;34m:\u001b[0m\u001b[0;34m\u001b[0m\u001b[0;34m\u001b[0m\u001b[0m\n",
            "\u001b[0;31mNameError\u001b[0m: name 'propositional_weights' is not defined"
          ]
        }
      ]
    },
    {
      "cell_type": "code",
      "source": [
        ""
      ],
      "metadata": {
        "id": "EuA3W7WG1wdW"
      },
      "execution_count": null,
      "outputs": []
    },
    {
      "cell_type": "code",
      "source": [
        "# No hard clauses are introduced.\n",
        "# Soft clauses - have weight 1, if the prediction of the network is correct\n",
        "# for a given instance (x_i, y_i) in a dataset"
      ],
      "metadata": {
        "id": "ib6roIks1ykc"
      },
      "execution_count": null,
      "outputs": []
    },
    {
      "cell_type": "code",
      "source": [
        "# Encode this into clauses\n",
        "for x_i, y_i in zip(X, Y):\n",
        "    print(f'Encoding x_i = {x_i}, y_i = {y_i}')\n",
        "    "
      ],
      "metadata": {
        "colab": {
          "base_uri": "https://localhost:8080/"
        },
        "id": "CTt9iMs_2CQT",
        "outputId": "6de82277-f8c2-488c-9bd6-f1957f3c4dbe"
      },
      "execution_count": null,
      "outputs": [
        {
          "output_type": "stream",
          "name": "stdout",
          "text": [
            "Encoding x_i = [True, False, False], y_i = False\n",
            "Encoding x_i = [False, True, False], y_i = True\n",
            "Encoding x_i = [True, True, False], y_i = True\n"
          ]
        }
      ]
    },
    {
      "cell_type": "code",
      "source": [
        ""
      ],
      "metadata": {
        "id": "HVg9nRUf3ati"
      },
      "execution_count": null,
      "outputs": []
    }
  ]
}