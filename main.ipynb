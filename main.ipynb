{
  "nbformat": 4,
  "nbformat_minor": 0,
  "metadata": {
    "colab": {
      "name": "KDM project.ipynb",
      "provenance": []
    },
    "kernelspec": {
      "name": "python3",
      "display_name": "Python 3"
    },
    "language_info": {
      "name": "python"
    }
  },
  "cells": [
    {
      "cell_type": "code",
      "source": [
        "import itertools\n",
        "import numpy as np\n",
        "\n",
        "somelists = [\n",
        "#    [1, 2],\n",
        "#    [2, 3],\n",
        "#    [1, 3]\n",
        "    ['0', '0~'],\n",
        "    ['1', '1~'],\n",
        "    ['0', '0~']\n",
        "]\n",
        "\n",
        "lists = [\n",
        "         [1, 2],\n",
        "         [1, 3],\n",
        "         [2, 3]\n",
        "]\n",
        "\n",
        "print(*itertools.product(*somelists))\n",
        "print(*itertools.product(*lists))\n",
        "\n",
        "#for element in itertools.product(*somelists):\n",
        "#    print(element)"
      ],
      "metadata": {
        "id": "8GnD2xG-Yogn",
        "outputId": "0cbfd79c-a765-4757-a385-b70d1457a3d3",
        "colab": {
          "base_uri": "https://localhost:8080/"
        }
      },
      "execution_count": 2,
      "outputs": [
        {
          "output_type": "stream",
          "name": "stdout",
          "text": [
            "('0', '1', '0') ('0', '1', '0~') ('0', '1~', '0') ('0', '1~', '0~') ('0~', '1', '0') ('0~', '1', '0~') ('0~', '1~', '0') ('0~', '1~', '0~')\n",
            "(1, 1, 2) (1, 1, 3) (1, 3, 2) (1, 3, 3) (2, 1, 2) (2, 1, 3) (2, 3, 2) (2, 3, 3)\n"
          ]
        }
      ]
    },
    {
      "cell_type": "code",
      "source": [
        "from sympy.logic.boolalg import to_cnf\n",
        "from sympy.abc import A, B, C, D, E, F, G, H, J\n",
        "\n",
        "\n",
        "# to_cnf((A & B) | (C & D) | (E & F) | (G & H))\n",
        "to_cnf((A & B) | (C & D) | (E & F))\n",
        "# to_cnf((~A & ~B) | (~C & ~D) | (~E & ~F))\n",
        "# to_cnf((A & B & C) | (D & E & F))"
      ],
      "metadata": {
        "colab": {
          "base_uri": "https://localhost:8080/",
          "height": 39
        },
        "id": "36kQYuZNpElx",
        "outputId": "2ee5cf32-f834-43ef-a8ad-e8db263ebad2"
      },
      "execution_count": 3,
      "outputs": [
        {
          "output_type": "execute_result",
          "data": {
            "text/plain": [
              "(A | C | E) & (A | C | F) & (A | D | E) & (A | D | F) & (B | C | E) & (B | C | F) & (B | D | E) & (B | D | F)"
            ],
            "text/latex": "$\\displaystyle \\left(A \\vee C \\vee E\\right) \\wedge \\left(A \\vee C \\vee F\\right) \\wedge \\left(A \\vee D \\vee E\\right) \\wedge \\left(A \\vee D \\vee F\\right) \\wedge \\left(B \\vee C \\vee E\\right) \\wedge \\left(B \\vee C \\vee F\\right) \\wedge \\left(B \\vee D \\vee E\\right) \\wedge \\left(B \\vee D \\vee F\\right)$"
          },
          "metadata": {},
          "execution_count": 3
        }
      ]
    },
    {
      "cell_type": "code",
      "source": [
        "to_cnf(((~A & B) | (A & ~B)) | ((~C & D) | (C & ~D))) #  | ((~E & F) | (E & ~F)))"
      ],
      "metadata": {
        "id": "EW5pnh8mj2nQ",
        "outputId": "2cbb48e7-c5cf-4203-98df-27747fe1ebd1",
        "colab": {
          "base_uri": "https://localhost:8080/",
          "height": 82
        }
      },
      "execution_count": 4,
      "outputs": [
        {
          "output_type": "execute_result",
          "data": {
            "text/plain": [
              "(A | B | C | D) & (A | B | C | ~C) & (A | B | D | ~D) & (A | C | D | ~A) & (B | C | D | ~B) & (A | B | ~C | ~D) & (A | C | ~A | ~C) & (A | D | ~A | ~D) & (B | C | ~B | ~C) & (B | D | ~B | ~D) & (C | D | ~A | ~B) & (A | ~A | ~C | ~D) & (B | ~B | ~C | ~D) & (C | ~A | ~B | ~C) & (D | ~A | ~B | ~D) & (~A | ~B | ~C | ~D)"
            ],
            "text/latex": "$\\displaystyle \\left(A \\vee B \\vee C \\vee D\\right) \\wedge \\left(A \\vee B \\vee C \\vee \\neg C\\right) \\wedge \\left(A \\vee B \\vee D \\vee \\neg D\\right) \\wedge \\left(A \\vee B \\vee \\neg C \\vee \\neg D\\right) \\wedge \\left(A \\vee C \\vee D \\vee \\neg A\\right) \\wedge \\left(A \\vee C \\vee \\neg A \\vee \\neg C\\right) \\wedge \\left(A \\vee D \\vee \\neg A \\vee \\neg D\\right) \\wedge \\left(A \\vee \\neg A \\vee \\neg C \\vee \\neg D\\right) \\wedge \\left(B \\vee C \\vee D \\vee \\neg B\\right) \\wedge \\left(B \\vee C \\vee \\neg B \\vee \\neg C\\right) \\wedge \\left(B \\vee D \\vee \\neg B \\vee \\neg D\\right) \\wedge \\left(B \\vee \\neg B \\vee \\neg C \\vee \\neg D\\right) \\wedge \\left(C \\vee D \\vee \\neg A \\vee \\neg B\\right) \\wedge \\left(C \\vee \\neg A \\vee \\neg B \\vee \\neg C\\right) \\wedge \\left(D \\vee \\neg A \\vee \\neg B \\vee \\neg D\\right) \\wedge \\left(\\neg A \\vee \\neg B \\vee \\neg C \\vee \\neg D\\right)$"
          },
          "metadata": {},
          "execution_count": 4
        }
      ]
    },
    {
      "cell_type": "code",
      "source": [
        "# to_cnf(((A & ~B) | (~A & B)) | ((C & ~D) | (~C & D)) | ((E & ~F) | (~E & F)))\n",
        "to_cnf(((A & ~B) | (~A & B)) | ((C & ~D) | (~C & D)))"
      ],
      "metadata": {
        "colab": {
          "base_uri": "https://localhost:8080/",
          "height": 82
        },
        "id": "eexlR8cItUhl",
        "outputId": "776f1051-d71f-4333-cbbd-02f06c9e9b95"
      },
      "execution_count": 5,
      "outputs": [
        {
          "output_type": "execute_result",
          "data": {
            "text/plain": [
              "(A | B | C | D) & (A | B | C | ~C) & (A | B | D | ~D) & (A | C | D | ~A) & (B | C | D | ~B) & (A | B | ~C | ~D) & (A | C | ~A | ~C) & (A | D | ~A | ~D) & (B | C | ~B | ~C) & (B | D | ~B | ~D) & (C | D | ~A | ~B) & (A | ~A | ~C | ~D) & (B | ~B | ~C | ~D) & (C | ~A | ~B | ~C) & (D | ~A | ~B | ~D) & (~A | ~B | ~C | ~D)"
            ],
            "text/latex": "$\\displaystyle \\left(A \\vee B \\vee C \\vee D\\right) \\wedge \\left(A \\vee B \\vee C \\vee \\neg C\\right) \\wedge \\left(A \\vee B \\vee D \\vee \\neg D\\right) \\wedge \\left(A \\vee B \\vee \\neg C \\vee \\neg D\\right) \\wedge \\left(A \\vee C \\vee D \\vee \\neg A\\right) \\wedge \\left(A \\vee C \\vee \\neg A \\vee \\neg C\\right) \\wedge \\left(A \\vee D \\vee \\neg A \\vee \\neg D\\right) \\wedge \\left(A \\vee \\neg A \\vee \\neg C \\vee \\neg D\\right) \\wedge \\left(B \\vee C \\vee D \\vee \\neg B\\right) \\wedge \\left(B \\vee C \\vee \\neg B \\vee \\neg C\\right) \\wedge \\left(B \\vee D \\vee \\neg B \\vee \\neg D\\right) \\wedge \\left(B \\vee \\neg B \\vee \\neg C \\vee \\neg D\\right) \\wedge \\left(C \\vee D \\vee \\neg A \\vee \\neg B\\right) \\wedge \\left(C \\vee \\neg A \\vee \\neg B \\vee \\neg C\\right) \\wedge \\left(D \\vee \\neg A \\vee \\neg B \\vee \\neg D\\right) \\wedge \\left(\\neg A \\vee \\neg B \\vee \\neg C \\vee \\neg D\\right)$"
          },
          "metadata": {},
          "execution_count": 5
        }
      ]
    },
    {
      "cell_type": "code",
      "source": [
        "to_cnf(((A | ~B) & (~A | B)) & ((C | ~D) & (~C | D)))"
      ],
      "metadata": {
        "colab": {
          "base_uri": "https://localhost:8080/",
          "height": 39
        },
        "id": "8rT-sk0ntpYy",
        "outputId": "5b7e40c0-81e7-4f22-fddd-774a593fc9f0"
      },
      "execution_count": 6,
      "outputs": [
        {
          "output_type": "execute_result",
          "data": {
            "text/plain": [
              "(A | ~B) & (B | ~A) & (C | ~D) & (D | ~C)"
            ],
            "text/latex": "$\\displaystyle \\left(A \\vee \\neg B\\right) \\wedge \\left(B \\vee \\neg A\\right) \\wedge \\left(C \\vee \\neg D\\right) \\wedge \\left(D \\vee \\neg C\\right)$"
          },
          "metadata": {},
          "execution_count": 6
        }
      ]
    },
    {
      "cell_type": "code",
      "source": [
        "# iter = itertools.product(*[[0, 1], [0, 1], [0, 1], [0, 1]])\n",
        "\n",
        "# iter = itertools.product(*[[1, 2], [3, 4]])\n",
        "\n",
        "iter = itertools.product(*[['w1', '~w1'], ['x1', '~x1'], ['w2', '~w2'], ['x2', '~x2']])\n",
        "\n",
        "for i in iter:\n",
        "    print(i)"
      ],
      "metadata": {
        "colab": {
          "base_uri": "https://localhost:8080/"
        },
        "id": "Z3bkdiEAvYVD",
        "outputId": "811dbf9d-678a-4b7b-b030-47913a596029"
      },
      "execution_count": 7,
      "outputs": [
        {
          "output_type": "stream",
          "name": "stdout",
          "text": [
            "('w1', 'x1', 'w2', 'x2')\n",
            "('w1', 'x1', 'w2', '~x2')\n",
            "('w1', 'x1', '~w2', 'x2')\n",
            "('w1', 'x1', '~w2', '~x2')\n",
            "('w1', '~x1', 'w2', 'x2')\n",
            "('w1', '~x1', 'w2', '~x2')\n",
            "('w1', '~x1', '~w2', 'x2')\n",
            "('w1', '~x1', '~w2', '~x2')\n",
            "('~w1', 'x1', 'w2', 'x2')\n",
            "('~w1', 'x1', 'w2', '~x2')\n",
            "('~w1', 'x1', '~w2', 'x2')\n",
            "('~w1', 'x1', '~w2', '~x2')\n",
            "('~w1', '~x1', 'w2', 'x2')\n",
            "('~w1', '~x1', 'w2', '~x2')\n",
            "('~w1', '~x1', '~w2', 'x2')\n",
            "('~w1', '~x1', '~w2', '~x2')\n"
          ]
        }
      ]
    },
    {
      "cell_type": "markdown",
      "source": [
        "# Packages"
      ],
      "metadata": {
        "id": "TBLlFPegyHfJ"
      }
    },
    {
      "cell_type": "code",
      "source": [
        "%%capture\n",
        "!pip install python-sat"
      ],
      "metadata": {
        "id": "qmIq0duBhPyO"
      },
      "execution_count": 8,
      "outputs": []
    },
    {
      "cell_type": "code",
      "source": [
        "from pysat.examples.fm import FM\n",
        "from pysat.formula import WCNF\n",
        "from itertools import combinations\n",
        "import math\n",
        "\n",
        "import numpy as np"
      ],
      "metadata": {
        "id": "PsyheJ3iyYwZ"
      },
      "execution_count": 9,
      "outputs": []
    },
    {
      "cell_type": "markdown",
      "source": [
        "# Prepare indices"
      ],
      "metadata": {
        "id": "QRGzAw8gfY5P"
      }
    },
    {
      "cell_type": "code",
      "source": [
        "n_neurons = 3\n",
        "n_features = n_neurons\n",
        "n_train = 4"
      ],
      "metadata": {
        "id": "wvhysD6xfcQD"
      },
      "execution_count": 10,
      "outputs": []
    },
    {
      "cell_type": "code",
      "source": [
        "# define propositional variables for weights\n",
        "w = np.array([i + 1 for i in range(n_neurons)])\n",
        "print(f'Propositional weights: {w}')"
      ],
      "metadata": {
        "colab": {
          "base_uri": "https://localhost:8080/"
        },
        "id": "p9PYwitDfg-N",
        "outputId": "52f50ce9-067a-4b65-d68d-41571f74f57a"
      },
      "execution_count": 11,
      "outputs": [
        {
          "output_type": "stream",
          "name": "stdout",
          "text": [
            "Propositional weights: [1 2 3]\n"
          ]
        }
      ]
    },
    {
      "cell_type": "code",
      "source": [
        "# define propositional variables for X\n",
        "# propositional features cannot have same indices as w --> + 1 + max(w)\n",
        "propositional_features = np.array(\n",
        "    [[i*n_features + j + max(w) + 1 for j in range(n_features)] for i in range(n_train)]\n",
        ")\n",
        "print(propositional_features)\n",
        "\n",
        "for i in range(propositional_features.shape[0]):\n",
        "    for j in range(propositional_features.shape[1]):\n",
        "        print(f'X[{i}][{j}] will be encoded as {propositional_features[i][j]}')"
      ],
      "metadata": {
        "colab": {
          "base_uri": "https://localhost:8080/"
        },
        "id": "7u6yX_Zhf2Ov",
        "outputId": "9b925490-d705-4481-c4a5-f969c2d6714b"
      },
      "execution_count": 12,
      "outputs": [
        {
          "output_type": "stream",
          "name": "stdout",
          "text": [
            "[[ 4  5  6]\n",
            " [ 7  8  9]\n",
            " [10 11 12]\n",
            " [13 14 15]]\n",
            "X[0][0] will be encoded as 4\n",
            "X[0][1] will be encoded as 5\n",
            "X[0][2] will be encoded as 6\n",
            "X[1][0] will be encoded as 7\n",
            "X[1][1] will be encoded as 8\n",
            "X[1][2] will be encoded as 9\n",
            "X[2][0] will be encoded as 10\n",
            "X[2][1] will be encoded as 11\n",
            "X[2][2] will be encoded as 12\n",
            "X[3][0] will be encoded as 13\n",
            "X[3][1] will be encoded as 14\n",
            "X[3][2] will be encoded as 15\n"
          ]
        }
      ]
    },
    {
      "cell_type": "code",
      "source": [
        "# Now we prepare all indices for the case when y == 1\n",
        "\n",
        "majority_size = int(np.ceil(n_features / 2))\n",
        "assert(majority_size == np.floor(n_features / 2) + 1)\n",
        "\n",
        "features_combinations = list(combinations(w, majority_size))\n",
        "print(features_combinations)  # [(w1 == x_i1) and (w2 == x_i2)] V [(..1) and (..3)] V [(..2) and (..3)]"
      ],
      "metadata": {
        "colab": {
          "base_uri": "https://localhost:8080/"
        },
        "id": "Y_Z9RFguhFpW",
        "outputId": "7e155531-d7e1-4fa2-dcdb-1732d2f75aea"
      },
      "execution_count": 13,
      "outputs": [
        {
          "output_type": "stream",
          "name": "stdout",
          "text": [
            "[(1, 2), (1, 3), (2, 3)]\n"
          ]
        }
      ]
    },
    {
      "cell_type": "code",
      "source": [
        "# Now prepare all products\n",
        "cartesian_prod = list(itertools.product(*features_combinations))\n",
        "print(cartesian_prod[:10])"
      ],
      "metadata": {
        "colab": {
          "base_uri": "https://localhost:8080/"
        },
        "id": "GZfENxw7huom",
        "outputId": "f42b9bd7-ed74-4c18-e2c8-7cb02601d698"
      },
      "execution_count": 14,
      "outputs": [
        {
          "output_type": "stream",
          "name": "stdout",
          "text": [
            "[(1, 1, 2), (1, 1, 3), (1, 3, 2), (1, 3, 3), (2, 1, 2), (2, 1, 3), (2, 3, 2), (2, 3, 3)]\n"
          ]
        }
      ]
    },
    {
      "cell_type": "code",
      "source": [
        "optimized_products = [np.unique(combo).tolist() for combo in cartesian_prod]\n",
        "\n",
        "def remove_redundant(elements):\n",
        "    res = []\n",
        "    for e in elements:\n",
        "        if not (e in res):\n",
        "            res.append(e)\n",
        "    return res\n",
        "\n",
        "print(optimized_products)\n",
        "optimized_products = remove_redundant(optimized_products)\n",
        "print(optimized_products)"
      ],
      "metadata": {
        "colab": {
          "base_uri": "https://localhost:8080/"
        },
        "id": "qgsHY6J1i_Q_",
        "outputId": "3ee16fa3-ed67-45e8-a975-a2445b61870d"
      },
      "execution_count": 15,
      "outputs": [
        {
          "output_type": "stream",
          "name": "stdout",
          "text": [
            "[[1, 2], [1, 3], [1, 2, 3], [1, 3], [1, 2], [1, 2, 3], [2, 3], [2, 3]]\n",
            "[[1, 2], [1, 3], [1, 2, 3], [2, 3]]\n"
          ]
        }
      ]
    },
    {
      "cell_type": "markdown",
      "source": [
        "# Encode clauses (indices) for case y == 1"
      ],
      "metadata": {
        "id": "sbUeugE20OBO"
      }
    },
    {
      "cell_type": "code",
      "source": [
        "# Each element of optimized_products represents:\n",
        "# [1, 2] --> (w1 == x_i1) V (w2 == x_i2). But we have not transfered to CNF yet\n",
        "# To do that: [(~w1 V x_i1) & (w1 V ~x_i1)] V [(~w2 V x_i2) & (w2 V ~x_i2)]\n",
        "# which is 'encoded' as [[1, -1], [2, -2]]\n",
        "\n",
        "predfinal_clauses = []\n",
        "for product in optimized_products:\n",
        "    bracket = []\n",
        "    for val in product:\n",
        "        bracket.append([val, -val])\n",
        "    predfinal_clauses.append(bracket)\n",
        "predfinal_clauses"
      ],
      "metadata": {
        "colab": {
          "base_uri": "https://localhost:8080/"
        },
        "id": "5qSLgwdAjo0C",
        "outputId": "02f64f01-3360-449e-d1e8-c87172beea8e"
      },
      "execution_count": 16,
      "outputs": [
        {
          "output_type": "execute_result",
          "data": {
            "text/plain": [
              "[[[1, -1], [2, -2]],\n",
              " [[1, -1], [3, -3]],\n",
              " [[1, -1], [2, -2], [3, -3]],\n",
              " [[2, -2], [3, -3]]]"
            ]
          },
          "metadata": {},
          "execution_count": 16
        }
      ]
    },
    {
      "cell_type": "code",
      "source": [
        "# And now we are creating final clauses\n",
        "positive_clauses = []\n",
        "for predfinal_clause in predfinal_clauses:\n",
        "    print(f'predfinal_clause = {predfinal_clause}')\n",
        "    clauses = list(itertools.product(*predfinal_clause))\n",
        "    print(f'Clauses from it: {clauses}')\n",
        "\n",
        "    for clause in clauses:\n",
        "        positive_clauses.append(clause)\n",
        "\n",
        "# (1, 2) means clause (~w1 V x_i1) V (~w2 V x_i2)\n",
        "# (-1, 2) means clause (w1 V ~x_i1) V (~w2 V x_i2)\n",
        "positive_clauses"
      ],
      "metadata": {
        "colab": {
          "base_uri": "https://localhost:8080/"
        },
        "id": "cujAn1XmleSf",
        "outputId": "a0702f61-1471-477f-aeaf-56300937f25e"
      },
      "execution_count": 17,
      "outputs": [
        {
          "output_type": "stream",
          "name": "stdout",
          "text": [
            "predfinal_clause = [[1, -1], [2, -2]]\n",
            "Clauses from it: [(1, 2), (1, -2), (-1, 2), (-1, -2)]\n",
            "predfinal_clause = [[1, -1], [3, -3]]\n",
            "Clauses from it: [(1, 3), (1, -3), (-1, 3), (-1, -3)]\n",
            "predfinal_clause = [[1, -1], [2, -2], [3, -3]]\n",
            "Clauses from it: [(1, 2, 3), (1, 2, -3), (1, -2, 3), (1, -2, -3), (-1, 2, 3), (-1, 2, -3), (-1, -2, 3), (-1, -2, -3)]\n",
            "predfinal_clause = [[2, -2], [3, -3]]\n",
            "Clauses from it: [(2, 3), (2, -3), (-2, 3), (-2, -3)]\n"
          ]
        },
        {
          "output_type": "execute_result",
          "data": {
            "text/plain": [
              "[(1, 2),\n",
              " (1, -2),\n",
              " (-1, 2),\n",
              " (-1, -2),\n",
              " (1, 3),\n",
              " (1, -3),\n",
              " (-1, 3),\n",
              " (-1, -3),\n",
              " (1, 2, 3),\n",
              " (1, 2, -3),\n",
              " (1, -2, 3),\n",
              " (1, -2, -3),\n",
              " (-1, 2, 3),\n",
              " (-1, 2, -3),\n",
              " (-1, -2, 3),\n",
              " (-1, -2, -3),\n",
              " (2, 3),\n",
              " (2, -3),\n",
              " (-2, 3),\n",
              " (-2, -3)]"
            ]
          },
          "metadata": {},
          "execution_count": 17
        }
      ]
    },
    {
      "cell_type": "markdown",
      "source": [
        "# Encode clauses for y == -1"
      ],
      "metadata": {
        "id": "BVm2Le9y025f"
      }
    },
    {
      "cell_type": "code",
      "source": [
        "features_combinations"
      ],
      "metadata": {
        "id": "qzKPAg0x041h",
        "outputId": "07fce7d4-e7e4-470a-fbc8-352b6cfba81b",
        "colab": {
          "base_uri": "https://localhost:8080/"
        }
      },
      "execution_count": 18,
      "outputs": [
        {
          "output_type": "execute_result",
          "data": {
            "text/plain": [
              "[(1, 2), (1, 3), (2, 3)]"
            ]
          },
          "metadata": {},
          "execution_count": 18
        }
      ]
    },
    {
      "cell_type": "code",
      "source": [
        "ws_xs_list = []\n",
        "for combo in features_combinations:\n",
        "    # print(combo)\n",
        "    symbols = []\n",
        "    for i in combo:\n",
        "        symbols.extend([[f'w {i}', f'~ w {i}']])\n",
        "        symbols.extend([[f'x {i}', f'~ x {i}']])\n",
        "    ws_xs_list.append(symbols)\n",
        "\n",
        "ws_xs_list"
      ],
      "metadata": {
        "id": "J7xEWGNd1KKx",
        "outputId": "3581da3a-e1b6-4687-e650-7e2736fa444f",
        "colab": {
          "base_uri": "https://localhost:8080/"
        }
      },
      "execution_count": 19,
      "outputs": [
        {
          "output_type": "execute_result",
          "data": {
            "text/plain": [
              "[[['w 1', '~ w 1'], ['x 1', '~ x 1'], ['w 2', '~ w 2'], ['x 2', '~ x 2']],\n",
              " [['w 1', '~ w 1'], ['x 1', '~ x 1'], ['w 3', '~ w 3'], ['x 3', '~ x 3']],\n",
              " [['w 2', '~ w 2'], ['x 2', '~ x 2'], ['w 3', '~ w 3'], ['x 3', '~ x 3']]]"
            ]
          },
          "metadata": {},
          "execution_count": 19
        }
      ]
    },
    {
      "cell_type": "code",
      "source": [
        "print(*itertools.product(*ws_xs_list[0]))"
      ],
      "metadata": {
        "id": "e9ULVvvy2GHt",
        "outputId": "0b93e317-7591-454b-e50f-19119875e1c3",
        "colab": {
          "base_uri": "https://localhost:8080/"
        }
      },
      "execution_count": 20,
      "outputs": [
        {
          "output_type": "stream",
          "name": "stdout",
          "text": [
            "('w 1', 'x 1', 'w 2', 'x 2') ('w 1', 'x 1', 'w 2', '~ x 2') ('w 1', 'x 1', '~ w 2', 'x 2') ('w 1', 'x 1', '~ w 2', '~ x 2') ('w 1', '~ x 1', 'w 2', 'x 2') ('w 1', '~ x 1', 'w 2', '~ x 2') ('w 1', '~ x 1', '~ w 2', 'x 2') ('w 1', '~ x 1', '~ w 2', '~ x 2') ('~ w 1', 'x 1', 'w 2', 'x 2') ('~ w 1', 'x 1', 'w 2', '~ x 2') ('~ w 1', 'x 1', '~ w 2', 'x 2') ('~ w 1', 'x 1', '~ w 2', '~ x 2') ('~ w 1', '~ x 1', 'w 2', 'x 2') ('~ w 1', '~ x 1', 'w 2', '~ x 2') ('~ w 1', '~ x 1', '~ w 2', 'x 2') ('~ w 1', '~ x 1', '~ w 2', '~ x 2')\n"
          ]
        }
      ]
    },
    {
      "cell_type": "code",
      "source": [
        "negative_clauses = []\n",
        "\n",
        "for combination in ws_xs_list:\n",
        "    for clause in itertools.product(*combination):\n",
        "        # print(clause)\n",
        "        negative_clauses.append(clause)"
      ],
      "metadata": {
        "id": "rP-egjKB2bed"
      },
      "execution_count": 21,
      "outputs": []
    },
    {
      "cell_type": "code",
      "source": [
        "# Here, w1 means 1st weight, x1 - first feature of the object\n",
        "len(set(negative_clauses)), len(negative_clauses)"
      ],
      "metadata": {
        "id": "DONlMFXK225x",
        "outputId": "b527a13b-6ef5-4525-e2b5-58e70af99e4c",
        "colab": {
          "base_uri": "https://localhost:8080/"
        }
      },
      "execution_count": 22,
      "outputs": [
        {
          "output_type": "execute_result",
          "data": {
            "text/plain": [
              "(48, 48)"
            ]
          },
          "metadata": {},
          "execution_count": 22
        }
      ]
    },
    {
      "cell_type": "markdown",
      "source": [
        "# Preparing dataset"
      ],
      "metadata": {
        "id": "zun-o_oZN_Ri"
      }
    },
    {
      "cell_type": "code",
      "source": [
        "sample = [True, False]\n",
        "\n",
        "np.random.choice(sample, size = (10, 3))"
      ],
      "metadata": {
        "colab": {
          "base_uri": "https://localhost:8080/"
        },
        "id": "nheMmLSUOkRy",
        "outputId": "c340c782-4c7e-42b4-af03-198d45b01080"
      },
      "execution_count": 23,
      "outputs": [
        {
          "output_type": "execute_result",
          "data": {
            "text/plain": [
              "array([[False,  True, False],\n",
              "       [ True,  True,  True],\n",
              "       [False,  True,  True],\n",
              "       [ True,  True, False],\n",
              "       [False,  True,  True],\n",
              "       [False, False, False],\n",
              "       [False, False,  True],\n",
              "       [False,  True, False],\n",
              "       [ True,  True,  True],\n",
              "       [False, False, False]])"
            ]
          },
          "metadata": {},
          "execution_count": 23
        }
      ]
    },
    {
      "cell_type": "code",
      "source": [
        "def check_if_2nd_feature_true(x):\n",
        "    return x[1] == True\n",
        "\n",
        "def test(x):\n",
        "    pass\n",
        "\n",
        "def prepare_dataset(n_train_, n_features_, func_):\n",
        "    sample_arr = [True, False]\n",
        "\n",
        "    X = np.random.choice(sample_arr, size = (n_train_, n_features_))\n",
        "    Y = [func_(x) for x in X]\n",
        "    return X, Y\n",
        "\n",
        "# Randomly prepare dataset\n",
        "data_function = check_if_2nd_feature_true\n",
        "\n",
        "X, Y = prepare_dataset(\n",
        "    n_train_ = n_train,\n",
        "    n_features_ = n_features,\n",
        "    func_ = data_function\n",
        ")"
      ],
      "metadata": {
        "id": "H1lFqCS3OAyO"
      },
      "execution_count": 24,
      "outputs": []
    },
    {
      "cell_type": "code",
      "source": [
        "print(X)\n",
        "print(Y)"
      ],
      "metadata": {
        "colab": {
          "base_uri": "https://localhost:8080/"
        },
        "id": "o1BSCZEiPVmP",
        "outputId": "dd556c3d-2220-452d-e07d-cc4c81c02812"
      },
      "execution_count": 25,
      "outputs": [
        {
          "output_type": "stream",
          "name": "stdout",
          "text": [
            "[[ True  True False]\n",
            " [ True False False]\n",
            " [ True  True False]\n",
            " [False False False]]\n",
            "[True, False, True, False]\n"
          ]
        }
      ]
    },
    {
      "cell_type": "code",
      "source": [
        "for x, y in zip(X, Y):\n",
        "    print(x, data_function(x), y)\n",
        "    assert(data_function(x) == y)"
      ],
      "metadata": {
        "colab": {
          "base_uri": "https://localhost:8080/"
        },
        "id": "sXUnGEupO1Yh",
        "outputId": "9bfd545a-821f-480f-e160-826425aa6d03"
      },
      "execution_count": 26,
      "outputs": [
        {
          "output_type": "stream",
          "name": "stdout",
          "text": [
            "[ True  True False] True True\n",
            "[ True False False] False False\n",
            "[ True  True False] True True\n",
            "[False False False] False False\n"
          ]
        }
      ]
    },
    {
      "cell_type": "markdown",
      "source": [
        "# Encoding into clauses"
      ],
      "metadata": {
        "id": "FSTLEXPcQO50"
      }
    },
    {
      "cell_type": "code",
      "source": [
        "positive_clauses"
      ],
      "metadata": {
        "colab": {
          "base_uri": "https://localhost:8080/"
        },
        "id": "rD-b1m8nQlMb",
        "outputId": "ee0b1808-9f24-4440-ce5e-31affa524be7"
      },
      "execution_count": 27,
      "outputs": [
        {
          "output_type": "execute_result",
          "data": {
            "text/plain": [
              "[(1, 2),\n",
              " (1, -2),\n",
              " (-1, 2),\n",
              " (-1, -2),\n",
              " (1, 3),\n",
              " (1, -3),\n",
              " (-1, 3),\n",
              " (-1, -3),\n",
              " (1, 2, 3),\n",
              " (1, 2, -3),\n",
              " (1, -2, 3),\n",
              " (1, -2, -3),\n",
              " (-1, 2, 3),\n",
              " (-1, 2, -3),\n",
              " (-1, -2, 3),\n",
              " (-1, -2, -3),\n",
              " (2, 3),\n",
              " (2, -3),\n",
              " (-2, 3),\n",
              " (-2, -3)]"
            ]
          },
          "metadata": {},
          "execution_count": 27
        }
      ]
    },
    {
      "cell_type": "code",
      "source": [
        "propositional_features[0]"
      ],
      "metadata": {
        "colab": {
          "base_uri": "https://localhost:8080/"
        },
        "id": "d_B65MxuY_kY",
        "outputId": "96b0dd05-f0d1-4e12-ccf2-9c2023856c55"
      },
      "execution_count": 28,
      "outputs": [
        {
          "output_type": "execute_result",
          "data": {
            "text/plain": [
              "array([4, 5, 6])"
            ]
          },
          "metadata": {},
          "execution_count": 28
        }
      ]
    },
    {
      "cell_type": "code",
      "source": [
        "len(positive_clauses), positive_clauses"
      ],
      "metadata": {
        "colab": {
          "base_uri": "https://localhost:8080/"
        },
        "id": "qBvBhPo_RVc5",
        "outputId": "a3eacc30-f7d6-46ec-ee4a-3d0c0739e451"
      },
      "execution_count": 29,
      "outputs": [
        {
          "output_type": "execute_result",
          "data": {
            "text/plain": [
              "(20,\n",
              " [(1, 2),\n",
              "  (1, -2),\n",
              "  (-1, 2),\n",
              "  (-1, -2),\n",
              "  (1, 3),\n",
              "  (1, -3),\n",
              "  (-1, 3),\n",
              "  (-1, -3),\n",
              "  (1, 2, 3),\n",
              "  (1, 2, -3),\n",
              "  (1, -2, 3),\n",
              "  (1, -2, -3),\n",
              "  (-1, 2, 3),\n",
              "  (-1, 2, -3),\n",
              "  (-1, -2, 3),\n",
              "  (-1, -2, -3),\n",
              "  (2, 3),\n",
              "  (2, -3),\n",
              "  (-2, 3),\n",
              "  (-2, -3)])"
            ]
          },
          "metadata": {},
          "execution_count": 29
        }
      ]
    },
    {
      "cell_type": "markdown",
      "source": [
        "# Encoding soft clauses"
      ],
      "metadata": {
        "id": "Z8lMx199epNo"
      }
    },
    {
      "cell_type": "code",
      "source": [
        "def calc_update(letters, x, w):\n",
        "    # ['~', 'x', '2']\n",
        "    x_or_w = ''\n",
        "    to_put_minus = 1\n",
        "\n",
        "    if letters[0] == '~':\n",
        "        x_or_w = letters[1]\n",
        "        to_put_minus = -1\n",
        "    else:\n",
        "        x_or_w = letters[0]\n",
        "        to_put_minus = 1\n",
        "    \n",
        "    index = int(letters[-1])\n",
        "    if x_or_w == 'x':\n",
        "        return to_put_minus * x[index - 1]\n",
        "        \n",
        "    if x_or_w == 'w':\n",
        "        return to_put_minus * w[index - 1]\n",
        "\n",
        "# w[i] is a (i+1)th weight (i.e. w = (1, 2, 3), 1 = w[0], 2 = w[1], 3 = w[2])\n",
        "wcnf_form = WCNF()\n",
        "\n",
        "for i in range(len(Y)):\n",
        "    \n",
        "    y_i = Y[i]\n",
        "\n",
        "    if y_i == True:\n",
        "        print(f'Encoding for y True')\n",
        "        for positive_clause in positive_clauses:\n",
        "            # if (1, -2) clause --> [(w[0] V ~x[i][0]) V (~w[1] V x[i][1])] clause\n",
        "            clause_to_add = []\n",
        "            for index in positive_clause:\n",
        "                abs_index = abs(index)\n",
        "                prop_weight = w[abs_index - 1]  # variable, where weight is encoded\n",
        "                prop_feature = propositional_features[i][abs_index - 1]  # feature, that is encoded\n",
        "\n",
        "                if index < 0:\n",
        "                    clause_to_add.extend([-prop_weight, prop_feature])\n",
        "                else:\n",
        "                    clause_to_add.extend([prop_weight, -prop_feature])\n",
        "            # print(f'Clause: {clause_to_add}')\n",
        "            wcnf_form.append(clause_to_add, weight = 1)\n",
        "\n",
        "    elif y_i == False:\n",
        "        print(f'Encoding for negative y')\n",
        "        for negative_clause in negative_clauses:\n",
        "            # ('w 1', 'x 1', '~ w 2', '~ x 2')\n",
        "\n",
        "            clause_to_add = []\n",
        "            for symbol in negative_clause:\n",
        "                # symbol is a string, like \"w 1\" or \"~ x 2\"\n",
        "                letters = symbol.split(' ')\n",
        "                clause_to_add.append(calc_update(letters, propositional_features[i], w))\n",
        "            # print(f'Clause: {clause_to_add}')\n",
        "            wcnf_form.append(clause_to_add, weight = 1)"
      ],
      "metadata": {
        "colab": {
          "base_uri": "https://localhost:8080/"
        },
        "id": "JAL9LlkQQQzk",
        "outputId": "87323443-9df0-4ad5-e5b9-8f24abd91975"
      },
      "execution_count": 34,
      "outputs": [
        {
          "output_type": "stream",
          "name": "stdout",
          "text": [
            "Encoding for y True\n",
            "Encoding for negative y\n",
            "Encoding for y True\n",
            "Encoding for negative y\n"
          ]
        }
      ]
    },
    {
      "cell_type": "code",
      "source": [
        "len(wcnf_form.soft)"
      ],
      "metadata": {
        "colab": {
          "base_uri": "https://localhost:8080/"
        },
        "id": "s3UYsT2WcCfj",
        "outputId": "5fe88bbe-158f-4f56-952c-bd105cee8620"
      },
      "execution_count": 35,
      "outputs": [
        {
          "output_type": "execute_result",
          "data": {
            "text/plain": [
              "136"
            ]
          },
          "metadata": {},
          "execution_count": 35
        }
      ]
    },
    {
      "cell_type": "markdown",
      "source": [
        "# Encoding hard clauses"
      ],
      "metadata": {
        "id": "55FAA32EfQJH"
      }
    },
    {
      "cell_type": "code",
      "source": [
        ""
      ],
      "metadata": {
        "id": "6lSfe_kuhhdZ"
      },
      "execution_count": null,
      "outputs": []
    },
    {
      "cell_type": "code",
      "source": [
        ""
      ],
      "metadata": {
        "id": "wnuNw9NlfqpP",
        "outputId": "c1398c49-ae32-4a95-a40b-58eb43fd2441",
        "colab": {
          "base_uri": "https://localhost:8080/",
          "height": 364
        }
      },
      "execution_count": 46,
      "outputs": [
        {
          "output_type": "error",
          "ename": "ValueError",
          "evalue": "ignored",
          "traceback": [
            "\u001b[0;31m---------------------------------------------------------------------------\u001b[0m",
            "\u001b[0;31mValueError\u001b[0m                                Traceback (most recent call last)",
            "\u001b[0;32m<ipython-input-46-e717ebe6bfe6>\u001b[0m in \u001b[0;36m<module>\u001b[0;34m()\u001b[0m\n\u001b[1;32m      3\u001b[0m \u001b[0;34m\u001b[0m\u001b[0m\n\u001b[1;32m      4\u001b[0m \u001b[0;34m\u001b[0m\u001b[0m\n\u001b[0;32m----> 5\u001b[0;31m \u001b[0mfm\u001b[0m \u001b[0;34m=\u001b[0m \u001b[0mFM\u001b[0m\u001b[0;34m(\u001b[0m\u001b[0mw\u001b[0m\u001b[0;34m,\u001b[0m\u001b[0mverbose\u001b[0m\u001b[0;34m=\u001b[0m\u001b[0;36m10\u001b[0m\u001b[0;34m)\u001b[0m\u001b[0;34m\u001b[0m\u001b[0;34m\u001b[0m\u001b[0m\n\u001b[0m\u001b[1;32m      6\u001b[0m \u001b[0mfm\u001b[0m\u001b[0;34m.\u001b[0m\u001b[0mcompute\u001b[0m\u001b[0;34m(\u001b[0m\u001b[0;34m)\u001b[0m\u001b[0;34m\u001b[0m\u001b[0;34m\u001b[0m\u001b[0m\n",
            "\u001b[0;32m/usr/local/lib/python3.7/dist-packages/pysat/examples/fm.py\u001b[0m in \u001b[0;36m__init__\u001b[0;34m(self, formula, enc, solver, verbose)\u001b[0m\n\u001b[1;32m    179\u001b[0m \u001b[0;34m\u001b[0m\u001b[0m\n\u001b[1;32m    180\u001b[0m         \u001b[0;31m# initialize SAT oracle with hard clauses only\u001b[0m\u001b[0;34m\u001b[0m\u001b[0;34m\u001b[0m\u001b[0;34m\u001b[0m\u001b[0m\n\u001b[0;32m--> 181\u001b[0;31m         \u001b[0mself\u001b[0m\u001b[0;34m.\u001b[0m\u001b[0minit\u001b[0m\u001b[0;34m(\u001b[0m\u001b[0mwith_soft\u001b[0m\u001b[0;34m=\u001b[0m\u001b[0;32mFalse\u001b[0m\u001b[0;34m)\u001b[0m\u001b[0;34m\u001b[0m\u001b[0;34m\u001b[0m\u001b[0m\n\u001b[0m\u001b[1;32m    182\u001b[0m \u001b[0;34m\u001b[0m\u001b[0m\n\u001b[1;32m    183\u001b[0m     \u001b[0;32mdef\u001b[0m \u001b[0m__enter__\u001b[0m\u001b[0;34m(\u001b[0m\u001b[0mself\u001b[0m\u001b[0;34m)\u001b[0m\u001b[0;34m:\u001b[0m\u001b[0;34m\u001b[0m\u001b[0;34m\u001b[0m\u001b[0m\n",
            "\u001b[0;32m/usr/local/lib/python3.7/dist-packages/pysat/examples/fm.py\u001b[0m in \u001b[0;36minit\u001b[0;34m(self, with_soft)\u001b[0m\n\u001b[1;32m    207\u001b[0m         \"\"\"\n\u001b[1;32m    208\u001b[0m \u001b[0;34m\u001b[0m\u001b[0m\n\u001b[0;32m--> 209\u001b[0;31m         \u001b[0mself\u001b[0m\u001b[0;34m.\u001b[0m\u001b[0moracle\u001b[0m \u001b[0;34m=\u001b[0m \u001b[0mSolver\u001b[0m\u001b[0;34m(\u001b[0m\u001b[0mname\u001b[0m\u001b[0;34m=\u001b[0m\u001b[0mself\u001b[0m\u001b[0;34m.\u001b[0m\u001b[0msolver\u001b[0m\u001b[0;34m,\u001b[0m \u001b[0mbootstrap_with\u001b[0m\u001b[0;34m=\u001b[0m\u001b[0mself\u001b[0m\u001b[0;34m.\u001b[0m\u001b[0mhard\u001b[0m\u001b[0;34m,\u001b[0m \u001b[0muse_timer\u001b[0m\u001b[0;34m=\u001b[0m\u001b[0;32mTrue\u001b[0m\u001b[0;34m)\u001b[0m\u001b[0;34m\u001b[0m\u001b[0;34m\u001b[0m\u001b[0m\n\u001b[0m\u001b[1;32m    210\u001b[0m \u001b[0;34m\u001b[0m\u001b[0m\n\u001b[1;32m    211\u001b[0m         \u001b[0;32mif\u001b[0m \u001b[0mself\u001b[0m\u001b[0;34m.\u001b[0m\u001b[0matm1\u001b[0m\u001b[0;34m:\u001b[0m  \u001b[0;31m# this check is needed at the beggining (before iteration 1)\u001b[0m\u001b[0;34m\u001b[0m\u001b[0;34m\u001b[0m\u001b[0m\n",
            "\u001b[0;32m/usr/local/lib/python3.7/dist-packages/pysat/solvers.py\u001b[0m in \u001b[0;36m__init__\u001b[0;34m(self, name, bootstrap_with, use_timer, **kwargs)\u001b[0m\n\u001b[1;32m    327\u001b[0m \u001b[0;34m\u001b[0m\u001b[0m\n\u001b[1;32m    328\u001b[0m         \u001b[0mself\u001b[0m\u001b[0;34m.\u001b[0m\u001b[0msolver\u001b[0m \u001b[0;34m=\u001b[0m \u001b[0;32mNone\u001b[0m\u001b[0;34m\u001b[0m\u001b[0;34m\u001b[0m\u001b[0m\n\u001b[0;32m--> 329\u001b[0;31m         \u001b[0mself\u001b[0m\u001b[0;34m.\u001b[0m\u001b[0mnew\u001b[0m\u001b[0;34m(\u001b[0m\u001b[0mname\u001b[0m\u001b[0;34m,\u001b[0m \u001b[0mbootstrap_with\u001b[0m\u001b[0;34m,\u001b[0m \u001b[0muse_timer\u001b[0m\u001b[0;34m,\u001b[0m \u001b[0;34m**\u001b[0m\u001b[0mkwargs\u001b[0m\u001b[0;34m)\u001b[0m\u001b[0;34m\u001b[0m\u001b[0;34m\u001b[0m\u001b[0m\n\u001b[0m\u001b[1;32m    330\u001b[0m \u001b[0;34m\u001b[0m\u001b[0m\n\u001b[1;32m    331\u001b[0m     \u001b[0;32mdef\u001b[0m \u001b[0m__enter__\u001b[0m\u001b[0;34m(\u001b[0m\u001b[0mself\u001b[0m\u001b[0;34m)\u001b[0m\u001b[0;34m:\u001b[0m\u001b[0;34m\u001b[0m\u001b[0;34m\u001b[0m\u001b[0m\n",
            "\u001b[0;32m/usr/local/lib/python3.7/dist-packages/pysat/solvers.py\u001b[0m in \u001b[0;36mnew\u001b[0;34m(self, name, bootstrap_with, use_timer, **kwargs)\u001b[0m\n\u001b[1;32m    386\u001b[0m                 \u001b[0mself\u001b[0m\u001b[0;34m.\u001b[0m\u001b[0msolver\u001b[0m \u001b[0;34m=\u001b[0m \u001b[0mMinicard\u001b[0m\u001b[0;34m(\u001b[0m\u001b[0mbootstrap_with\u001b[0m\u001b[0;34m,\u001b[0m \u001b[0muse_timer\u001b[0m\u001b[0;34m)\u001b[0m\u001b[0;34m\u001b[0m\u001b[0;34m\u001b[0m\u001b[0m\n\u001b[1;32m    387\u001b[0m             \u001b[0;32melif\u001b[0m \u001b[0mname_\u001b[0m \u001b[0;32min\u001b[0m \u001b[0mSolverNames\u001b[0m\u001b[0;34m.\u001b[0m\u001b[0mminisat22\u001b[0m\u001b[0;34m:\u001b[0m\u001b[0;34m\u001b[0m\u001b[0;34m\u001b[0m\u001b[0m\n\u001b[0;32m--> 388\u001b[0;31m                 \u001b[0mself\u001b[0m\u001b[0;34m.\u001b[0m\u001b[0msolver\u001b[0m \u001b[0;34m=\u001b[0m \u001b[0mMinisat22\u001b[0m\u001b[0;34m(\u001b[0m\u001b[0mbootstrap_with\u001b[0m\u001b[0;34m,\u001b[0m \u001b[0muse_timer\u001b[0m\u001b[0;34m)\u001b[0m\u001b[0;34m\u001b[0m\u001b[0;34m\u001b[0m\u001b[0m\n\u001b[0m\u001b[1;32m    389\u001b[0m             \u001b[0;32melif\u001b[0m \u001b[0mname_\u001b[0m \u001b[0;32min\u001b[0m \u001b[0mSolverNames\u001b[0m\u001b[0;34m.\u001b[0m\u001b[0mminisatgh\u001b[0m\u001b[0;34m:\u001b[0m\u001b[0;34m\u001b[0m\u001b[0;34m\u001b[0m\u001b[0m\n\u001b[1;32m    390\u001b[0m                 \u001b[0mself\u001b[0m\u001b[0;34m.\u001b[0m\u001b[0msolver\u001b[0m \u001b[0;34m=\u001b[0m \u001b[0mMinisatGH\u001b[0m\u001b[0;34m(\u001b[0m\u001b[0mbootstrap_with\u001b[0m\u001b[0;34m,\u001b[0m \u001b[0muse_timer\u001b[0m\u001b[0;34m)\u001b[0m\u001b[0;34m\u001b[0m\u001b[0;34m\u001b[0m\u001b[0m\n",
            "\u001b[0;32m/usr/local/lib/python3.7/dist-packages/pysat/solvers.py\u001b[0m in \u001b[0;36m__init__\u001b[0;34m(self, bootstrap_with, use_timer)\u001b[0m\n\u001b[1;32m   4503\u001b[0m         \u001b[0mself\u001b[0m\u001b[0;34m.\u001b[0m\u001b[0mstatus\u001b[0m \u001b[0;34m=\u001b[0m \u001b[0;32mNone\u001b[0m\u001b[0;34m\u001b[0m\u001b[0;34m\u001b[0m\u001b[0m\n\u001b[1;32m   4504\u001b[0m \u001b[0;34m\u001b[0m\u001b[0m\n\u001b[0;32m-> 4505\u001b[0;31m         \u001b[0mself\u001b[0m\u001b[0;34m.\u001b[0m\u001b[0mnew\u001b[0m\u001b[0;34m(\u001b[0m\u001b[0mbootstrap_with\u001b[0m\u001b[0;34m,\u001b[0m \u001b[0muse_timer\u001b[0m\u001b[0;34m)\u001b[0m\u001b[0;34m\u001b[0m\u001b[0;34m\u001b[0m\u001b[0m\n\u001b[0m\u001b[1;32m   4506\u001b[0m \u001b[0;34m\u001b[0m\u001b[0m\n\u001b[1;32m   4507\u001b[0m     \u001b[0;32mdef\u001b[0m \u001b[0m__enter__\u001b[0m\u001b[0;34m(\u001b[0m\u001b[0mself\u001b[0m\u001b[0;34m)\u001b[0m\u001b[0;34m:\u001b[0m\u001b[0;34m\u001b[0m\u001b[0;34m\u001b[0m\u001b[0m\n",
            "\u001b[0;32m/usr/local/lib/python3.7/dist-packages/pysat/solvers.py\u001b[0m in \u001b[0;36mnew\u001b[0;34m(self, bootstrap_with, use_timer)\u001b[0m\n\u001b[1;32m   4533\u001b[0m \u001b[0;34m\u001b[0m\u001b[0m\n\u001b[1;32m   4534\u001b[0m                 \u001b[0;32mfor\u001b[0m \u001b[0mclause\u001b[0m \u001b[0;32min\u001b[0m \u001b[0mbootstrap_with\u001b[0m\u001b[0;34m:\u001b[0m\u001b[0;34m\u001b[0m\u001b[0;34m\u001b[0m\u001b[0m\n\u001b[0;32m-> 4535\u001b[0;31m                     \u001b[0mself\u001b[0m\u001b[0;34m.\u001b[0m\u001b[0madd_clause\u001b[0m\u001b[0;34m(\u001b[0m\u001b[0mclause\u001b[0m\u001b[0;34m)\u001b[0m\u001b[0;34m\u001b[0m\u001b[0;34m\u001b[0m\u001b[0m\n\u001b[0m\u001b[1;32m   4536\u001b[0m \u001b[0;34m\u001b[0m\u001b[0m\n\u001b[1;32m   4537\u001b[0m             \u001b[0mself\u001b[0m\u001b[0;34m.\u001b[0m\u001b[0muse_timer\u001b[0m \u001b[0;34m=\u001b[0m \u001b[0muse_timer\u001b[0m\u001b[0;34m\u001b[0m\u001b[0;34m\u001b[0m\u001b[0m\n",
            "\u001b[0;32m/usr/local/lib/python3.7/dist-packages/pysat/solvers.py\u001b[0m in \u001b[0;36madd_clause\u001b[0;34m(self, clause, no_return)\u001b[0m\n\u001b[1;32m   4740\u001b[0m \u001b[0;34m\u001b[0m\u001b[0m\n\u001b[1;32m   4741\u001b[0m         \u001b[0;32mif\u001b[0m \u001b[0mself\u001b[0m\u001b[0;34m.\u001b[0m\u001b[0mminisat\u001b[0m\u001b[0;34m:\u001b[0m\u001b[0;34m\u001b[0m\u001b[0;34m\u001b[0m\u001b[0m\n\u001b[0;32m-> 4742\u001b[0;31m             \u001b[0mres\u001b[0m \u001b[0;34m=\u001b[0m \u001b[0mpysolvers\u001b[0m\u001b[0;34m.\u001b[0m\u001b[0mminisat22_add_cl\u001b[0m\u001b[0;34m(\u001b[0m\u001b[0mself\u001b[0m\u001b[0;34m.\u001b[0m\u001b[0mminisat\u001b[0m\u001b[0;34m,\u001b[0m \u001b[0mclause\u001b[0m\u001b[0;34m)\u001b[0m\u001b[0;34m\u001b[0m\u001b[0;34m\u001b[0m\u001b[0m\n\u001b[0m\u001b[1;32m   4743\u001b[0m \u001b[0;34m\u001b[0m\u001b[0m\n\u001b[1;32m   4744\u001b[0m             \u001b[0;32mif\u001b[0m \u001b[0mres\u001b[0m \u001b[0;34m==\u001b[0m \u001b[0;32mFalse\u001b[0m\u001b[0;34m:\u001b[0m\u001b[0;34m\u001b[0m\u001b[0;34m\u001b[0m\u001b[0m\n",
            "\u001b[0;31mValueError\u001b[0m: non-zero integer expected"
          ]
        }
      ]
    },
    {
      "cell_type": "code",
      "source": [
        "print(X)\n",
        "print(propositional_features)"
      ],
      "metadata": {
        "id": "UGb2kuQYszXx",
        "outputId": "8b07edc8-b033-4f4e-da1f-0ceb470777ce",
        "colab": {
          "base_uri": "https://localhost:8080/"
        }
      },
      "execution_count": 38,
      "outputs": [
        {
          "output_type": "stream",
          "name": "stdout",
          "text": [
            "[[ True  True False]\n",
            " [ True False False]\n",
            " [ True  True False]\n",
            " [False False False]]\n",
            "[[ 4  5  6]\n",
            " [ 7  8  9]\n",
            " [10 11 12]\n",
            " [13 14 15]]\n"
          ]
        }
      ]
    },
    {
      "cell_type": "markdown",
      "source": [
        "# Task"
      ],
      "metadata": {
        "id": "56UA6gjtyaND"
      }
    },
    {
      "cell_type": "code",
      "source": [
        "from pysat.formula import CNF\n",
        "from pysat.formula import WCNF"
      ],
      "metadata": {
        "id": "l41b0a7WzCNQ"
      },
      "execution_count": null,
      "outputs": []
    },
    {
      "cell_type": "code",
      "source": [
        "n_neurons = 3\n",
        "n_train = 3\n",
        "n_features = n_neurons\n",
        "\n",
        "assert(n_neurons % 2 == 1)  # odd number of neurons is allowed\n",
        "\n"
      ],
      "metadata": {
        "id": "n8oj3ad5z1kT"
      },
      "execution_count": null,
      "outputs": []
    },
    {
      "cell_type": "code",
      "source": [
        "print(X)\n",
        "print(Y)"
      ],
      "metadata": {
        "colab": {
          "base_uri": "https://localhost:8080/"
        },
        "id": "s4l0g4_u1HaM",
        "outputId": "322d1c24-d7a5-4c4c-c2e0-78dd409980bd"
      },
      "execution_count": null,
      "outputs": [
        {
          "output_type": "stream",
          "name": "stdout",
          "text": [
            "[[True, False, False], [False, True, False], [True, True, False]]\n",
            "[False, True, True]\n"
          ]
        }
      ]
    },
    {
      "cell_type": "code",
      "source": [
        "# wcnf = WCNF()\n",
        "\n",
        "# wcnf.append([-1, 2]) \n",
        "# wcnf.append([-2, 3])\n",
        "# wcnf.append([-3, True])\n",
        "# wcnf.append([4, True])\n",
        "\n",
        "# print(wcnf.soft)\n",
        "# print(wcnf.hard)\n",
        "# print(wcnf.wght)\n",
        "\n",
        "# fm = FM(wcnf,verbose=10)\n",
        "# fm.compute()"
      ],
      "metadata": {
        "id": "JRQogtAqzHCn"
      },
      "execution_count": null,
      "outputs": []
    },
    {
      "cell_type": "code",
      "source": [
        "# def encode_features(X):\n",
        "#     n = len(X)\n",
        "#     m = len(X[0])\n",
        "#     print(f'Shape of X: n = {n}, m = {m}')\n",
        "#     prop_features = [[i * n + j + 1 for j in range(m)] for i in range(n)]\n",
        "#     return np.array(prop_features)\n",
        "\n",
        "\n",
        "# Encoding weights\n",
        "prop_weights_indices = [i for i in range(n_neurons)]"
      ],
      "metadata": {
        "id": "xta2-dov1PTy"
      },
      "execution_count": null,
      "outputs": []
    },
    {
      "cell_type": "code",
      "source": [
        "prop_weights_indices"
      ],
      "metadata": {
        "colab": {
          "base_uri": "https://localhost:8080/"
        },
        "id": "YyCqpCYVwReF",
        "outputId": "4ed7b81c-feca-4f7f-e618-de258d734d8c"
      },
      "execution_count": null,
      "outputs": [
        {
          "output_type": "execute_result",
          "data": {
            "text/plain": [
              "[0, 1, 2]"
            ]
          },
          "metadata": {},
          "execution_count": 162
        }
      ]
    },
    {
      "cell_type": "code",
      "source": [
        "group_size = int(math.ceil(n_neurons / 2))\n",
        "assert group_size == math.floor(n_neurons / 2 + 1)"
      ],
      "metadata": {
        "id": "sYBO_qFqvIih"
      },
      "execution_count": null,
      "outputs": []
    },
    {
      "cell_type": "code",
      "source": [
        "combos = list(combinations(prop_weights_indices, group_size))\n",
        "print(combos[:3])"
      ],
      "metadata": {
        "colab": {
          "base_uri": "https://localhost:8080/"
        },
        "id": "6LMxbIF5ys3a",
        "outputId": "6fb5ef83-4a68-444c-f07e-266815b3cf7c"
      },
      "execution_count": null,
      "outputs": [
        {
          "output_type": "stream",
          "name": "stdout",
          "text": [
            "[(0, 1), (0, 2), (1, 2)]\n"
          ]
        }
      ]
    },
    {
      "cell_type": "code",
      "source": [
        "cartesian_prod = list(itertools.product(*combos))\n",
        "print(cartesian_prod)"
      ],
      "metadata": {
        "colab": {
          "base_uri": "https://localhost:8080/"
        },
        "id": "1Sb-Yjx8zPR8",
        "outputId": "0affdd94-f0e0-4e5e-ec94-7b6a26eb1cbc"
      },
      "execution_count": null,
      "outputs": [
        {
          "output_type": "stream",
          "name": "stdout",
          "text": [
            "[(0, 0, 1), (0, 0, 2), (0, 2, 1), (0, 2, 2), (1, 0, 1), (1, 0, 2), (1, 2, 1), (1, 2, 2)]\n"
          ]
        }
      ]
    },
    {
      "cell_type": "code",
      "source": [
        "clauses_cartesian_products = []\n",
        "for c in cartesian_prod:\n",
        "    print(f'Combo: {c}')\n",
        "    l = [[f'{symb}', f'~{symb}'] for symb in c]\n",
        "    l_cart_prod = list(itertools.product(*l))\n",
        "    clauses_cartesian_products += l_cart_prod\n",
        "    print(l)\n",
        "    print(l_cart_prod)"
      ],
      "metadata": {
        "colab": {
          "base_uri": "https://localhost:8080/"
        },
        "id": "VySTsESd4vJ3",
        "outputId": "10077b00-b477-48d4-d811-df062764c5b0"
      },
      "execution_count": null,
      "outputs": [
        {
          "output_type": "stream",
          "name": "stdout",
          "text": [
            "Combo: (0, 0, 1)\n",
            "[['0', '~0'], ['0', '~0'], ['1', '~1']]\n",
            "[('0', '0', '1'), ('0', '0', '~1'), ('0', '~0', '1'), ('0', '~0', '~1'), ('~0', '0', '1'), ('~0', '0', '~1'), ('~0', '~0', '1'), ('~0', '~0', '~1')]\n",
            "Combo: (0, 0, 2)\n",
            "[['0', '~0'], ['0', '~0'], ['2', '~2']]\n",
            "[('0', '0', '2'), ('0', '0', '~2'), ('0', '~0', '2'), ('0', '~0', '~2'), ('~0', '0', '2'), ('~0', '0', '~2'), ('~0', '~0', '2'), ('~0', '~0', '~2')]\n",
            "Combo: (0, 2, 1)\n",
            "[['0', '~0'], ['2', '~2'], ['1', '~1']]\n",
            "[('0', '2', '1'), ('0', '2', '~1'), ('0', '~2', '1'), ('0', '~2', '~1'), ('~0', '2', '1'), ('~0', '2', '~1'), ('~0', '~2', '1'), ('~0', '~2', '~1')]\n",
            "Combo: (0, 2, 2)\n",
            "[['0', '~0'], ['2', '~2'], ['2', '~2']]\n",
            "[('0', '2', '2'), ('0', '2', '~2'), ('0', '~2', '2'), ('0', '~2', '~2'), ('~0', '2', '2'), ('~0', '2', '~2'), ('~0', '~2', '2'), ('~0', '~2', '~2')]\n",
            "Combo: (1, 0, 1)\n",
            "[['1', '~1'], ['0', '~0'], ['1', '~1']]\n",
            "[('1', '0', '1'), ('1', '0', '~1'), ('1', '~0', '1'), ('1', '~0', '~1'), ('~1', '0', '1'), ('~1', '0', '~1'), ('~1', '~0', '1'), ('~1', '~0', '~1')]\n",
            "Combo: (1, 0, 2)\n",
            "[['1', '~1'], ['0', '~0'], ['2', '~2']]\n",
            "[('1', '0', '2'), ('1', '0', '~2'), ('1', '~0', '2'), ('1', '~0', '~2'), ('~1', '0', '2'), ('~1', '0', '~2'), ('~1', '~0', '2'), ('~1', '~0', '~2')]\n",
            "Combo: (1, 2, 1)\n",
            "[['1', '~1'], ['2', '~2'], ['1', '~1']]\n",
            "[('1', '2', '1'), ('1', '2', '~1'), ('1', '~2', '1'), ('1', '~2', '~1'), ('~1', '2', '1'), ('~1', '2', '~1'), ('~1', '~2', '1'), ('~1', '~2', '~1')]\n",
            "Combo: (1, 2, 2)\n",
            "[['1', '~1'], ['2', '~2'], ['2', '~2']]\n",
            "[('1', '2', '2'), ('1', '2', '~2'), ('1', '~2', '2'), ('1', '~2', '~2'), ('~1', '2', '2'), ('~1', '2', '~2'), ('~1', '~2', '2'), ('~1', '~2', '~2')]\n"
          ]
        }
      ]
    },
    {
      "cell_type": "code",
      "source": [
        "clauses_cartesian_products"
      ],
      "metadata": {
        "colab": {
          "base_uri": "https://localhost:8080/"
        },
        "id": "evAlDjEjSgpO",
        "outputId": "c98316c2-62ec-4f05-fbc3-bb4ee935ddd7"
      },
      "execution_count": null,
      "outputs": [
        {
          "output_type": "execute_result",
          "data": {
            "text/plain": [
              "[('0', '0', '1'),\n",
              " ('0', '0', '~1'),\n",
              " ('0', '~0', '1'),\n",
              " ('0', '~0', '~1'),\n",
              " ('~0', '0', '1'),\n",
              " ('~0', '0', '~1'),\n",
              " ('~0', '~0', '1'),\n",
              " ('~0', '~0', '~1'),\n",
              " ('0', '0', '2'),\n",
              " ('0', '0', '~2'),\n",
              " ('0', '~0', '2'),\n",
              " ('0', '~0', '~2'),\n",
              " ('~0', '0', '2'),\n",
              " ('~0', '0', '~2'),\n",
              " ('~0', '~0', '2'),\n",
              " ('~0', '~0', '~2'),\n",
              " ('0', '2', '1'),\n",
              " ('0', '2', '~1'),\n",
              " ('0', '~2', '1'),\n",
              " ('0', '~2', '~1'),\n",
              " ('~0', '2', '1'),\n",
              " ('~0', '2', '~1'),\n",
              " ('~0', '~2', '1'),\n",
              " ('~0', '~2', '~1'),\n",
              " ('0', '2', '2'),\n",
              " ('0', '2', '~2'),\n",
              " ('0', '~2', '2'),\n",
              " ('0', '~2', '~2'),\n",
              " ('~0', '2', '2'),\n",
              " ('~0', '2', '~2'),\n",
              " ('~0', '~2', '2'),\n",
              " ('~0', '~2', '~2'),\n",
              " ('1', '0', '1'),\n",
              " ('1', '0', '~1'),\n",
              " ('1', '~0', '1'),\n",
              " ('1', '~0', '~1'),\n",
              " ('~1', '0', '1'),\n",
              " ('~1', '0', '~1'),\n",
              " ('~1', '~0', '1'),\n",
              " ('~1', '~0', '~1'),\n",
              " ('1', '0', '2'),\n",
              " ('1', '0', '~2'),\n",
              " ('1', '~0', '2'),\n",
              " ('1', '~0', '~2'),\n",
              " ('~1', '0', '2'),\n",
              " ('~1', '0', '~2'),\n",
              " ('~1', '~0', '2'),\n",
              " ('~1', '~0', '~2'),\n",
              " ('1', '2', '1'),\n",
              " ('1', '2', '~1'),\n",
              " ('1', '~2', '1'),\n",
              " ('1', '~2', '~1'),\n",
              " ('~1', '2', '1'),\n",
              " ('~1', '2', '~1'),\n",
              " ('~1', '~2', '1'),\n",
              " ('~1', '~2', '~1'),\n",
              " ('1', '2', '2'),\n",
              " ('1', '2', '~2'),\n",
              " ('1', '~2', '2'),\n",
              " ('1', '~2', '~2'),\n",
              " ('~1', '2', '2'),\n",
              " ('~1', '2', '~2'),\n",
              " ('~1', '~2', '2'),\n",
              " ('~1', '~2', '~2')]"
            ]
          },
          "metadata": {},
          "execution_count": 167
        }
      ]
    },
    {
      "cell_type": "code",
      "source": [
        "import numpy as np\n",
        "\n",
        "print(len(clauses_cartesian_products))\n",
        "len(np.unique(clauses_cartesian_products))\n",
        "len(set(clauses_cartesian_products))"
      ],
      "metadata": {
        "colab": {
          "base_uri": "https://localhost:8080/"
        },
        "id": "KtSX0TgSS59m",
        "outputId": "861ea71f-d537-4bbe-abc8-a5e5e45b1020"
      },
      "execution_count": null,
      "outputs": [
        {
          "output_type": "stream",
          "name": "stdout",
          "text": [
            "64\n"
          ]
        },
        {
          "output_type": "execute_result",
          "data": {
            "text/plain": [
              "64"
            ]
          },
          "metadata": {},
          "execution_count": 168
        }
      ]
    },
    {
      "cell_type": "code",
      "source": [
        "def encode_prop_features(X):\n",
        "    n = len(X)\n",
        "    m = len(X[0])\n",
        "    prop_features = []\n",
        "    for i in range(n):\n",
        "        vals = [i * n + j + len(prop_weights_indices) for j in range(m)]\n",
        "        prop_features.append(vals)\n",
        "    \n",
        "\n",
        "    for i in range(n):\n",
        "        for j in range(m):\n",
        "            print(f'X[{i}][{j}] is encoded as {prop_features[i][j]}')\n",
        "\n",
        "    return prop_features\n",
        "\n",
        "prop_features = encode_prop_features(X)\n",
        "print(prop_features)"
      ],
      "metadata": {
        "colab": {
          "base_uri": "https://localhost:8080/"
        },
        "id": "0abCqDn2YPTk",
        "outputId": "b7747714-b4b3-475e-e282-fc0a42ffb5f7"
      },
      "execution_count": null,
      "outputs": [
        {
          "output_type": "stream",
          "name": "stdout",
          "text": [
            "X[0][0] is encoded as 3\n",
            "X[0][1] is encoded as 4\n",
            "X[0][2] is encoded as 5\n",
            "X[1][0] is encoded as 6\n",
            "X[1][1] is encoded as 7\n",
            "X[1][2] is encoded as 8\n",
            "X[2][0] is encoded as 9\n",
            "X[2][1] is encoded as 10\n",
            "X[2][2] is encoded as 11\n",
            "[[3, 4, 5], [6, 7, 8], [9, 10, 11]]\n"
          ]
        }
      ]
    },
    {
      "cell_type": "code",
      "source": [
        "unique = [1, 2]\n",
        "print(get_combinations(unique))"
      ],
      "metadata": {
        "colab": {
          "base_uri": "https://localhost:8080/"
        },
        "id": "ut4YDio3wXvC",
        "outputId": "76abbd0c-723b-41e2-ad1d-4be718efd6e4"
      },
      "execution_count": null,
      "outputs": [
        {
          "output_type": "stream",
          "name": "stdout",
          "text": [
            "[('w 1', 'x 1', 'w 2', 'x 2'), ('w 1', 'x 1', 'w 2', '~x 2'), ('w 1', 'x 1', '~w 2', 'x 2'), ('w 1', 'x 1', '~w 2', '~x 2'), ('w 1', '~x 1', 'w 2', 'x 2'), ('w 1', '~x 1', 'w 2', '~x 2'), ('w 1', '~x 1', '~w 2', 'x 2'), ('w 1', '~x 1', '~w 2', '~x 2'), ('~w 1', 'x 1', 'w 2', 'x 2'), ('~w 1', 'x 1', 'w 2', '~x 2'), ('~w 1', 'x 1', '~w 2', 'x 2'), ('~w 1', 'x 1', '~w 2', '~x 2'), ('~w 1', '~x 1', 'w 2', 'x 2'), ('~w 1', '~x 1', 'w 2', '~x 2'), ('~w 1', '~x 1', '~w 2', 'x 2'), ('~w 1', '~x 1', '~w 2', '~x 2')]\n"
          ]
        }
      ]
    },
    {
      "cell_type": "code",
      "source": [
        "clauses_cartesian_products"
      ],
      "metadata": {
        "id": "VC6jXofpLj-g",
        "outputId": "b1f00bd7-30e6-42cc-8f29-3dadfd2d23d3",
        "colab": {
          "base_uri": "https://localhost:8080/"
        }
      },
      "execution_count": null,
      "outputs": [
        {
          "output_type": "execute_result",
          "data": {
            "text/plain": [
              "[('0', '0', '1'),\n",
              " ('0', '0', '~1'),\n",
              " ('0', '~0', '1'),\n",
              " ('0', '~0', '~1'),\n",
              " ('~0', '0', '1'),\n",
              " ('~0', '0', '~1'),\n",
              " ('~0', '~0', '1'),\n",
              " ('~0', '~0', '~1'),\n",
              " ('0', '0', '2'),\n",
              " ('0', '0', '~2'),\n",
              " ('0', '~0', '2'),\n",
              " ('0', '~0', '~2'),\n",
              " ('~0', '0', '2'),\n",
              " ('~0', '0', '~2'),\n",
              " ('~0', '~0', '2'),\n",
              " ('~0', '~0', '~2'),\n",
              " ('0', '2', '1'),\n",
              " ('0', '2', '~1'),\n",
              " ('0', '~2', '1'),\n",
              " ('0', '~2', '~1'),\n",
              " ('~0', '2', '1'),\n",
              " ('~0', '2', '~1'),\n",
              " ('~0', '~2', '1'),\n",
              " ('~0', '~2', '~1'),\n",
              " ('0', '2', '2'),\n",
              " ('0', '2', '~2'),\n",
              " ('0', '~2', '2'),\n",
              " ('0', '~2', '~2'),\n",
              " ('~0', '2', '2'),\n",
              " ('~0', '2', '~2'),\n",
              " ('~0', '~2', '2'),\n",
              " ('~0', '~2', '~2'),\n",
              " ('1', '0', '1'),\n",
              " ('1', '0', '~1'),\n",
              " ('1', '~0', '1'),\n",
              " ('1', '~0', '~1'),\n",
              " ('~1', '0', '1'),\n",
              " ('~1', '0', '~1'),\n",
              " ('~1', '~0', '1'),\n",
              " ('~1', '~0', '~1'),\n",
              " ('1', '0', '2'),\n",
              " ('1', '0', '~2'),\n",
              " ('1', '~0', '2'),\n",
              " ('1', '~0', '~2'),\n",
              " ('~1', '0', '2'),\n",
              " ('~1', '0', '~2'),\n",
              " ('~1', '~0', '2'),\n",
              " ('~1', '~0', '~2'),\n",
              " ('1', '2', '1'),\n",
              " ('1', '2', '~1'),\n",
              " ('1', '~2', '1'),\n",
              " ('1', '~2', '~1'),\n",
              " ('~1', '2', '1'),\n",
              " ('~1', '2', '~1'),\n",
              " ('~1', '~2', '1'),\n",
              " ('~1', '~2', '~1'),\n",
              " ('1', '2', '2'),\n",
              " ('1', '2', '~2'),\n",
              " ('1', '~2', '2'),\n",
              " ('1', '~2', '~2'),\n",
              " ('~1', '2', '2'),\n",
              " ('~1', '2', '~2'),\n",
              " ('~1', '~2', '2'),\n",
              " ('~1', '~2', '~2')]"
            ]
          },
          "metadata": {},
          "execution_count": 176
        }
      ]
    },
    {
      "cell_type": "code",
      "source": [
        "def get_combinations(unique_combo):\n",
        "    ws_and_xs = []\n",
        "    for numb in unique_combo:\n",
        "        ws_and_xs.append(f'w {numb}')\n",
        "        ws_and_xs.append(f'x {numb}')\n",
        "    \n",
        "    ws_and_xs = [[f'{symb}', f'~{symb}'] for symb in ws_and_xs]\n",
        "    return list(itertools.product(*ws_and_xs))\n",
        "\n",
        "def construct_clause_positive(unique_clause_symbols, ):\n",
        "    clause = []\n",
        "    # '1' signifies ~w1 V x_i1\n",
        "    # '~1' signifies w1 V ~x_i1\n",
        "    for symbol in unique_clause_symbols:  # ('0', '~2', '1')\n",
        "        if not '~' in symbol:\n",
        "            # then (e.f. for '1') its not(w_1) V (x_i1)\n",
        "            index = int(symbol)\n",
        "            clause.append(-prop_weights_indices[index])\n",
        "            clause.append(prop_features[i][index])\n",
        "        elif '~' in symbol:\n",
        "            # then (e.f. for '1') its (w_1) V not(x_i1)\n",
        "            symbol = symbol.replace('~', '')\n",
        "            index = int(symbol)\n",
        "            clause.append(prop_weights_indices[index])\n",
        "            clause.append(-prop_features[i][index])\n",
        "    optimized_clause = list(set(clause))\n",
        "    return optimized_clause\n",
        "    \n",
        "def construct_clause_negative(unique_combo):\n",
        "    all_combinations = get_combinations(unique_combo)\n",
        "\n",
        "    clauses = []\n",
        "    for combination in all_combinations:\n",
        "        clause = []\n",
        "        for symbol in combination:\n",
        "            x_or_w, number = symbol.split(' ')[0], int(symbol.split(' ')[1])\n",
        "            if x_or_w == 'w':\n",
        "                clause.append(prop_weights_indices[number])\n",
        "            if x_or_w == '~w':\n",
        "                clause.append(-prop_weights_indices[number])\n",
        "            if x_or_w == 'x':\n",
        "                clause.append(prop_features[i][number])\n",
        "            if x_or_w == '~x':\n",
        "                clause.append(-prop_features[i][number])\n",
        "        clauses.append(clause)\n",
        "    return clauses\n",
        "\n",
        "\n",
        "wcnf = WCNF()\n",
        "for i in range(len(X)):\n",
        "    if Y[i] is True:\n",
        "        for c in clauses_cartesian_products:\n",
        "            # ('0', '0', '~1')\n",
        "            # Here we optimize - we dont need to add identical clauses\n",
        "            unique_clause_symbols = set(c)  # ('0', '0', '1') --> ('0', '1')\n",
        "            \n",
        "            # print(set(c), c)\n",
        "            clause = construct_clause_positive(unique_clause_symbols)\n",
        "            wcnf.append(clause, weight = 1)\n",
        "            # print(f'Our clause: {clause}')\n",
        "    \n",
        "    elif Y[i] is False:\n",
        "        # print(f'Y is false')\n",
        "        for c in cartesian_prod: # (1, 2) (2, 3) (1, 3) --> (1, 2, 1), (1, 2, 3), (1, 3, 1), ...\n",
        "            # print(f'combo: {c}')\n",
        "            unique_combo = set(c)  # (1, 2) --> [(~w1 & x_i1) V (w1 & ~x_i1)] V [(~w2 & x_i2) V (w2 & ~x_i2)]\n",
        "            # print(f'unique combo: {set(unique_combo)}')\n",
        "\n",
        "            clauses = construct_clause_negative(unique_combo)\n",
        "            for c in clauses:\n",
        "                wcnf.append(c, weight = 1)\n",
        "    # print(clause)\n",
        "    "
      ],
      "metadata": {
        "id": "gtzOzy4eUFhR"
      },
      "execution_count": null,
      "outputs": []
    },
    {
      "cell_type": "code",
      "source": [
        "get_combinations([0, 1])"
      ],
      "metadata": {
        "id": "JVbJkaf-ORyY",
        "outputId": "94427096-d3e9-4fb5-98a9-f157448cd11b",
        "colab": {
          "base_uri": "https://localhost:8080/"
        }
      },
      "execution_count": null,
      "outputs": [
        {
          "output_type": "execute_result",
          "data": {
            "text/plain": [
              "[('w 0', 'x 0', 'w 1', 'x 1'),\n",
              " ('w 0', 'x 0', 'w 1', '~x 1'),\n",
              " ('w 0', 'x 0', '~w 1', 'x 1'),\n",
              " ('w 0', 'x 0', '~w 1', '~x 1'),\n",
              " ('w 0', '~x 0', 'w 1', 'x 1'),\n",
              " ('w 0', '~x 0', 'w 1', '~x 1'),\n",
              " ('w 0', '~x 0', '~w 1', 'x 1'),\n",
              " ('w 0', '~x 0', '~w 1', '~x 1'),\n",
              " ('~w 0', 'x 0', 'w 1', 'x 1'),\n",
              " ('~w 0', 'x 0', 'w 1', '~x 1'),\n",
              " ('~w 0', 'x 0', '~w 1', 'x 1'),\n",
              " ('~w 0', 'x 0', '~w 1', '~x 1'),\n",
              " ('~w 0', '~x 0', 'w 1', 'x 1'),\n",
              " ('~w 0', '~x 0', 'w 1', '~x 1'),\n",
              " ('~w 0', '~x 0', '~w 1', 'x 1'),\n",
              " ('~w 0', '~x 0', '~w 1', '~x 1')]"
            ]
          },
          "metadata": {},
          "execution_count": 186
        }
      ]
    },
    {
      "cell_type": "code",
      "source": [
        "construct_clause_negative([0, 1])"
      ],
      "metadata": {
        "id": "iIEsGiT_OLgB",
        "outputId": "1385ca24-fc52-4edb-ae4a-89dd4dbfeb84",
        "colab": {
          "base_uri": "https://localhost:8080/"
        }
      },
      "execution_count": null,
      "outputs": [
        {
          "output_type": "execute_result",
          "data": {
            "text/plain": [
              "[[0, 3, 1, 4],\n",
              " [0, 3, 1, -4],\n",
              " [0, 3, -1, 4],\n",
              " [0, 3, -1, -4],\n",
              " [0, -3, 1, 4],\n",
              " [0, -3, 1, -4],\n",
              " [0, -3, -1, 4],\n",
              " [0, -3, -1, -4],\n",
              " [0, 3, 1, 4],\n",
              " [0, 3, 1, -4],\n",
              " [0, 3, -1, 4],\n",
              " [0, 3, -1, -4],\n",
              " [0, -3, 1, 4],\n",
              " [0, -3, 1, -4],\n",
              " [0, -3, -1, 4],\n",
              " [0, -3, -1, -4]]"
            ]
          },
          "metadata": {},
          "execution_count": 185
        }
      ]
    },
    {
      "cell_type": "code",
      "source": [
        "cartesian_prod"
      ],
      "metadata": {
        "id": "4wsS8autMiaV",
        "outputId": "79ef2b4e-a184-4615-a746-30bf16068bf8",
        "colab": {
          "base_uri": "https://localhost:8080/"
        }
      },
      "execution_count": null,
      "outputs": [
        {
          "output_type": "execute_result",
          "data": {
            "text/plain": [
              "[(0, 0, 1),\n",
              " (0, 0, 2),\n",
              " (0, 2, 1),\n",
              " (0, 2, 2),\n",
              " (1, 0, 1),\n",
              " (1, 0, 2),\n",
              " (1, 2, 1),\n",
              " (1, 2, 2)]"
            ]
          },
          "metadata": {},
          "execution_count": 179
        }
      ]
    },
    {
      "cell_type": "code",
      "source": [
        "len(wcnf.soft)"
      ],
      "metadata": {
        "id": "m2Z6wIjq9bFa",
        "outputId": "6edab176-1da2-4871-a857-ab8c7834fe85",
        "colab": {
          "base_uri": "https://localhost:8080/"
        }
      },
      "execution_count": null,
      "outputs": [
        {
          "output_type": "execute_result",
          "data": {
            "text/plain": [
              "352"
            ]
          },
          "metadata": {},
          "execution_count": 189
        }
      ]
    },
    {
      "cell_type": "code",
      "source": [
        "# Weighted CNF form\n",
        "wcnf = WCNF()\n",
        "\n",
        "\n",
        "for x, y in zip(X, Y):\n",
        "    print(f'Encoding x = {x}, y = {y}')\n",
        "    \n",
        "    # At that step, we have combinations of weight indices\n",
        "    # For example, for 3 weights\n",
        "    # [(w0 == x_i0) & (w1 == x_i1)] V [(w0 == x_i0) & (w2 == x_i2)] V [(w1 == x_i1) & (w2 == x_i2)]\n",
        "\n",
        "    # Each combination in cartesian_prod(w_combinations) - is a special clause:\n",
        "    # For example, for n_weights == 3, after cartesian product, all combinations:\n",
        "    # (001) (002) (021) (022) (101) (102) (121) (122)\n",
        "    # Which means (for the first clause (001)):\n",
        "    # (w_0 == x_i0) | (w_0 == x_i0) | (w_1 == x_i1)\n",
        "\n",
        "    # However, we still did not expand the equivalence (==):\n",
        "    # [(~w_0 V x_i0) & (w_0 V ~x_i0)] V [(~w_0 V x_i0) & (w_0 V ~x_i0)] V [(~w_1 V x_i1) & (w_1 V ~x_i1)]\n",
        "\n",
        "    # And this also has to be transformed into CNF:\n",
        "    # Do substitution:\n",
        "    # [(0) & (~0)] V [(0) & (~0)] V [(1) & (~1)]\n",
        "    # Where 0: ~w_0 V x_i0, ~0: w_0 V ~x_i0\n",
        "    # We have to transfer (001) -> [[0, ~0], [0, ~0], [1, ~1]] and make a cartesian product of it\n",
        "\n",
        "    \n",
        "\n",
        "    \n",
        "\n",
        "    # for w_combination in combinations(propositional_weights, group_size):\n",
        "    #     # print(c, c[0], c[1])\n",
        "    #     # print(propositional_weights.index(c[0]), propositional_weights.index(c[1]))\n",
        "    #     print(f'weight combination = {w_combination}')\n",
        "        \n",
        "    #     for weight in w_combination:\n",
        "    #         # index of weight --> the same as index of feature of current object x_i in the X dataset\n",
        "    #         w_index = propositional_weights.index(weight)\n",
        "    #         x_feature = x[w_index]\n",
        "    #         print(f'w_{w_index}, x_j = {x_feature}')\n",
        "\n",
        "    #         # Our clause is - weight == x_feature (equivalence)\n",
        "    #         # which is (not(weight) V x_feature) and (not(x_feature) V weight)\n",
        "            \n",
        "    #         first_clause = [-weight, x_feature]\n",
        "    #         second_clause = [weight, -x_feature]\n",
        "    #         wcnf.append\n",
        "\n"
      ],
      "metadata": {
        "colab": {
          "base_uri": "https://localhost:8080/",
          "height": 235
        },
        "id": "Y4v7HDWxEW2-",
        "outputId": "6138711e-c6c7-4abe-cb13-6e823f19ba8e"
      },
      "execution_count": null,
      "outputs": [
        {
          "output_type": "error",
          "ename": "NameError",
          "evalue": "ignored",
          "traceback": [
            "\u001b[0;31m---------------------------------------------------------------------------\u001b[0m",
            "\u001b[0;31mNameError\u001b[0m                                 Traceback (most recent call last)",
            "\u001b[0;32m<ipython-input-18-8f4372190860>\u001b[0m in \u001b[0;36m<module>\u001b[0;34m()\u001b[0m\n\u001b[1;32m      1\u001b[0m \u001b[0;31m# Weighted CNF form\u001b[0m\u001b[0;34m\u001b[0m\u001b[0;34m\u001b[0m\u001b[0;34m\u001b[0m\u001b[0m\n\u001b[1;32m      2\u001b[0m \u001b[0mwcnf\u001b[0m \u001b[0;34m=\u001b[0m \u001b[0mWCNF\u001b[0m\u001b[0;34m(\u001b[0m\u001b[0;34m)\u001b[0m\u001b[0;34m\u001b[0m\u001b[0;34m\u001b[0m\u001b[0m\n\u001b[0;32m----> 3\u001b[0;31m \u001b[0mcombos\u001b[0m \u001b[0;34m=\u001b[0m \u001b[0mlist\u001b[0m\u001b[0;34m(\u001b[0m\u001b[0mcombinations\u001b[0m\u001b[0;34m(\u001b[0m\u001b[0mpropositional_weights\u001b[0m\u001b[0;34m,\u001b[0m \u001b[0mgroup_size\u001b[0m\u001b[0;34m)\u001b[0m\u001b[0;34m)\u001b[0m\u001b[0;34m\u001b[0m\u001b[0;34m\u001b[0m\u001b[0m\n\u001b[0m\u001b[1;32m      4\u001b[0m \u001b[0;34m\u001b[0m\u001b[0m\n\u001b[1;32m      5\u001b[0m \u001b[0;32mfor\u001b[0m \u001b[0mx\u001b[0m\u001b[0;34m,\u001b[0m \u001b[0my\u001b[0m \u001b[0;32min\u001b[0m \u001b[0mzip\u001b[0m\u001b[0;34m(\u001b[0m\u001b[0mX\u001b[0m\u001b[0;34m,\u001b[0m \u001b[0mY\u001b[0m\u001b[0;34m)\u001b[0m\u001b[0;34m:\u001b[0m\u001b[0;34m\u001b[0m\u001b[0;34m\u001b[0m\u001b[0m\n",
            "\u001b[0;31mNameError\u001b[0m: name 'propositional_weights' is not defined"
          ]
        }
      ]
    },
    {
      "cell_type": "code",
      "source": [
        ""
      ],
      "metadata": {
        "id": "EuA3W7WG1wdW"
      },
      "execution_count": null,
      "outputs": []
    },
    {
      "cell_type": "code",
      "source": [
        "# No hard clauses are introduced.\n",
        "# Soft clauses - have weight 1, if the prediction of the network is correct\n",
        "# for a given instance (x_i, y_i) in a dataset"
      ],
      "metadata": {
        "id": "ib6roIks1ykc"
      },
      "execution_count": null,
      "outputs": []
    },
    {
      "cell_type": "code",
      "source": [
        "# Encode this into clauses\n",
        "for x_i, y_i in zip(X, Y):\n",
        "    print(f'Encoding x_i = {x_i}, y_i = {y_i}')\n",
        "    "
      ],
      "metadata": {
        "colab": {
          "base_uri": "https://localhost:8080/"
        },
        "id": "CTt9iMs_2CQT",
        "outputId": "6de82277-f8c2-488c-9bd6-f1957f3c4dbe"
      },
      "execution_count": null,
      "outputs": [
        {
          "output_type": "stream",
          "name": "stdout",
          "text": [
            "Encoding x_i = [True, False, False], y_i = False\n",
            "Encoding x_i = [False, True, False], y_i = True\n",
            "Encoding x_i = [True, True, False], y_i = True\n"
          ]
        }
      ]
    },
    {
      "cell_type": "code",
      "source": [
        ""
      ],
      "metadata": {
        "id": "HVg9nRUf3ati"
      },
      "execution_count": null,
      "outputs": []
    }
  ]
}