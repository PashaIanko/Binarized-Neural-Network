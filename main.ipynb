{
  "nbformat": 4,
  "nbformat_minor": 0,
  "metadata": {
    "colab": {
      "name": "KDM project.ipynb",
      "provenance": []
    },
    "kernelspec": {
      "name": "python3",
      "display_name": "Python 3"
    },
    "language_info": {
      "name": "python"
    }
  },
  "cells": [
    {
      "cell_type": "code",
      "source": [
        "from sympy.logic.boolalg import to_cnf\n",
        "from sympy.abc import A, B, C, D, E, F, G, H\n",
        "\n",
        "\n",
        "to_cnf((A & B) | (C & D) | (E & F))\n",
        "# to_cnf((A & B) | (C & D) | (E & F) | (G & H))\n",
        "# to_cnf((A & B & C) | (D & E & F))"
      ],
      "metadata": {
        "colab": {
          "base_uri": "https://localhost:8080/",
          "height": 39
        },
        "id": "36kQYuZNpElx",
        "outputId": "13a74d38-6ecc-4660-f645-d4ab0578e2bb"
      },
      "execution_count": 11,
      "outputs": [
        {
          "output_type": "execute_result",
          "data": {
            "text/plain": [
              "(A | C | E) & (A | C | F) & (A | D | E) & (A | D | F) & (B | C | E) & (B | C | F) & (B | D | E) & (B | D | F)"
            ],
            "text/latex": "$\\displaystyle \\left(A \\vee C \\vee E\\right) \\wedge \\left(A \\vee C \\vee F\\right) \\wedge \\left(A \\vee D \\vee E\\right) \\wedge \\left(A \\vee D \\vee F\\right) \\wedge \\left(B \\vee C \\vee E\\right) \\wedge \\left(B \\vee C \\vee F\\right) \\wedge \\left(B \\vee D \\vee E\\right) \\wedge \\left(B \\vee D \\vee F\\right)$"
          },
          "metadata": {},
          "execution_count": 11
        }
      ]
    },
    {
      "cell_type": "code",
      "source": [
        "from sympy import *"
      ],
      "metadata": {
        "id": "MxV1qVAAjlIt"
      },
      "execution_count": null,
      "outputs": []
    },
    {
      "cell_type": "code",
      "source": [
        "x, y = symbols('x, y')"
      ],
      "metadata": {
        "id": "6hk_hndQjohC"
      },
      "execution_count": null,
      "outputs": []
    },
    {
      "cell_type": "code",
      "source": [
        "x, y"
      ],
      "metadata": {
        "colab": {
          "base_uri": "https://localhost:8080/"
        },
        "id": "B6sSn7fLjt_N",
        "outputId": "6c21add3-8947-4f36-8ff5-11b776af3791"
      },
      "execution_count": null,
      "outputs": [
        {
          "output_type": "execute_result",
          "data": {
            "text/plain": [
              "(x, y)"
            ]
          },
          "metadata": {},
          "execution_count": 3
        }
      ]
    },
    {
      "cell_type": "code",
      "source": [
        "x | y"
      ],
      "metadata": {
        "colab": {
          "base_uri": "https://localhost:8080/",
          "height": 39
        },
        "id": "_tEIWySsjv0J",
        "outputId": "5cf82527-55a4-450d-fa8a-6ee5e7947c2b"
      },
      "execution_count": null,
      "outputs": [
        {
          "output_type": "execute_result",
          "data": {
            "text/plain": [
              "x | y"
            ],
            "text/latex": "$\\displaystyle x \\vee y$"
          },
          "metadata": {},
          "execution_count": 5
        }
      ]
    },
    {
      "cell_type": "code",
      "source": [
        "form = to_cnf(~(x | y) | x)"
      ],
      "metadata": {
        "id": "WTCrLhz0j89Y"
      },
      "execution_count": null,
      "outputs": []
    },
    {
      "cell_type": "code",
      "source": [
        "form"
      ],
      "metadata": {
        "colab": {
          "base_uri": "https://localhost:8080/",
          "height": 39
        },
        "id": "ZwzGYtj7kCYX",
        "outputId": "4634d724-8bf9-494e-bdcc-1ea5a5a9df8c"
      },
      "execution_count": null,
      "outputs": [
        {
          "output_type": "execute_result",
          "data": {
            "text/plain": [
              "(x | ~x) & (x | ~y)"
            ],
            "text/latex": "$\\displaystyle \\left(x \\vee \\neg x\\right) \\wedge \\left(x \\vee \\neg y\\right)$"
          },
          "metadata": {},
          "execution_count": 9
        }
      ]
    },
    {
      "cell_type": "code",
      "source": [
        "w1, w2, w3, x1, x2, x3 = symbols('w1, w2, w3, x1, x2, x3')"
      ],
      "metadata": {
        "id": "6FXZjadqkTQu"
      },
      "execution_count": null,
      "outputs": []
    },
    {
      "cell_type": "code",
      "source": [
        "to_cnf(w1 & x1 | x2 | w3)"
      ],
      "metadata": {
        "colab": {
          "base_uri": "https://localhost:8080/",
          "height": 39
        },
        "id": "sWLQZ_QLkb7c",
        "outputId": "2580de70-d508-4b3d-9da7-dc07533b49f3"
      },
      "execution_count": null,
      "outputs": [
        {
          "output_type": "execute_result",
          "data": {
            "text/plain": [
              "w3 | x1 | x2"
            ],
            "text/latex": "$\\displaystyle w_{3} \\vee x_{1} \\vee x_{2}$"
          },
          "metadata": {},
          "execution_count": 16
        }
      ]
    },
    {
      "cell_type": "code",
      "source": [
        "!pip install python-sat"
      ],
      "metadata": {
        "colab": {
          "base_uri": "https://localhost:8080/"
        },
        "id": "qmIq0duBhPyO",
        "outputId": "0b548dca-13f1-4844-ce2e-32066e8c81be"
      },
      "execution_count": null,
      "outputs": [
        {
          "output_type": "stream",
          "name": "stdout",
          "text": [
            "Collecting python-sat\n",
            "  Downloading python_sat-0.1.7.dev16-cp37-cp37m-manylinux2010_x86_64.whl (1.8 MB)\n",
            "\u001b[K     |████████████████████████████████| 1.8 MB 5.1 MB/s \n",
            "\u001b[?25hRequirement already satisfied: six in /usr/local/lib/python3.7/dist-packages (from python-sat) (1.15.0)\n",
            "Installing collected packages: python-sat\n",
            "Successfully installed python-sat-0.1.7.dev16\n"
          ]
        }
      ]
    },
    {
      "cell_type": "code",
      "execution_count": null,
      "metadata": {
        "colab": {
          "base_uri": "https://localhost:8080/"
        },
        "id": "02nIAN4rhLsB",
        "outputId": "9b1286a9-5244-4118-dfd1-3fc7df070318"
      },
      "outputs": [
        {
          "output_type": "stream",
          "name": "stdout",
          "text": [
            "[[  0.    1.    0.7   0.    0.2]\n",
            " [  1.    0.    4.   -7.   -5. ]\n",
            " [  0.7   4.    0.  100.    0. ]\n",
            " [  0.   -7.  100.    0.   -3. ]\n",
            " [  0.2  -5.    0.   -3.    0. ]]\n",
            "N = 5\n",
            "log(N) = 3\n",
            "b(0,0) is encoded in 1\n",
            "b(0,1) is encoded in 2\n",
            "b(0,2) is encoded in 3\n",
            "b(1,0) is encoded in 4\n",
            "b(1,1) is encoded in 5\n",
            "b(1,2) is encoded in 6\n",
            "b(2,0) is encoded in 7\n",
            "b(2,1) is encoded in 8\n",
            "b(2,2) is encoded in 9\n",
            "b(3,0) is encoded in 10\n",
            "b(3,1) is encoded in 11\n",
            "b(3,2) is encoded in 12\n",
            "b(4,0) is encoded in 13\n",
            "b(4,1) is encoded in 14\n",
            "b(4,2) is encoded in 15\n",
            "T(0,0) is encoded in 16\n",
            "T(0,1) is encoded in 17\n",
            "T(0,2) is encoded in 18\n",
            "T(0,3) is encoded in 19\n",
            "T(0,4) is encoded in 20\n",
            "T(1,0) is encoded in 21\n",
            "T(1,1) is encoded in 22\n",
            "T(1,2) is encoded in 23\n",
            "T(1,3) is encoded in 24\n",
            "T(1,4) is encoded in 25\n",
            "T(2,0) is encoded in 26\n",
            "T(2,1) is encoded in 27\n",
            "T(2,2) is encoded in 28\n",
            "T(2,3) is encoded in 29\n",
            "T(2,4) is encoded in 30\n",
            "T(3,0) is encoded in 31\n",
            "T(3,1) is encoded in 32\n",
            "T(3,2) is encoded in 33\n",
            "T(3,3) is encoded in 34\n",
            "T(3,4) is encoded in 35\n",
            "T(4,0) is encoded in 36\n",
            "T(4,1) is encoded in 37\n",
            "T(4,2) is encoded in 38\n",
            "T(4,3) is encoded in 39\n",
            "T(4,4) is encoded in 40\n",
            "c cost: 4.0; core sz: 3\n",
            "c cost: 4.2; core sz: 3\n",
            "c cost: 4.4; core sz: 3\n",
            "c cost: 7.4; core sz: 4\n",
            "c cost: 8.4; core sz: 3\n",
            "c cost: 9.0; core sz: 4\n",
            "c cost: 9.1; core sz: 9\n",
            "c cost: 9.7; core sz: 6\n",
            "c cost: 9.799999999999999; core sz: 4\n",
            "item 0 is classified in cluster 001\n",
            "item 1 is classified in cluster 001\n",
            "item 2 is classified in cluster 111\n",
            "item 3 is classified in cluster 111\n",
            "item 4 is classified in cluster 011\n"
          ]
        },
        {
          "output_type": "stream",
          "name": "stderr",
          "text": [
            "/usr/local/lib/python3.7/dist-packages/ipykernel_launcher.py:16: DeprecationWarning: `np.int` is a deprecated alias for the builtin `int`. To silence this warning, use `int` by itself. Doing this will not modify any behavior and is safe. When replacing `np.int`, you may wish to use e.g. `np.int64` or `np.int32` to specify the precision. If you wish to review your current use, check the release note link for additional information.\n",
            "Deprecated in NumPy 1.20; for more details and guidance: https://numpy.org/devdocs/release/1.20.0-notes.html#deprecations\n",
            "  app.launch_new_instance()\n"
          ]
        }
      ],
      "source": [
        "from pysat.examples.fm import FM\n",
        "from pysat.formula import WCNF\n",
        "import numpy as np\n",
        "\n",
        "W = np.array([[0,1,0.7,0,0.2],\n",
        "              [1,0,4,-7,-5],\n",
        "              [0.7,4,0,100,0],\n",
        "              [0,-7,100,0,-3],\n",
        "              [0.2,-5,0,-3,0]])\n",
        "\n",
        "\n",
        "print(W)\n",
        "\n",
        "N = W.shape[0]\n",
        "print(\"N =\",N)\n",
        "logN = np.int(np.log2(N)) + 1\n",
        "print(\"log(N) =\",logN)\n",
        "\n",
        "def b(i,j):\n",
        "    return i*logN + j + 1\n",
        "\n",
        "def S(i,j):\n",
        "    return b(N-1,logN-1) + i*N + j + 1\n",
        "\n",
        "for i in range(N):\n",
        "    for j in range(logN):\n",
        "        print(\"b({},{}) is encoded in {}\".format(i,j,b(i,j)))\n",
        "\n",
        "for i in range(N):\n",
        "    for j in range(N):\n",
        "        print(\"T({},{}) is encoded in {}\".format(i,j,S(i,j)))\n",
        "\n",
        "wcnf = WCNF()\n",
        "for i in range(N):\n",
        "    for j in range(N):\n",
        "        for k in range(logN):\n",
        "            '''Adding the clauses S_ij -> (b_i^k -> b_j^k)'''\n",
        "            wcnf.append([-S(i,j),-b(i,k),b(j,k)])\n",
        "            '''Adding the clauses S_ij -> (b_j^k -> b_i^k)'''\n",
        "            wcnf.append([-S(i,j),-b(j,k),b(i,k)])\n",
        "\n",
        "        '''Building the cnf for AND_{k=1}^logN (b_i^k <-> b_j^k) -> S_ij\n",
        "        Notice that the cnf of the formula \n",
        "        (a <-> b) and (c <-> d) -> e is the following set of clauses\n",
        "        a or b or c or d or e \n",
        "        -a or -b or c or d or e \n",
        "        a or b or -c or -d or e \n",
        "        -a or -b or -c or -d or e '''\n",
        "        bik_iff_bjk_imp_sij = [[S(i,j)]]\n",
        "        for k in range(logN):\n",
        "            bik_iff_bjk_imp_sij = [c + [b(i,k),b(j,k)] for c in bik_iff_bjk_imp_sij] + \\\n",
        "                 [c + [-b(i, k), -b(j, k)] for c in bik_iff_bjk_imp_sij]\n",
        "        for c in bik_iff_bjk_imp_sij:\n",
        "            wcnf.append(c)\n",
        "        if W[i,j] != 0:\n",
        "            wcnf.append([int(np.sign(W[i,j]))*S(i,j)],weight=np.abs(W[i,j]))\n",
        "\n",
        "fm = FM(wcnf,verbose=10)\n",
        "fm.compute()\n",
        "m = [n for n in fm.model]\n",
        "for i in range(N):\n",
        "    print(\"item {} is classified in cluster {}\".format(i,\"\".join([str(int(m[b(i,j)-1]>0)) for j in range(logN)])))\n"
      ]
    },
    {
      "cell_type": "code",
      "source": [
        ""
      ],
      "metadata": {
        "id": "Ukh4ys2Dhc3F"
      },
      "execution_count": null,
      "outputs": []
    }
  ]
}